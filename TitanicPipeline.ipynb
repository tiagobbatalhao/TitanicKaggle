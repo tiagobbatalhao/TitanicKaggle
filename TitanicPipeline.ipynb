{
 "cells": [
  {
   "cell_type": "markdown",
   "metadata": {},
   "source": [
    "# Description of the project\n",
    "This is my first practical project in Machine Learning, using the Titanic example of Kaggle (https://www.kaggle.com/c/titanic). The goal is to create a model to predict the survival probability of passengers.\n",
    "\n",
    "Here I want to make better use of Pipelines and FeatureUnions"
   ]
  },
  {
   "cell_type": "code",
   "execution_count": 1,
   "metadata": {
    "collapsed": true
   },
   "outputs": [],
   "source": [
    "# Import the relevant packages\n",
    "import pylab as py\n",
    "import pandas as pd # Pandas handles statistical data\n",
    "import sklearn # Machine learning package\n",
    "import sklearn.linear_model\n",
    "import sklearn.neural_network\n",
    "import sklearn.ensemble\n",
    "import sklearn.metrics\n",
    "import sklearn.preprocessing\n",
    "from sklearn.preprocessing import FunctionTransformer\n",
    "import time,datetime\n",
    "import numpy.random as random\n",
    "from sklearn.pipeline import Pipeline,FeatureUnion\n",
    "from sklearn.base import BaseEstimator,TransformerMixin\n",
    "%matplotlib inline\n",
    "\n",
    "# Read training and test data using Pandas\n",
    "data = pd.read_csv(\"data/train.csv\")\n",
    "data_test = pd.read_csv(\"data/test.csv\")"
   ]
  },
  {
   "cell_type": "code",
   "execution_count": 2,
   "metadata": {
    "collapsed": true
   },
   "outputs": [],
   "source": [
    "data['Embarked'] = data['Embarked'].fillna(data['Embarked'].mode()[0])"
   ]
  },
  {
   "cell_type": "code",
   "execution_count": 3,
   "metadata": {},
   "outputs": [
    {
     "name": "stdout",
     "output_type": "stream",
     "text": [
      "<class 'pandas.core.frame.DataFrame'>\n",
      "RangeIndex: 891 entries, 0 to 890\n",
      "Data columns (total 12 columns):\n",
      "PassengerId    891 non-null int64\n",
      "Survived       891 non-null int64\n",
      "Pclass         891 non-null int64\n",
      "Name           891 non-null object\n",
      "Sex            891 non-null object\n",
      "Age            714 non-null float64\n",
      "SibSp          891 non-null int64\n",
      "Parch          891 non-null int64\n",
      "Ticket         891 non-null object\n",
      "Fare           891 non-null float64\n",
      "Cabin          204 non-null object\n",
      "Embarked       891 non-null object\n",
      "dtypes: float64(2), int64(5), object(5)\n",
      "memory usage: 83.6+ KB\n"
     ]
    }
   ],
   "source": [
    "data.info()"
   ]
  },
  {
   "cell_type": "code",
   "execution_count": null,
   "metadata": {
    "collapsed": true
   },
   "outputs": [],
   "source": [
    "\"\"\"\n",
    "Encoding information about port of embarkment\n",
    "\"\"\"\n",
    "processEmbarked = Pipeline([\n",
    "    ('LabelEncoder',sklearn.preprocessing.LabelEncoder()),\n",
    "    ('LabelBinarizer',sklearn.preprocessing.LabelBinarizer())\n",
    "])\n",
    "toFit = data['Embarked']\n",
    "for label,process in processEmbarked.steps:\n",
    "    toFit = process.fit_transform(toFit)"
   ]
  },
  {
   "cell_type": "code",
   "execution_count": 146,
   "metadata": {
    "collapsed": true
   },
   "outputs": [],
   "source": [
    "class chooseFeature(BaseEstimator,TransformerMixin):\n",
    "    def __init__(self,label):\n",
    "        self.label = label\n",
    "    def transform(self,X,*args,**kwargs):\n",
    "        return X[self.label]\n",
    "    def fit(self,*args,**kwargs):\n",
    "        return self"
   ]
  },
  {
   "cell_type": "code",
   "execution_count": 149,
   "metadata": {},
   "outputs": [],
   "source": [
    "\"\"\"\n",
    "Encoding information about port of embarkment\n",
    "\"\"\"\n",
    "processEmbarked = Pipeline([\n",
    "    ('Extraction',chooseFeature('Embarked')),\n",
    "    ('LabelEncoder',sklearn.preprocessing.LabelEncoder()),\n",
    "    ('LabelBinarizer',sklearn.preprocessing.LabelBinarizer())\n",
    "])\n",
    "toFit = data['Embarked']\n",
    "for label,process in processEmbarked.steps[1:]:\n",
    "    toFit = process.fit_transform(toFit)"
   ]
  },
  {
   "cell_type": "code",
   "execution_count": 152,
   "metadata": {},
   "outputs": [],
   "source": [
    "\"\"\"\n",
    "Encoding information about sex\n",
    "\"\"\"\n",
    "processSex = Pipeline([\n",
    "    ('Extraction',chooseFeature('Sex')),\n",
    "    ('LabelEncoder',sklearn.preprocessing.LabelEncoder()),\n",
    "    ('LabelBinarizer',sklearn.preprocessing.LabelBinarizer())\n",
    "])\n",
    "toFit = data['Sex']\n",
    "for label,process in processSex.steps[1:]:\n",
    "    toFit = process.fit_transform(toFit)"
   ]
  },
  {
   "cell_type": "code",
   "execution_count": 157,
   "metadata": {},
   "outputs": [],
   "source": [
    "\"\"\"\n",
    "Encoding information about class\n",
    "\"\"\"\n",
    "processClass = Pipeline([\n",
    "    ('Extraction',chooseFeature('Pclass')),\n",
    "    ('LabelEncoder',sklearn.preprocessing.LabelEncoder()),\n",
    "    ('LabelBinarizer',sklearn.preprocessing.LabelBinarizer())\n",
    "])\n",
    "toFit = data['Pclass']\n",
    "for label,process in processClass.steps[1:]:\n",
    "    toFit = process.fit_transform(toFit)"
   ]
  },
  {
   "cell_type": "code",
   "execution_count": 158,
   "metadata": {},
   "outputs": [],
   "source": [
    "features = FeatureUnion([\n",
    "    ('Sex',processSex),\n",
    "    ('Class',processClass),\n",
    "    ('Embarked',processEmbarked)\n",
    "])"
   ]
  },
  {
   "cell_type": "code",
   "execution_count": 161,
   "metadata": {},
   "outputs": [
    {
     "data": {
      "text/plain": [
       "(418, 7)"
      ]
     },
     "execution_count": 161,
     "metadata": {},
     "output_type": "execute_result"
    }
   ],
   "source": [
    "features.transform(data_test).shape"
   ]
  }
 ],
 "metadata": {
  "kernelspec": {
   "display_name": "Python 3",
   "language": "python",
   "name": "python3"
  },
  "language_info": {
   "codemirror_mode": {
    "name": "ipython",
    "version": 3
   },
   "file_extension": ".py",
   "mimetype": "text/x-python",
   "name": "python",
   "nbconvert_exporter": "python",
   "pygments_lexer": "ipython3",
   "version": "3.6.1"
  }
 },
 "nbformat": 4,
 "nbformat_minor": 2
}
