{
 "cells": [
  {
   "cell_type": "markdown",
   "metadata": {},
   "source": [
    "# Description of the project\n",
    "This is my first practical project in Machine Learning, using the Titanic example of Kaggle (https://www.kaggle.com/c/titanic). The goal is to create a model to predict the survival probability of passengers.\n",
    "\n",
    "Here I want to make better use of Pipelines and FeatureUnions"
   ]
  },
  {
   "cell_type": "code",
   "execution_count": 1,
   "metadata": {
    "collapsed": true
   },
   "outputs": [],
   "source": [
    "# Import the relevant packages\n",
    "import pylab as py\n",
    "import pandas as pd # Pandas handles statistical data\n",
    "import sklearn # Machine learning package\n",
    "import sklearn.linear_model\n",
    "import sklearn.neural_network\n",
    "import sklearn.ensemble\n",
    "import sklearn.metrics\n",
    "import sklearn.preprocessing\n",
    "import time,datetime\n",
    "import numpy.random as random\n",
    "from sklearn.pipeline import Pipeline,FeatureUnion,TransformerMixin\n",
    "%matplotlib inline\n",
    "\n",
    "# Read training and test data using Pandas\n",
    "data = pd.read_csv(\"data/train.csv\")\n",
    "data_test = pd.read_csv(\"data/test.csv\")"
   ]
  },
  {
   "cell_type": "code",
   "execution_count": 2,
   "metadata": {
    "collapsed": true
   },
   "outputs": [],
   "source": [
    "data['Embarked'] = data['Embarked'].fillna(data['Embarked'].mode()[0])"
   ]
  },
  {
   "cell_type": "code",
   "execution_count": 3,
   "metadata": {
    "collapsed": true
   },
   "outputs": [],
   "source": [
    "class addDummy(TransformerMixin):\n",
    "    def __init__(self,label=None):\n",
    "        self.label = label\n",
    "    def fit(self,*args):\n",
    "        return self\n",
    "    def transform(self,X):\n",
    "        if self.label is not None:\n",
    "            arr = pd.Series(X[self.label])\n",
    "        else:\n",
    "            arr = pd.Series(X)\n",
    "        mode = arr.mode()\n",
    "        dummies = pd.get_dummies(arr).drop([mode[0]],axis=1).rename(columns=lambda x:self.label+'_'+str(x))\n",
    "        return dummies\n",
    "    def get_params(self,*args,**kwargs):\n",
    "        return self.label\n",
    "    def fit_transform(self,X,*args):\n",
    "        return self.transform(X)\n",
    "\n",
    "class addFeature(TransformerMixin):\n",
    "    def __init__(self,label):\n",
    "        self.label = label\n",
    "    def fit(self,*args):\n",
    "        return self\n",
    "    def transform(self,X):\n",
    "        return X[[self.label]]\n",
    "    def get_params(self,*args,**kwargs):\n",
    "        return self.label\n",
    "    def fit_transform(self,X,*args):\n",
    "        return self.transform(X)\n",
    "\n",
    "class applyFunction(TransformerMixin):\n",
    "    def __init__(self,function):\n",
    "        self.function = function\n",
    "    def fit(self,*args):\n",
    "        return self\n",
    "    def transform(self,X):\n",
    "        out = X.apply(self.function,axis=1)\n",
    "        return out.values.reshape((len(out),1))\n",
    "    def get_params(self,*args,**kwargs):\n",
    "        return self.function\n",
    "    def fit_transform(self,X,*args):\n",
    "        return self.transform(X)\n",
    "    "
   ]
  },
  {
   "cell_type": "code",
   "execution_count": 14,
   "metadata": {},
   "outputs": [],
   "source": [
    "def SexClassClassifier(x):\n",
    "    for sex in ['male','female']:\n",
    "        for clas in [1,2,3]:\n",
    "            if x['Sex']==sex and x['Pclass']==clas:\n",
    "                return str(sex[0]).upper()+str(clas)\n",
    "def AgeClassifier(x,childrenLimit=16,seniorLimit=48):\n",
    "    age = x['Age']\n",
    "    if py.isnan(age):\n",
    "        return 'unknown'\n",
    "    elif age < childrenLimit:\n",
    "        return 'child'\n",
    "    elif age >= seniorLimit:\n",
    "        return 'senior'\n",
    "    else:\n",
    "        return 'adult'\n",
    "def FamilyClassifierComplete(x):\n",
    "    family = (x['SibSp'],x['Parch'])\n",
    "    if family[0]==0 and family[1]==0:\n",
    "        return 0\n",
    "    elif family[0]==0 and family[1]>0:\n",
    "        return 1\n",
    "    elif family[0]>0 and family[1]==0:\n",
    "        return 2\n",
    "    elif family[0]>0 and family[1]>0:\n",
    "        return 3\n",
    "def FamilyClassifierSimplified(x):\n",
    "    family = (x['SibSp'],x['Parch'])\n",
    "    if family[0]==0 and family[1]==0:\n",
    "        return 0\n",
    "    elif family[0]==0 and family[1]>0:\n",
    "        return 1\n",
    "    elif family[0]>0 and family[1]==0:\n",
    "        return 1\n",
    "    elif family[0]>0 and family[1]>0:\n",
    "        return 1\n",
    "    \n",
    "featureChoice = FeatureUnion([\n",
    "    ('SexClass',Pipeline([\n",
    "        ('toLabel',applyFunction(SexClassClassifier)),\n",
    "        ('toEncode',sklearn.preprocessing.LabelEncoder()),\n",
    "        ('toDummies',sklearn.preprocessing.LabelBinarizer()),\n",
    "    ])),\n",
    "    ('Agegroup',Pipeline([\n",
    "        ('toLabel',applyFunction(AgeClassifier)),\n",
    "        ('toEncode',sklearn.preprocessing.LabelEncoder()),\n",
    "        ('toDummies',sklearn.preprocessing.LabelBinarizer()),\n",
    "    ])),\n",
    "    ('Embarked',Pipeline([\n",
    "        ('toLabel',addFeature('Embarked')),\n",
    "        ('toEncode',sklearn.preprocessing.LabelEncoder()),\n",
    "        ('toDummies',sklearn.preprocessing.LabelBinarizer()),\n",
    "    ])),\n",
    "    ('FamilyComplete',Pipeline([\n",
    "        ('toLabel',applyFunction(FamilyClassifierComplete)),\n",
    "        ('toDummies',sklearn.preprocessing.LabelBinarizer()),\n",
    "    ])),\n",
    "])"
   ]
  },
  {
   "cell_type": "code",
   "execution_count": 15,
   "metadata": {
    "collapsed": true
   },
   "outputs": [],
   "source": [
    "transformLabels = [x[0] for x in featureChoice.transformer_list]\n",
    "try:\n",
    "    index = transformLabels.index('SexClass')\n",
    "    labels = ['F1','F2','F3','M1','M2','M3']\n",
    "    featureChoice.transformer_list[index][1].named_steps['toEncode'].fit(labels)\n",
    "    featureChoice.transformer_list[index][1].named_steps['toDummies'].fit(range(len(labels)))\n",
    "except ValueError:\n",
    "    pass\n",
    "\n",
    "try:\n",
    "    index = transformLabels.index('Agegroup')\n",
    "    labels = ['child','adult','senior','unknown']\n",
    "    featureChoice.transformer_list[index][1].named_steps['toEncode'].fit(labels)\n",
    "    featureChoice.transformer_list[index][1].named_steps['toDummies'].fit(range(len(labels)))\n",
    "except ValueError:\n",
    "    pass\n",
    "\n",
    "try:\n",
    "    index = transformLabels.index('Embarked')\n",
    "    labels = data['Embarked'].unique()\n",
    "    featureChoice.transformer_list[index][1].named_steps['toEncode'].fit(labels)\n",
    "    featureChoice.transformer_list[index][1].named_steps['toDummies'].fit(range(len(labels)))\n",
    "except ValueError:\n",
    "    pass\n",
    "\n",
    "try:\n",
    "    index = transformLabels.index('FamilySimplified')\n",
    "    print(index)\n",
    "    featureChoice.transformer_list[index][1].named_steps['toDummies'].fit(range(2))\n",
    "except ValueError:\n",
    "    pass\n",
    "\n",
    "try:\n",
    "    index = transformLabels.index('FamilyComplete')\n",
    "    featureChoice.transformer_list[index][1].named_steps['toDummies'].fit(range(4))\n",
    "except ValueError:\n",
    "    pass"
   ]
  },
  {
   "cell_type": "code",
   "execution_count": 16,
   "metadata": {},
   "outputs": [
    {
     "data": {
      "text/plain": [
       "LabelBinarizer(neg_label=0, pos_label=1, sparse_output=False)"
      ]
     },
     "execution_count": 16,
     "metadata": {},
     "output_type": "execute_result"
    }
   ],
   "source": [
    "labels = ['F1','F2','F3','M1','M2','M3']\n",
    "featureChoice.transformer_list[0][1].named_steps['toDummies'].fit(labels)"
   ]
  },
  {
   "cell_type": "code",
   "execution_count": 17,
   "metadata": {},
   "outputs": [
    {
     "name": "stderr",
     "output_type": "stream",
     "text": [
      "/Users/tiagobatalhao/anaconda/lib/python3.6/site-packages/sklearn/preprocessing/label.py:147: DataConversionWarning: A column-vector y was passed when a 1d array was expected. Please change the shape of y to (n_samples, ), for example using ravel().\n",
      "  y = column_or_1d(y, warn=True)\n",
      "/Users/tiagobatalhao/anaconda/lib/python3.6/site-packages/numpy/lib/arraysetops.py:395: FutureWarning: elementwise comparison failed; returning scalar instead, but in the future will perform elementwise comparison\n",
      "  mask |= (ar1 == a)\n"
     ]
    }
   ],
   "source": [
    "d=featureChoice.transform(data)"
   ]
  },
  {
   "cell_type": "code",
   "execution_count": null,
   "metadata": {},
   "outputs": [],
   "source": [
    "d.shape"
   ]
  },
  {
   "cell_type": "code",
   "execution_count": null,
   "metadata": {},
   "outputs": [],
   "source": [
    "d"
   ]
  },
  {
   "cell_type": "code",
   "execution_count": null,
   "metadata": {
    "collapsed": true
   },
   "outputs": [],
   "source": [
    "pipe = Pipeline([\n",
    "    ('features',featureChoice),\n",
    "    ('model',sklearn.linear_model.LogisticRegression())\n",
    "])"
   ]
  },
  {
   "cell_type": "code",
   "execution_count": null,
   "metadata": {},
   "outputs": [],
   "source": [
    "pipe.fit(data)"
   ]
  },
  {
   "cell_type": "code",
   "execution_count": null,
   "metadata": {},
   "outputs": [],
   "source": [
    "py.array(range(10)).ravel().shape"
   ]
  },
  {
   "cell_type": "code",
   "execution_count": null,
   "metadata": {
    "collapsed": true
   },
   "outputs": [],
   "source": []
  }
 ],
 "metadata": {
  "kernelspec": {
   "display_name": "Python 3",
   "language": "python",
   "name": "python3"
  },
  "language_info": {
   "codemirror_mode": {
    "name": "ipython",
    "version": 3
   },
   "file_extension": ".py",
   "mimetype": "text/x-python",
   "name": "python",
   "nbconvert_exporter": "python",
   "pygments_lexer": "ipython3",
   "version": "3.6.1"
  }
 },
 "nbformat": 4,
 "nbformat_minor": 2
}
