{
 "cells": [
  {
   "cell_type": "markdown",
   "metadata": {
    "deletable": true,
    "editable": true
   },
   "source": [
    "# Description of the project\n",
    "This is my first practical project in Machine Learning, using the Titanic example of Kaggle (https://www.kaggle.com/c/titanic). The goal is to create a model to predict the survival probability of passengers."
   ]
  },
  {
   "cell_type": "code",
   "execution_count": 683,
   "metadata": {
    "collapsed": false,
    "deletable": true,
    "editable": true
   },
   "outputs": [],
   "source": [
    "# Import the relevant packages\n",
    "import pylab as py\n",
    "import pandas as pd # Pandas handles statistical data\n",
    "import sklearn # Machine learning package\n",
    "import sklearn.linear_model\n",
    "import sklearn.neural_network\n",
    "import sklearn.ensemble\n",
    "import sklearn.metrics\n",
    "import sklearn.preprocessing\n",
    "import time,datetime\n",
    "import numpy.random as random\n",
    "%matplotlib inline"
   ]
  },
  {
   "cell_type": "code",
   "execution_count": 68,
   "metadata": {
    "collapsed": false
   },
   "outputs": [],
   "source": [
    "\"\"\"\n",
    "A simple FiveThirtyEight palette for Seaborn plots.\n",
    "\"\"\"\n",
    "\n",
    "import seaborn as sns\n",
    "import matplotlib.pyplot as plt\n",
    "\n",
    "if False:\n",
    "    five_thirty_eight = [\n",
    "        \"#30a2da\",\n",
    "        \"#fc4f30\",\n",
    "        \"#e5ae38\",\n",
    "        \"#6d904f\",\n",
    "        \"#8b8b8b\",\n",
    "    ]\n",
    "\n",
    "    sns.set_palette(five_thirty_eight)\n",
    "    sns.palplot(sns.color_palette())\n",
    "    plt.show()"
   ]
  },
  {
   "cell_type": "markdown",
   "metadata": {
    "deletable": true,
    "editable": true
   },
   "source": [
    "# Read and clean data\n",
    "Read data and analyse which features are important."
   ]
  },
  {
   "cell_type": "code",
   "execution_count": 69,
   "metadata": {
    "collapsed": true,
    "deletable": true,
    "editable": true
   },
   "outputs": [],
   "source": [
    "# Read training and test data using Pandas\n",
    "data = pd.read_csv(\"data/train.csv\")\n",
    "data_test = pd.read_csv(\"data/test.csv\")"
   ]
  },
  {
   "cell_type": "code",
   "execution_count": 70,
   "metadata": {
    "collapsed": false,
    "deletable": true,
    "editable": true
   },
   "outputs": [
    {
     "name": "stdout",
     "output_type": "stream",
     "text": [
      "<class 'pandas.core.frame.DataFrame'>\n",
      "RangeIndex: 891 entries, 0 to 890\n",
      "Data columns (total 12 columns):\n",
      "PassengerId    891 non-null int64\n",
      "Survived       891 non-null int64\n",
      "Pclass         891 non-null int64\n",
      "Name           891 non-null object\n",
      "Sex            891 non-null object\n",
      "Age            714 non-null float64\n",
      "SibSp          891 non-null int64\n",
      "Parch          891 non-null int64\n",
      "Ticket         891 non-null object\n",
      "Fare           891 non-null float64\n",
      "Cabin          204 non-null object\n",
      "Embarked       889 non-null object\n",
      "dtypes: float64(2), int64(5), object(5)\n",
      "memory usage: 83.6+ KB\n",
      "<class 'pandas.core.frame.DataFrame'>\n",
      "RangeIndex: 418 entries, 0 to 417\n",
      "Data columns (total 11 columns):\n",
      "PassengerId    418 non-null int64\n",
      "Pclass         418 non-null int64\n",
      "Name           418 non-null object\n",
      "Sex            418 non-null object\n",
      "Age            332 non-null float64\n",
      "SibSp          418 non-null int64\n",
      "Parch          418 non-null int64\n",
      "Ticket         418 non-null object\n",
      "Fare           417 non-null float64\n",
      "Cabin          91 non-null object\n",
      "Embarked       418 non-null object\n",
      "dtypes: float64(2), int64(4), object(5)\n",
      "memory usage: 36.0+ KB\n",
      "(None, None)\n"
     ]
    }
   ],
   "source": [
    "# Print a description of the files\n",
    "print(data.info(),data_test.info())"
   ]
  },
  {
   "cell_type": "markdown",
   "metadata": {},
   "source": [
    "# Visualize data"
   ]
  },
  {
   "cell_type": "markdown",
   "metadata": {},
   "source": [
    "Some of the information, such as 'PassengerID' and 'Ticket', is useless for the purpose of survaviblity prediction."
   ]
  },
  {
   "cell_type": "markdown",
   "metadata": {},
   "source": [
    "'Survived' is the y-label, the dependant variable. To optimize algorithms, we convert it to uint8"
   ]
  },
  {
   "cell_type": "code",
   "execution_count": 71,
   "metadata": {
    "collapsed": false,
    "deletable": true,
    "editable": true
   },
   "outputs": [],
   "source": [
    "data['Survived'] = data['Survived'].astype('uint8')"
   ]
  },
  {
   "cell_type": "markdown",
   "metadata": {},
   "source": [
    "## Gender and class"
   ]
  },
  {
   "cell_type": "code",
   "execution_count": 72,
   "metadata": {
    "collapsed": false,
    "deletable": true,
    "editable": true
   },
   "outputs": [
    {
     "data": {
      "text/plain": [
       "<seaborn.axisgrid.FacetGrid at 0x113851590>"
      ]
     },
     "execution_count": 72,
     "metadata": {},
     "output_type": "execute_result"
    },
    {
     "data": {
      "image/png": "[encoded data removed]",
      "text/plain": [
       "<matplotlib.figure.Figure at 0x1111c9550>"
      ]
     },
     "metadata": {},
     "output_type": "display_data"
    }
   ],
   "source": [
    "\"\"\"\n",
    "Example available at\n",
    "https://seaborn.pydata.org/examples/factorplot_bars.html\n",
    "\"\"\"\n",
    "g = sns.factorplot(x=\"Pclass\", y=\"Survived\", hue=\"Sex\", data=data, size=6, kind=\"bar\")\n",
    "#g.despine(left=True)\n",
    "g.set_ylabels(\"Survival probability\")"
   ]
  },
  {
   "cell_type": "code",
   "execution_count": 73,
   "metadata": {
    "collapsed": false
   },
   "outputs": [
    {
     "data": {
      "text/plain": [
       "<seaborn.axisgrid.FacetGrid at 0x1136ea150>"
      ]
     },
     "execution_count": 73,
     "metadata": {},
     "output_type": "execute_result"
    },
    {
     "data": {
      "image/png": "[encoded data removed]",
      "text/plain": [
       "<matplotlib.figure.Figure at 0x1134cc650>"
      ]
     },
     "metadata": {},
     "output_type": "display_data"
    }
   ],
   "source": [
    "g = sns.factorplot(x=\"Sex\", y=\"Survived\", hue=\"Pclass\", data=data, size=6, kind=\"bar\")\n",
    "#g.despine(left=True)\n",
    "g.set_ylabels(\"Survival probability\")"
   ]
  },
  {
   "cell_type": "markdown",
   "metadata": {},
   "source": [
    "An interesting fact appears. For women, being in 2nd class is almost as good as being in 1st class, while 3rd class is much worse. For men, being in 2nd class is almost as bad as being in 3rd class, while 1st class is much better. For this reason, I will group this two features in one."
   ]
  },
  {
   "cell_type": "code",
   "execution_count": 74,
   "metadata": {
    "collapsed": false
   },
   "outputs": [],
   "source": [
    "def function(x):\n",
    "    for sex in ['male','female']:\n",
    "        for clas in [1,2,3]:\n",
    "            if x['Sex'] == sex and x['Pclass'] == clas:\n",
    "                return sex[0].upper() + str(clas)\n",
    "data['SexClass'] = data.apply(function,axis=1)\n",
    "data_test['SexClass'] = data_test.apply(function,axis=1)"
   ]
  },
  {
   "cell_type": "code",
   "execution_count": 75,
   "metadata": {
    "collapsed": false
   },
   "outputs": [
    {
     "data": {
      "text/plain": [
       "<seaborn.axisgrid.FacetGrid at 0x1136e0310>"
      ]
     },
     "execution_count": 75,
     "metadata": {},
     "output_type": "execute_result"
    },
    {
     "data": {
      "image/png": "[encoded data removed]",
      "text/plain": [
       "<matplotlib.figure.Figure at 0x113390a90>"
      ]
     },
     "metadata": {},
     "output_type": "display_data"
    }
   ],
   "source": [
    "g = sns.factorplot(x=\"SexClass\", y=\"Survived\", data=data, size=6, kind=\"bar\",order=sorted(data['SexClass'].unique()))\n",
    "#g.despine(left=True)\n",
    "g.set_ylabels(\"Survival probability\")\n",
    "g.set(ylim=(0, 1))"
   ]
  },
  {
   "cell_type": "markdown",
   "metadata": {},
   "source": [
    "## Age\n",
    "Age is represented as a float and there are many missing values."
   ]
  },
  {
   "cell_type": "code",
   "execution_count": 76,
   "metadata": {
    "collapsed": false
   },
   "outputs": [],
   "source": [
    "data['Age'] = data.apply(lambda x:int(x['Age']) if not py.isnan(x['Age']) else py.nan,axis=1)"
   ]
  },
  {
   "cell_type": "code",
   "execution_count": 77,
   "metadata": {
    "collapsed": false
   },
   "outputs": [
    {
     "data": {
      "text/plain": [
       "<Container object of 3 artists>"
      ]
     },
     "execution_count": 77,
     "metadata": {},
     "output_type": "execute_result"
    },
    {
     "data": {
      "image/png": "[encoded data removed]",
      "text/plain": [
       "<matplotlib.figure.Figure at 0x111f40310>"
      ]
     },
     "metadata": {},
     "output_type": "display_data"
    },
    {
     "data": {
      "image/png": "[encoded data removed]",
      "text/plain": [
       "<matplotlib.figure.Figure at 0x1140106d0>"
      ]
     },
     "metadata": {},
     "output_type": "display_data"
    }
   ],
   "source": [
    "\"\"\"\n",
    "Example available at\n",
    "https://seaborn.pydata.org/examples/horizontal_barplot.html\n",
    "\"\"\"\n",
    "histogram_ages = {}\n",
    "for age in range(0,100):\n",
    "    survived = len(data[(data['Age']==age)&(data['Survived']==1)])\n",
    "    dead = len(data[(data['Age']==age)&(data['Survived']==0)])\n",
    "    histogram_ages[age] = {'Survived':survived,'Died':dead,'Total':survived+dead,'Age':age}\n",
    "histogram_ages = pd.DataFrame.from_dict(histogram_ages,orient='index')\n",
    "#g = sns.barplot(y='Survived',x='Age',data=histogram_ages)\n",
    "fig,ax = py.subplots(1,3,figsize=(3*6.4,1*4.8))\n",
    "ax[0].plot(histogram_ages['Age'],histogram_ages['Survived'],'b.-')\n",
    "ax[1].plot(histogram_ages['Age'],histogram_ages['Died'],'r.-')\n",
    "ax[2].plot(histogram_ages['Age'],histogram_ages['Total'],'k.-')\n",
    "histogram_ages['SurvProb'] = histogram_ages.apply(lambda x:x['Survived']*1.0/x['Total'] if x['Total']>0 else py.nan,axis=1)\n",
    "histogram_ages['SurvProb_std'] = histogram_ages.apply(lambda x:py.sqrt(x['SurvProb']*(1-x['SurvProb'])/x['Total']) if x['Total']>0 else py.nan,axis=1)\n",
    "fig2,ax2 = py.subplots(1,1,figsize=(1*6.4,1*4.8))\n",
    "ax2.errorbar(histogram_ages['Age'],histogram_ages['SurvProb'],yerr=histogram_ages['SurvProb_std'],fmt='k.')"
   ]
  },
  {
   "cell_type": "markdown",
   "metadata": {},
   "source": [
    "Age does not seem to be very predictive, except for a child/adult/senior division.\n",
    "There is a sharp increse at the number of people at 16 year's old, suggesting that 16-year-olds can be considered adults. There's also a shift in the probability of survival at 48-years-ols, suggesting that 48-year-olds can be considered seniors."
   ]
  },
  {
   "cell_type": "code",
   "execution_count": 78,
   "metadata": {
    "collapsed": false
   },
   "outputs": [
    {
     "data": {
      "text/plain": [
       "(-5, 70)"
      ]
     },
     "execution_count": 78,
     "metadata": {},
     "output_type": "execute_result"
    },
    {
     "data": {
      "image/png": "[encoded data removed]",
      "text/plain": [
       "<matplotlib.figure.Figure at 0x1134ccd10>"
      ]
     },
     "metadata": {},
     "output_type": "display_data"
    }
   ],
   "source": [
    "childrenLimit = 16\n",
    "seniorLimit = 48\n",
    "fig3,ax3 = py.subplots(1,1,figsize=(1*6.4,1*4.8))\n",
    "children = histogram_ages[histogram_ages['Age']<childrenLimit]\n",
    "ax3.bar(py.array(children['Age']),\n",
    "        height=2*py.array(children['SurvProb_std']),\n",
    "        bottom=py.array(children['SurvProb'])-py.array(children['SurvProb_std']),\n",
    "        color='r')\n",
    "adult = histogram_ages[(histogram_ages['Age']>=childrenLimit)&(histogram_ages['Age']<seniorLimit)]\n",
    "ax3.bar(py.array(adult['Age']),\n",
    "        height=2*py.array(adult['SurvProb_std']),\n",
    "        bottom=py.array(adult['SurvProb'])-py.array(adult['SurvProb_std']),\n",
    "        color='b')\n",
    "senior = histogram_ages[histogram_ages['Age']>=seniorLimit]\n",
    "ax3.bar(py.array(senior['Age']),\n",
    "        height=2*py.array(senior['SurvProb_std']),\n",
    "        bottom=py.array(senior['SurvProb'])-py.array(senior['SurvProb_std']),\n",
    "        color='g')\n",
    "ax3.set_ylim(-0.00,1.00)\n",
    "ax3.set_xlim(-5,70)"
   ]
  },
  {
   "cell_type": "code",
   "execution_count": 79,
   "metadata": {
    "collapsed": false
   },
   "outputs": [],
   "source": [
    "def categorizeAgeGroup(row):\n",
    "    if py.isnan(row['Age']):\n",
    "        return 'unknown'\n",
    "    if row['Age'] < childrenLimit:\n",
    "        return 'child'\n",
    "    elif row['Age'] < seniorLimit:\n",
    "        return 'adult'\n",
    "    else:\n",
    "        return 'senior'\n",
    "data['Agegroup'] = data.apply(categorizeAgeGroup,axis=1)\n",
    "data_test['Agegroup'] = data_test.apply(categorizeAgeGroup,axis=1)"
   ]
  },
  {
   "cell_type": "code",
   "execution_count": 80,
   "metadata": {
    "collapsed": false,
    "deletable": true,
    "editable": true
   },
   "outputs": [
    {
     "data": {
      "text/plain": [
       "<seaborn.axisgrid.FacetGrid at 0x113734ad0>"
      ]
     },
     "execution_count": 80,
     "metadata": {},
     "output_type": "execute_result"
    },
    {
     "data": {
      "image/png": "[encoded data removed]",
      "text/plain": [
       "<matplotlib.figure.Figure at 0x113734990>"
      ]
     },
     "metadata": {},
     "output_type": "display_data"
    }
   ],
   "source": [
    "order = ['child','adult','senior','unknown']\n",
    "g = sns.factorplot(x='Agegroup',y='Survived',data=data,order=order,kind='bar')\n",
    "g.set(ylim=(0, 1))\n"
   ]
  },
  {
   "cell_type": "markdown",
   "metadata": {},
   "source": [
    "The male/female dynamics in children are very different than in adults. I will now create a new category where male/female difference only makes sense for adults."
   ]
  },
  {
   "cell_type": "code",
   "execution_count": 668,
   "metadata": {
    "collapsed": true
   },
   "outputs": [],
   "source": [
    "def function(x):\n",
    "    for sex in ['male','female']:\n",
    "        for clas in [1,2,3]:\n",
    "            if x['Sex'] == sex and x['Pclass'] == clas:\n",
    "                if py.isnan(x['Age']) or x['Age']>=childrenLimit:\n",
    "                    return sex[0].upper() + str(clas)\n",
    "                else:\n",
    "                    return 'C' + str(clas)\n",
    "data['SexClassAge'] = data.apply(function,axis=1)\n",
    "data_test['SexClassAge'] = data_test.apply(function,axis=1)"
   ]
  },
  {
   "cell_type": "code",
   "execution_count": 670,
   "metadata": {
    "collapsed": false
   },
   "outputs": [
    {
     "data": {
      "text/plain": [
       "M3    319\n",
       "M1    119\n",
       "F3    114\n",
       "M2     99\n",
       "F1     91\n",
       "F2     66\n",
       "C3     58\n",
       "C2     19\n",
       "C1      6\n",
       "Name: SexClassAge, dtype: int64"
      ]
     },
     "execution_count": 670,
     "metadata": {},
     "output_type": "execute_result"
    }
   ],
   "source": [
    "data['SexClassAge'].value_counts()"
   ]
  },
  {
   "cell_type": "markdown",
   "metadata": {
    "collapsed": false,
    "deletable": true,
    "editable": true
   },
   "source": [
    "## Family members\n",
    "People travelling alone died in a much higher rate than people travelling with family."
   ]
  },
  {
   "cell_type": "code",
   "execution_count": 104,
   "metadata": {
    "collapsed": false,
    "deletable": true,
    "editable": true
   },
   "outputs": [],
   "source": [
    "def getFamilyStatusComplete(row):\n",
    "    if (row['SibSp']==0) & (row['Parch']==0):\n",
    "        return 'Alone'\n",
    "    elif (row['SibSp']==0) & (row['Parch']>0):\n",
    "        return 'With parents'\n",
    "    elif (row['SibSp']>0) & (row['Parch']==0):\n",
    "        return 'With siblings'\n",
    "    elif (row['SibSp']>0) & (row['Parch']>0):\n",
    "        return 'With parents and siblings'\n",
    "def getFamilyStatusSimplified(row):\n",
    "    if (row['SibSp']==0) & (row['Parch']==0):\n",
    "        return 'Alone'\n",
    "    else:\n",
    "        return 'With family'\n",
    "data['FamilyStatusComplete'] = data.apply(getFamilyStatusComplete,axis=1)\n",
    "data['FamilyStatusSimplified'] = data.apply(getFamilyStatusSimplified,axis=1)\n",
    "data_test['FamilyStatusComplete'] = data_test.apply(getFamilyStatusComplete,axis=1)\n",
    "data_test['FamilyStatusSimplified'] = data_test.apply(getFamilyStatusSimplified,axis=1)"
   ]
  },
  {
   "cell_type": "code",
   "execution_count": 82,
   "metadata": {
    "collapsed": false
   },
   "outputs": [
    {
     "data": {
      "text/plain": [
       "<seaborn.axisgrid.FacetGrid at 0x1136ae710>"
      ]
     },
     "execution_count": 82,
     "metadata": {},
     "output_type": "execute_result"
    },
    {
     "data": {
      "image/png": "[encoded data removed]",
      "text/plain": [
       "<matplotlib.figure.Figure at 0x113af5e50>"
      ]
     },
     "metadata": {},
     "output_type": "display_data"
    }
   ],
   "source": [
    "order = ['Alone','With siblings','With parents','With parents and siblings']\n",
    "g = sns.factorplot(x='FamilyStatusComplete',y='Survived',data=data,order=order,kind='bar')\n",
    "g.set(ylim=(0, 1))\n",
    "g.set_xticklabels(rotation=90)"
   ]
  },
  {
   "cell_type": "code",
   "execution_count": 83,
   "metadata": {
    "collapsed": false
   },
   "outputs": [
    {
     "data": {
      "text/plain": [
       "<seaborn.axisgrid.FacetGrid at 0x11372af50>"
      ]
     },
     "execution_count": 83,
     "metadata": {},
     "output_type": "execute_result"
    },
    {
     "data": {
      "image/png": "[encoded data removed]",
      "text/plain": [
       "<matplotlib.figure.Figure at 0x11372a550>"
      ]
     },
     "metadata": {},
     "output_type": "display_data"
    }
   ],
   "source": [
    "order = ['Alone','With family']\n",
    "g = sns.factorplot(x='FamilyStatusSimplified',y='Survived',data=data,order=order,kind='bar')\n",
    "g.set(ylim=(0, 1))\n",
    "g.set_xticklabels(rotation=90)"
   ]
  },
  {
   "cell_type": "markdown",
   "metadata": {},
   "source": [
    "## Fare"
   ]
  },
  {
   "cell_type": "code",
   "execution_count": 84,
   "metadata": {
    "collapsed": false
   },
   "outputs": [
    {
     "data": {
      "text/plain": [
       "count    891.000000\n",
       "mean       2.962246\n",
       "std        0.969048\n",
       "min        0.000000\n",
       "25%        2.187218\n",
       "50%        2.737881\n",
       "75%        3.465736\n",
       "max        6.240917\n",
       "dtype: float64"
      ]
     },
     "execution_count": 84,
     "metadata": {},
     "output_type": "execute_result"
    }
   ],
   "source": [
    "data.apply(lambda x:py.log(x['Fare']+1),axis=1).describe()"
   ]
  },
  {
   "cell_type": "code",
   "execution_count": 87,
   "metadata": {
    "collapsed": false
   },
   "outputs": [
    {
     "data": {
      "text/plain": [
       "[<matplotlib.lines.Line2D at 0x114922950>]"
      ]
     },
     "execution_count": 87,
     "metadata": {},
     "output_type": "execute_result"
    },
    {
     "data": {
      "image/png": "[encoded data removed]",
      "text/plain": [
       "<matplotlib.figure.Figure at 0x11421e710>"
      ]
     },
     "metadata": {},
     "output_type": "display_data"
    }
   ],
   "source": [
    "histogram_survived = py.histogram(data[data['Survived']==1]['Fare'],bins='auto')\n",
    "histogram_died = py.histogram(data[data['Survived']==0]['Fare'],bins='auto')\n",
    "fig,ax = py.subplots()\n",
    "ax.plot(histogram_survived[1][:-1],histogram_survived[0],'k-')\n",
    "ax.plot(histogram_died[1][:-1],histogram_died[0],'r-')"
   ]
  },
  {
   "cell_type": "code",
   "execution_count": 105,
   "metadata": {
    "collapsed": false,
    "deletable": true,
    "editable": true
   },
   "outputs": [
    {
     "data": {
      "text/plain": [
       "<matplotlib.legend.Legend at 0x11401cf10>"
      ]
     },
     "execution_count": 105,
     "metadata": {},
     "output_type": "execute_result"
    },
    {
     "data": {
      "image/png": "[encoded data removed]",
      "text/plain": [
       "<matplotlib.figure.Figure at 0x114e6a450>"
      ]
     },
     "metadata": {},
     "output_type": "display_data"
    }
   ],
   "source": [
    "data['LogFare'] = data.apply(lambda x:py.log2(x['Fare']+0.0) if x['Fare']>0 else None,axis=1)\n",
    "data_test['LogFare'] = data_test.apply(lambda x:py.log2(x['Fare']+0.0) if x['Fare']>0 else None,axis=1)\n",
    "arr = data[data['Survived']==1]['LogFare']\n",
    "histogram_survived = py.histogram(arr[~py.isnan(arr)],bins='auto')\n",
    "arr = data[data['Survived']==0]['LogFare']\n",
    "histogram_died = py.histogram(arr[~py.isnan(arr)],bins='auto')\n",
    "arr = data['LogFare']\n",
    "histogram_total = py.histogram(arr[~py.isnan(arr)],bins='auto')\n",
    "fig,ax = py.subplots()\n",
    "xarray = 0.5 * py.array(histogram_survived[1][:-1]) + 0.5 * py.array(histogram_survived[1][1:])\n",
    "ax.plot(xarray,histogram_survived[0],'b.-',label='Survived')\n",
    "xarray = 0.5 * py.array(histogram_died[1][:-1]) + 0.5 * py.array(histogram_died[1][1:])\n",
    "ax.plot(xarray,histogram_died[0],'r.-',label='Died')\n",
    "xarray = 0.5 * py.array(histogram_total[1][:-1]) + 0.5 * py.array(histogram_total[1][1:])\n",
    "ax.plot(xarray,histogram_total[0],'k.-',label='Total')\n",
    "ax.set_xticklabels([2**x for x in ax.get_xticks()])\n",
    "ax.set_yscale('log')\n",
    "ax.legend()"
   ]
  },
  {
   "cell_type": "code",
   "execution_count": 106,
   "metadata": {
    "collapsed": false
   },
   "outputs": [
    {
     "data": {
      "text/plain": [
       "<matplotlib.legend.Legend at 0x114e6a690>"
      ]
     },
     "execution_count": 106,
     "metadata": {},
     "output_type": "execute_result"
    },
    {
     "data": {
      "image/png": "[encoded data removed]",
      "text/plain": [
       "<matplotlib.figure.Figure at 0x1147cdad0>"
      ]
     },
     "metadata": {},
     "output_type": "display_data"
    }
   ],
   "source": [
    "arr = data[data['Pclass']==1]['LogFare']\n",
    "histogram_1st = py.histogram(arr[~py.isnan(arr)],bins='auto')\n",
    "arr = data[data['Pclass']==2]['LogFare']\n",
    "histogram_2nd = py.histogram(arr[~py.isnan(arr)],bins='auto')\n",
    "arr = data[data['Pclass']==3]['LogFare']\n",
    "histogram_3rd = py.histogram(arr[~py.isnan(arr)],bins='auto')\n",
    "fig,ax = py.subplots()\n",
    "xarray = 0.5 * py.array(histogram_1st[1][:-1]) + 0.5 * py.array(histogram_1st[1][1:])\n",
    "ax.plot(xarray,histogram_1st[0],'b.-',label='1st')\n",
    "xarray = 0.5 * py.array(histogram_2nd[1][:-1]) + 0.5 * py.array(histogram_2nd[1][1:])\n",
    "ax.plot(xarray,histogram_2nd[0],'r.-',label='2nd')\n",
    "xarray = 0.5 * py.array(histogram_3rd[1][:-1]) + 0.5 * py.array(histogram_3rd[1][1:])\n",
    "ax.plot(xarray,histogram_3rd[0],'k.-',label='3rd')\n",
    "ax.set_xticklabels([2**x for x in ax.get_xticks()])\n",
    "ax.set_yscale('linear')\n",
    "ax.legend()"
   ]
  },
  {
   "cell_type": "markdown",
   "metadata": {
    "collapsed": false,
    "deletable": true,
    "editable": true
   },
   "source": [
    "Fare seems to be highly correlated with class and so would not bring much additional predictive power."
   ]
  },
  {
   "cell_type": "markdown",
   "metadata": {},
   "source": [
    "## Port of embarkment\n",
    "Passengers were embarked in three ports. Some missing values will be associated to the dominant port"
   ]
  },
  {
   "cell_type": "code",
   "execution_count": 112,
   "metadata": {
    "collapsed": false
   },
   "outputs": [],
   "source": [
    "fillna = data['Embarked'].mode()\n",
    "data['Embarked'] = data['Embarked'].fillna(fillna)\n",
    "data_test['Embarked'] = data_test['Embarked'].fillna(fillna)"
   ]
  },
  {
   "cell_type": "code",
   "execution_count": 117,
   "metadata": {
    "collapsed": false
   },
   "outputs": [
    {
     "data": {
      "text/plain": [
       "<seaborn.axisgrid.FacetGrid at 0x11420a110>"
      ]
     },
     "execution_count": 117,
     "metadata": {},
     "output_type": "execute_result"
    },
    {
     "data": {
      "image/png": "[encoded data removed]",
      "text/plain": [
       "<matplotlib.figure.Figure at 0x114e86850>"
      ]
     },
     "metadata": {},
     "output_type": "display_data"
    }
   ],
   "source": [
    "g = sns.factorplot(x='Embarked',y='Survived',data=data,kind='bar')\n",
    "g.set(ylim=(0,1))"
   ]
  },
  {
   "cell_type": "markdown",
   "metadata": {},
   "source": [
    "It seems that people who embarked in the alternative ports did better."
   ]
  },
  {
   "cell_type": "markdown",
   "metadata": {
    "collapsed": false,
    "deletable": true,
    "editable": true
   },
   "source": [
    "## Cabin\n",
    "'Cabin' has too many missing values, so it'll be dropped"
   ]
  },
  {
   "cell_type": "code",
   "execution_count": 16,
   "metadata": {
    "collapsed": false,
    "deletable": true,
    "editable": true
   },
   "outputs": [],
   "source": [
    "# 'Cabin' has too many missing values, so it'll be dropped\n",
    "data.drop(['Cabin'],axis=1,inplace=True)\n",
    "data_test.drop(['Cabin'],axis=1,inplace=True)"
   ]
  },
  {
   "cell_type": "markdown",
   "metadata": {},
   "source": [
    "## Name\n",
    "Possible features associated with that\n",
    "* Title (strongly correlated with Sex)\n",
    "* Frequency of last name (large families travelling together?)\n",
    "* Given a nickname?\n",
    "* Given a travel companion?"
   ]
  },
  {
   "cell_type": "code",
   "execution_count": 533,
   "metadata": {
    "collapsed": false
   },
   "outputs": [
    {
     "name": "stdout",
     "output_type": "stream",
     "text": [
      "0                                Braund, Mr. Owen Harris\n",
      "1      Cumings, Mrs. John Bradley (Florence Briggs Th...\n",
      "2                                 Heikkinen, Miss. Laina\n",
      "3           Futrelle, Mrs. Jacques Heath (Lily May Peel)\n",
      "4                               Allen, Mr. William Henry\n",
      "5                                       Moran, Mr. James\n",
      "6                                McCarthy, Mr. Timothy J\n",
      "7                         Palsson, Master. Gosta Leonard\n",
      "8      Johnson, Mrs. Oscar W (Elisabeth Vilhelmina Berg)\n",
      "9                    Nasser, Mrs. Nicholas (Adele Achem)\n",
      "10                       Sandstrom, Miss. Marguerite Rut\n",
      "11                              Bonnell, Miss. Elizabeth\n",
      "12                        Saundercock, Mr. William Henry\n",
      "13                           Andersson, Mr. Anders Johan\n",
      "14                  Vestrom, Miss. Hulda Amanda Adolfina\n",
      "15                      Hewlett, Mrs. (Mary D Kingcome) \n",
      "16                                  Rice, Master. Eugene\n",
      "17                          Williams, Mr. Charles Eugene\n",
      "18     Vander Planke, Mrs. Julius (Emelia Maria Vande...\n",
      "19                               Masselmani, Mrs. Fatima\n",
      "20                                  Fynney, Mr. Joseph J\n",
      "21                                 Beesley, Mr. Lawrence\n",
      "22                           McGowan, Miss. Anna \"Annie\"\n",
      "23                          Sloper, Mr. William Thompson\n",
      "24                         Palsson, Miss. Torborg Danira\n",
      "25     Asplund, Mrs. Carl Oscar (Selma Augusta Emilia...\n",
      "26                               Emir, Mr. Farred Chehab\n",
      "27                        Fortune, Mr. Charles Alexander\n",
      "28                         O'Dwyer, Miss. Ellen \"Nellie\"\n",
      "29                                   Todoroff, Mr. Lalio\n",
      "                             ...                        \n",
      "861                          Giles, Mr. Frederick Edward\n",
      "862    Swift, Mrs. Frederick Joel (Margaret Welles Ba...\n",
      "863                    Sage, Miss. Dorothy Edith \"Dolly\"\n",
      "864                               Gill, Mr. John William\n",
      "865                             Bystrom, Mrs. (Karolina)\n",
      "866                         Duran y More, Miss. Asuncion\n",
      "867                 Roebling, Mr. Washington Augustus II\n",
      "868                          van Melkebeke, Mr. Philemon\n",
      "869                      Johnson, Master. Harold Theodor\n",
      "870                                    Balkic, Mr. Cerin\n",
      "871     Beckwith, Mrs. Richard Leonard (Sallie Monypeny)\n",
      "872                             Carlsson, Mr. Frans Olof\n",
      "873                          Vander Cruyssen, Mr. Victor\n",
      "874                Abelson, Mrs. Samuel (Hannah Wizosky)\n",
      "875                     Najib, Miss. Adele Kiamie \"Jane\"\n",
      "876                        Gustafsson, Mr. Alfred Ossian\n",
      "877                                 Petroff, Mr. Nedelio\n",
      "878                                   Laleff, Mr. Kristo\n",
      "879        Potter, Mrs. Thomas Jr (Lily Alexenia Wilson)\n",
      "880         Shelley, Mrs. William (Imanita Parrish Hall)\n",
      "881                                   Markun, Mr. Johann\n",
      "882                         Dahlberg, Miss. Gerda Ulrika\n",
      "883                        Banfield, Mr. Frederick James\n",
      "884                               Sutehall, Mr. Henry Jr\n",
      "885                 Rice, Mrs. William (Margaret Norton)\n",
      "886                                Montvila, Rev. Juozas\n",
      "887                         Graham, Miss. Margaret Edith\n",
      "888             Johnston, Miss. Catherine Helen \"Carrie\"\n",
      "889                                Behr, Mr. Karl Howell\n",
      "890                                  Dooley, Mr. Patrick\n",
      "Name: Name, Length: 891, dtype: object\n"
     ]
    }
   ],
   "source": [
    "print data['Name']"
   ]
  },
  {
   "cell_type": "code",
   "execution_count": 597,
   "metadata": {
    "collapsed": true
   },
   "outputs": [],
   "source": [
    "def processName(name):\n",
    "    out = {}\n",
    "    commaSeparate = name.split(',')\n",
    "    out['LastName'] = commaSeparate[0]\n",
    "    out['Title'] = commaSeparate[1].split()[0]\n",
    "    out['GivenName'] = ' '.join(commaSeparate[1].split()[1:])\n",
    "    return out\n",
    "namesProcess = data.apply(lambda x:processName(x['Name']),axis=1)\n",
    "data['NameTitle'] = [x['Title'] for x in namesProcess]\n",
    "data['LastName'] = [x['LastName'] for x in namesProcess]\n",
    "data['GivenName'] = [x['GivenName'] for x in namesProcess]\n",
    "namesProcess = data_test.apply(lambda x:processName(x['Name']),axis=1)\n",
    "data_test['NameTitle'] = [x['Title'] for x in namesProcess]\n",
    "data_test['LastName'] = [x['LastName'] for x in namesProcess]\n",
    "data_test['GivenName'] = [x['GivenName'] for x in namesProcess]\n",
    "\n",
    "\n"
   ]
  },
  {
   "cell_type": "code",
   "execution_count": 598,
   "metadata": {
    "collapsed": false
   },
   "outputs": [],
   "source": [
    "surnames = pd.concat([data,data_test])['LastName'].value_counts()\n",
    "data['SurnameFrequency'] = data.apply(lambda x:surnames[x['LastName']],axis=1)\n",
    "data_test['SurnameFrequency'] = data_test.apply(lambda x:surnames[x['LastName']],axis=1)"
   ]
  },
  {
   "cell_type": "code",
   "execution_count": 599,
   "metadata": {
    "collapsed": true
   },
   "outputs": [],
   "source": [
    "data['Nickname'] = data.apply(lambda x:'\"' in x['Name'],axis=1)\n",
    "data['Companion'] = data.apply(lambda x:'(' in x['Name'],axis=1)\n",
    "data_test['Nickname'] = data_test.apply(lambda x:'\"' in x['Name'],axis=1)\n",
    "data_test['Companion'] = data_test.apply(lambda x:'(' in x['Name'],axis=1)"
   ]
  },
  {
   "cell_type": "code",
   "execution_count": 600,
   "metadata": {
    "collapsed": false
   },
   "outputs": [
    {
     "data": {
      "text/plain": [
       "1     447\n",
       "2     168\n",
       "3     121\n",
       "4      62\n",
       "6      45\n",
       "5      19\n",
       "11     16\n",
       "8      10\n",
       "7       3\n",
       "Name: SurnameFrequency, dtype: int64"
      ]
     },
     "execution_count": 600,
     "metadata": {},
     "output_type": "execute_result"
    },
    {
     "data": {
      "image/png": "[encoded data removed]",
      "text/plain": [
       "<matplotlib.figure.Figure at 0x114d913d0>"
      ]
     },
     "metadata": {},
     "output_type": "display_data"
    }
   ],
   "source": [
    "g = sns.factorplot(x='SurnameFrequency',y='Survived',hue='FamilyStatusSimplified',data=data,kind='bar')\n",
    "data['SurnameFrequency'].value_counts()"
   ]
  },
  {
   "cell_type": "code",
   "execution_count": 601,
   "metadata": {
    "collapsed": false
   },
   "outputs": [
    {
     "data": {
      "text/plain": [
       "<seaborn.axisgrid.FacetGrid at 0x117d23190>"
      ]
     },
     "execution_count": 601,
     "metadata": {},
     "output_type": "execute_result"
    },
    {
     "data": {
      "image/png": "[encoded data removed]",
      "text/plain": [
       "<matplotlib.figure.Figure at 0x117d23150>"
      ]
     },
     "metadata": {},
     "output_type": "display_data"
    }
   ],
   "source": [
    "g = sns.factorplot(x='Nickname',y='Survived',data=data,kind='bar')\n",
    "data['Nickname'].value_counts()\n",
    "g.set(ylim=(0,1))"
   ]
  },
  {
   "cell_type": "code",
   "execution_count": 584,
   "metadata": {
    "collapsed": false
   },
   "outputs": [
    {
     "data": {
      "text/plain": [
       "<seaborn.axisgrid.FacetGrid at 0x118a58150>"
      ]
     },
     "execution_count": 584,
     "metadata": {},
     "output_type": "execute_result"
    },
    {
     "data": {
      "image/png": "[encoded data removed]",
      "text/plain": [
       "<matplotlib.figure.Figure at 0x118a3dc50>"
      ]
     },
     "metadata": {},
     "output_type": "display_data"
    }
   ],
   "source": [
    "g = sns.factorplot(x='Nickname',y='Companion',data=data,kind='bar')\n",
    "data['Companion'].value_counts()\n",
    "g.set(ylim=(0,1))"
   ]
  },
  {
   "cell_type": "code",
   "execution_count": 590,
   "metadata": {
    "collapsed": false
   },
   "outputs": [
    {
     "data": {
      "image/png": "[encoded data removed]",
      "text/plain": [
       "<matplotlib.figure.Figure at 0x11922c1d0>"
      ]
     },
     "metadata": {},
     "output_type": "display_data"
    }
   ],
   "source": [
    "corr = data[['Nickname','Companion','Survived']].corr()\n",
    "g = sns.heatmap(corr,vmin=-1,vmax=1,annot=True)"
   ]
  },
  {
   "cell_type": "markdown",
   "metadata": {
    "collapsed": false,
    "deletable": true,
    "editable": true
   },
   "source": [
    "# Choice of features\n",
    "We get to the important part of choosing the features.\n",
    "* 'Sexclass': a combined feature that has very high predictive power.\n",
    "* 'Agegroup': child/adult/senior\n",
    "* 'FamilyStatusComplete' or 'FamilyStatusSimplified'\n",
    "* 'Embarked'\n",
    "All of these are categorical variables\n"
   ]
  },
  {
   "cell_type": "code",
   "execution_count": 675,
   "metadata": {
    "collapsed": false,
    "deletable": true,
    "editable": true
   },
   "outputs": [],
   "source": [
    "def genDummies(dataset):\n",
    "    dummies = []\n",
    "    mode = dataset['SexClassAge'].mode()\n",
    "    dummies.append(pd.get_dummies(dataset['SexClassAge']).drop([mode[0]],axis=1).rename(columns=lambda x:'SexClassAge_'+str(x)))\n",
    "    mode = dataset['Agegroup'].mode()\n",
    "    dummies.append(pd.get_dummies(dataset['Agegroup']).drop([mode[0]],axis=1).rename(columns=lambda x:'Agegroup_'+str(x)))\n",
    "    mode = dataset['FamilyStatusComplete'].mode()\n",
    "    dummies.append(pd.get_dummies(dataset['FamilyStatusComplete']).drop([mode[0]],axis=1).rename(columns=lambda x:'FamilyStatus_'+str(x)))\n",
    "    mode = dataset['Embarked'].mode()\n",
    "    dummies.append(pd.get_dummies(dataset['Embarked']).drop([mode[0]],axis=1).rename(columns=lambda x:'Embarked_'+str(x)))\n",
    "    return dummies\n",
    "newData = pd.concat(genDummies(data),axis=1)\n",
    "newTest = pd.concat(genDummies(data_test),axis=1)\n",
    "newData = pd.concat([newData,data['Nickname'].astype('uint8'),data['Companion'].astype('uint8')],axis=1)\n",
    "newTest = pd.concat([newTest,data_test['Nickname'].astype('uint8'),data_test['Companion'].astype('uint8')],axis=1)\n",
    "\n",
    "newData = pd.concat([newData,data['Survived'].astype('uint8')],axis=1)\n"
   ]
  },
  {
   "cell_type": "code",
   "execution_count": null,
   "metadata": {
    "collapsed": false
   },
   "outputs": [],
   "source": []
  },
  {
   "cell_type": "code",
   "execution_count": 676,
   "metadata": {
    "collapsed": false,
    "deletable": true,
    "editable": true
   },
   "outputs": [
    {
     "data": {
      "image/png": "[encoded data removed]",
      "text/plain": [
       "<matplotlib.figure.Figure at 0x119061790>"
      ]
     },
     "metadata": {},
     "output_type": "display_data"
    }
   ],
   "source": [
    "#corr = newData.drop('Survived',axis=1).corr()\n",
    "corr = newData.drop([],axis=1).corr()\n",
    "g = sns.heatmap(corr,vmin=-1,vmax=1,annot=False,cmap='RdBu')"
   ]
  },
  {
   "cell_type": "code",
   "execution_count": 626,
   "metadata": {
    "collapsed": false
   },
   "outputs": [
    {
     "name": "stdout",
     "output_type": "stream",
     "text": [
      "<class 'pandas.core.frame.DataFrame'>\n",
      "RangeIndex: 891 entries, 0 to 890\n",
      "Data columns (total 16 columns):\n",
      "SexClass_F1                               891 non-null uint8\n",
      "SexClass_F2                               891 non-null uint8\n",
      "SexClass_F3                               891 non-null uint8\n",
      "SexClass_M1                               891 non-null uint8\n",
      "SexClass_M2                               891 non-null uint8\n",
      "Agegroup_child                            891 non-null uint8\n",
      "Agegroup_senior                           891 non-null uint8\n",
      "Agegroup_unknown                          891 non-null uint8\n",
      "FamilyStatus_With parents                 891 non-null uint8\n",
      "FamilyStatus_With parents and siblings    891 non-null uint8\n",
      "FamilyStatus_With siblings                891 non-null uint8\n",
      "Embarked_C                                891 non-null uint8\n",
      "Embarked_Q                                891 non-null uint8\n",
      "Survived                                  891 non-null uint8\n",
      "Nickname                                  891 non-null uint8\n",
      "Companion                                 891 non-null uint8\n",
      "dtypes: uint8(16)\n",
      "memory usage: 14.0 KB\n"
     ]
    }
   ],
   "source": [
    "newData.info()"
   ]
  },
  {
   "cell_type": "markdown",
   "metadata": {
    "collapsed": true,
    "deletable": true,
    "editable": true
   },
   "source": [
    "# Using logistic regression"
   ]
  },
  {
   "cell_type": "code",
   "execution_count": 677,
   "metadata": {
    "collapsed": false
   },
   "outputs": [],
   "source": [
    "random.seed(0)\n",
    "indices = newData.index\n",
    "trainIndices = sorted(random.choice(indices,replace=False,size=int(len(newData.index)*0.7)))\n",
    "testIndices = [x for x in indices if x not in trainIndices]\n",
    "trainSet = newData.loc[trainIndices]\n",
    "testSet = newData.loc[testIndices]"
   ]
  },
  {
   "cell_type": "code",
   "execution_count": 678,
   "metadata": {
    "collapsed": false
   },
   "outputs": [
    {
     "name": "stdout",
     "output_type": "stream",
     "text": [
      "Train score:  0.8379\n",
      "Test score:  0.7575\n"
     ]
    }
   ],
   "source": [
    "logisticRegression = sklearn.linear_model.LogisticRegression(C=1e-1)\n",
    "# Fit training set\n",
    "logisticRegression.fit(trainSet.drop('Survived',axis=1),trainSet['Survived'])\n",
    "# Get training score\n",
    "scoreTrain = logisticRegression.score(trainSet.drop('Survived',axis=1),trainSet['Survived'])\n",
    "# Get test score\n",
    "scoreTest = logisticRegression.score(testSet.drop('Survived',axis=1),testSet['Survived'])\n",
    "print 'Train score: {:7.4f}'.format(scoreTrain)\n",
    "print 'Test score: {:7.4f}'.format(scoreTest)\n"
   ]
  },
  {
   "cell_type": "code",
   "execution_count": 679,
   "metadata": {
    "collapsed": false
   },
   "outputs": [
    {
     "data": {
      "text/html": [
       "<div>\n",
       "<style>\n",
       "    .dataframe thead tr:only-child th {\n",
       "        text-align: right;\n",
       "    }\n",
       "\n",
       "    .dataframe thead th {\n",
       "        text-align: left;\n",
       "    }\n",
       "\n",
       "    .dataframe tbody tr th {\n",
       "        vertical-align: top;\n",
       "    }\n",
       "</style>\n",
       "<table border=\"1\" class=\"dataframe\">\n",
       "  <thead>\n",
       "    <tr style=\"text-align: right;\">\n",
       "      <th></th>\n",
       "      <th>coef</th>\n",
       "      <th>OddsRatio</th>\n",
       "    </tr>\n",
       "  </thead>\n",
       "  <tbody>\n",
       "    <tr>\n",
       "      <th>Agegroup_child</th>\n",
       "      <td>0.557848</td>\n",
       "      <td>1.746910</td>\n",
       "    </tr>\n",
       "    <tr>\n",
       "      <th>Agegroup_senior</th>\n",
       "      <td>0.041028</td>\n",
       "      <td>1.041881</td>\n",
       "    </tr>\n",
       "    <tr>\n",
       "      <th>Agegroup_unknown</th>\n",
       "      <td>-0.343117</td>\n",
       "      <td>0.709555</td>\n",
       "    </tr>\n",
       "    <tr>\n",
       "      <th>Companion</th>\n",
       "      <td>0.733404</td>\n",
       "      <td>2.082157</td>\n",
       "    </tr>\n",
       "    <tr>\n",
       "      <th>Embarked_C</th>\n",
       "      <td>0.394483</td>\n",
       "      <td>1.483616</td>\n",
       "    </tr>\n",
       "    <tr>\n",
       "      <th>Embarked_Q</th>\n",
       "      <td>0.122625</td>\n",
       "      <td>1.130460</td>\n",
       "    </tr>\n",
       "    <tr>\n",
       "      <th>FamilyStatus_With parents</th>\n",
       "      <td>0.288216</td>\n",
       "      <td>1.334046</td>\n",
       "    </tr>\n",
       "    <tr>\n",
       "      <th>FamilyStatus_With parents and siblings</th>\n",
       "      <td>-0.063504</td>\n",
       "      <td>0.938470</td>\n",
       "    </tr>\n",
       "    <tr>\n",
       "      <th>FamilyStatus_With siblings</th>\n",
       "      <td>0.087870</td>\n",
       "      <td>1.091846</td>\n",
       "    </tr>\n",
       "    <tr>\n",
       "      <th>Nickname</th>\n",
       "      <td>0.696275</td>\n",
       "      <td>2.006265</td>\n",
       "    </tr>\n",
       "    <tr>\n",
       "      <th>SexClassAge_C1</th>\n",
       "      <td>0.107968</td>\n",
       "      <td>1.114012</td>\n",
       "    </tr>\n",
       "    <tr>\n",
       "      <th>SexClassAge_C2</th>\n",
       "      <td>0.538298</td>\n",
       "      <td>1.713088</td>\n",
       "    </tr>\n",
       "    <tr>\n",
       "      <th>SexClassAge_C3</th>\n",
       "      <td>-0.088417</td>\n",
       "      <td>0.915379</td>\n",
       "    </tr>\n",
       "    <tr>\n",
       "      <th>SexClassAge_F1</th>\n",
       "      <td>1.435452</td>\n",
       "      <td>4.201543</td>\n",
       "    </tr>\n",
       "    <tr>\n",
       "      <th>SexClassAge_F2</th>\n",
       "      <td>1.224085</td>\n",
       "      <td>3.401053</td>\n",
       "    </tr>\n",
       "    <tr>\n",
       "      <th>SexClassAge_F3</th>\n",
       "      <td>0.102820</td>\n",
       "      <td>1.108292</td>\n",
       "    </tr>\n",
       "    <tr>\n",
       "      <th>SexClassAge_M1</th>\n",
       "      <td>-0.041975</td>\n",
       "      <td>0.958894</td>\n",
       "    </tr>\n",
       "    <tr>\n",
       "      <th>SexClassAge_M2</th>\n",
       "      <td>-0.744558</td>\n",
       "      <td>0.474944</td>\n",
       "    </tr>\n",
       "  </tbody>\n",
       "</table>\n",
       "</div>"
      ],
      "text/plain": [
       "                                            coef  OddsRatio\n",
       "Agegroup_child                          0.557848   1.746910\n",
       "Agegroup_senior                         0.041028   1.041881\n",
       "Agegroup_unknown                       -0.343117   0.709555\n",
       "Companion                               0.733404   2.082157\n",
       "Embarked_C                              0.394483   1.483616\n",
       "Embarked_Q                              0.122625   1.130460\n",
       "FamilyStatus_With parents               0.288216   1.334046\n",
       "FamilyStatus_With parents and siblings -0.063504   0.938470\n",
       "FamilyStatus_With siblings              0.087870   1.091846\n",
       "Nickname                                0.696275   2.006265\n",
       "SexClassAge_C1                          0.107968   1.114012\n",
       "SexClassAge_C2                          0.538298   1.713088\n",
       "SexClassAge_C3                         -0.088417   0.915379\n",
       "SexClassAge_F1                          1.435452   4.201543\n",
       "SexClassAge_F2                          1.224085   3.401053\n",
       "SexClassAge_F3                          0.102820   1.108292\n",
       "SexClassAge_M1                         -0.041975   0.958894\n",
       "SexClassAge_M2                         -0.744558   0.474944"
      ]
     },
     "execution_count": 679,
     "metadata": {},
     "output_type": "execute_result"
    }
   ],
   "source": [
    "featureImportance = pd.DataFrame.from_dict({'coef':{x:y for x,y in zip(trainSet.drop('Survived',axis=1).columns,logisticRegression.coef_[0])}})\n",
    "featureImportance['OddsRatio'] = featureImportance.apply(lambda x:py.exp(x['coef']),axis=1)\n",
    "featureImportance"
   ]
  },
  {
   "cell_type": "code",
   "execution_count": 680,
   "metadata": {
    "collapsed": false
   },
   "outputs": [
    {
     "name": "stdout",
     "output_type": "stream",
     "text": [
      "Train score:  0.8571\n",
      "Test score:  0.7761\n"
     ]
    }
   ],
   "source": [
    "neuralNetwork = sklearn.neural_network.MLPClassifier()\n",
    "# Fit training set\n",
    "neuralNetwork.fit(trainSet.drop('Survived',axis=1),trainSet['Survived'])\n",
    "# Get training score\n",
    "scoreTrain = neuralNetwork.score(trainSet.drop('Survived',axis=1),trainSet['Survived'])\n",
    "# Get test score\n",
    "scoreTest = neuralNetwork.score(testSet.drop('Survived',axis=1),testSet['Survived'])\n",
    "print 'Train score: {:7.4f}'.format(scoreTrain)\n",
    "print 'Test score: {:7.4f}'.format(scoreTest)\n",
    "predict = neuralNetwork.predict(newTest)"
   ]
  },
  {
   "cell_type": "code",
   "execution_count": 644,
   "metadata": {
    "collapsed": true
   },
   "outputs": [],
   "source": [
    "## Exporting output\n",
    "output = neuralNetwork.predict(newTest)\n",
    "timestring = datetime.datetime.fromtimestamp(time.time()).strftime('%Y%m%d%H%M')\n",
    "csvFile = open('OutputTitanic_{}.csv'.format(timestring),'w')\n",
    "csvFile.write('PassengerId,Survived\\n')\n",
    "for pid,out in zip(data_test['PassengerId'],output):\n",
    "    csvFile.write('{:d},{:d}\\n'.format(pid,out))\n",
    "csvFile.close()"
   ]
  },
  {
   "cell_type": "code",
   "execution_count": 645,
   "metadata": {
    "collapsed": false
   },
   "outputs": [
    {
     "name": "stdout",
     "output_type": "stream",
     "text": [
      "Train score:  0.8571\n",
      "Test score:  0.6667\n"
     ]
    }
   ],
   "source": [
    "randomForest = sklearn.ensemble.RandomForestClassifier()\n",
    "# Fit training set\n",
    "randomForest.fit(trainSet.drop('Survived',axis=1),trainSet['Survived'])\n",
    "# Get training score\n",
    "scoreTrain = randomForest.score(trainSet.drop('Survived',axis=1),trainSet['Survived'])\n",
    "# Get test score\n",
    "scoreTest = randomForest.score(testSet.drop('Survived',axis=1),testSet['Survived'])\n",
    "print 'Train score: {:7.4f}'.format(scoreTrain)\n",
    "print 'Test score: {:7.4f}'.format(scoreTest)"
   ]
  },
  {
   "cell_type": "code",
   "execution_count": 206,
   "metadata": {
    "collapsed": false
   },
   "outputs": [
    {
     "data": {
      "text/plain": [
       "[<matplotlib.lines.Line2D at 0x1159c1790>]"
      ]
     },
     "execution_count": 206,
     "metadata": {},
     "output_type": "execute_result"
    },
    {
     "data": {
      "image/png": "[encoded data removed]",
      "text/plain": [
       "<matplotlib.figure.Figure at 0x1164b2950>"
      ]
     },
     "metadata": {},
     "output_type": "display_data"
    },
    {
     "data": {
      "image/png": "[encoded data removed]",
      "text/plain": [
       "<matplotlib.figure.Figure at 0x11571d890>"
      ]
     },
     "metadata": {},
     "output_type": "display_data"
    }
   ],
   "source": [
    "## Changing regularization parameter of logistic regression\n",
    "def trainLogisticRegression(c):\n",
    "    logreg = sklearn.linear_model.LogisticRegression(C=c)\n",
    "    logreg.fit(trainSet.drop('Survived',axis=1),trainSet['Survived'])\n",
    "    scoreTrain = logreg.score(trainSet.drop('Survived',axis=1),trainSet['Survived'])\n",
    "    scoreTest = logreg.score(testSet.drop('Survived',axis=1),testSet['Survived'])\n",
    "    return scoreTrain,scoreTest\n",
    "#Crange = [1e-4,3e-4,1e-3,3e-3,1e-2,3e-2,1e-1,3e-1,1e0,3e0,1e1,3e1]\n",
    "Crange = py.exp(py.linspace(py.log(1e-3),py.log(1e1),10))\n",
    "scores = map(trainLogisticRegression,Crange)\n",
    "fig,ax = py.subplots()\n",
    "ax.plot(Crange,[x[0] for x in scores],'r.-',label='Train score')\n",
    "ax.plot(Crange,[x[1] for x in scores],'b.-',label='Train score')\n",
    "ax.set_xscale('log')\n",
    "fig2,ax2 = py.subplots()\n",
    "ax2.plot([x[0] for x in scores],[x[1] for x in scores],'kx-')"
   ]
  },
  {
   "cell_type": "code",
   "execution_count": 216,
   "metadata": {
    "collapsed": false
   },
   "outputs": [
    {
     "data": {
      "text/plain": [
       "[<matplotlib.lines.Line2D at 0x113d60910>]"
      ]
     },
     "execution_count": 216,
     "metadata": {},
     "output_type": "execute_result"
    },
    {
     "data": {
      "image/png": "[encoded data removed]",
      "text/plain": [
       "<matplotlib.figure.Figure at 0x115e8a690>"
      ]
     },
     "metadata": {},
     "output_type": "display_data"
    },
    {
     "data": {
      "image/png": "[encoded data removed]",
      "text/plain": [
       "<matplotlib.figure.Figure at 0x113d44090>"
      ]
     },
     "metadata": {},
     "output_type": "display_data"
    }
   ],
   "source": [
    "## Changing regularization parameter of logistic regression\n",
    "def trainNeuralNetwork(c):\n",
    "    logreg = sklearn.neural_network.MLPClassifier(alpha=c)\n",
    "    logreg.fit(trainSet.drop('Survived',axis=1),trainSet['Survived'])\n",
    "    scoreTrain = logreg.score(trainSet.drop('Survived',axis=1),trainSet['Survived'])\n",
    "    scoreTest = logreg.score(testSet.drop('Survived',axis=1),testSet['Survived'])\n",
    "    return scoreTrain,scoreTest\n",
    "#Crange = [1e-4,3e-4,1e-3,3e-3,1e-2,3e-2,1e-1,3e-1,1e0,3e0,1e1,3e1]\n",
    "Crange = py.exp(py.linspace(py.log(1e-4),py.log(1e0),10))\n",
    "scores = map(trainNeuralNetwork,Crange)\n",
    "fig,ax = py.subplots()\n",
    "ax.plot(Crange,[x[0] for x in scores],'r.-',label='Train score')\n",
    "ax.plot(Crange,[x[1] for x in scores],'b.-',label='Test score')\n",
    "ax.set_xscale('log')\n",
    "fig2,ax2 = py.subplots()\n",
    "ax2.plot([x[0] for x in scores],[x[1] for x in scores],'kx-')"
   ]
  },
  {
   "cell_type": "code",
   "execution_count": 231,
   "metadata": {
    "collapsed": false
   },
   "outputs": [
    {
     "data": {
      "text/plain": [
       "[<matplotlib.lines.Line2D at 0x115525810>]"
      ]
     },
     "execution_count": 231,
     "metadata": {},
     "output_type": "execute_result"
    },
    {
     "data": {
      "image/png": "[encoded data removed]",
      "text/plain": [
       "<matplotlib.figure.Figure at 0x114e5ee90>"
      ]
     },
     "metadata": {},
     "output_type": "display_data"
    },
    {
     "data": {
      "image/png": "[encoded data removed]",
      "text/plain": [
       "<matplotlib.figure.Figure at 0x115525450>"
      ]
     },
     "metadata": {},
     "output_type": "display_data"
    }
   ],
   "source": [
    "## Changing regularization parameter of logistic regression\n",
    "def trainNeuralNetwork(c):\n",
    "    logreg = sklearn.neural_network.MLPClassifier(activation='relu',alpha=c,max_iter=100,hidden_layer_sizes=300)\n",
    "    logreg.fit(trainSet.drop('Survived',axis=1),trainSet['Survived'])\n",
    "    scoreTrain = logreg.score(trainSet.drop('Survived',axis=1),trainSet['Survived'])\n",
    "    scoreTest = logreg.score(testSet.drop('Survived',axis=1),testSet['Survived'])\n",
    "    return scoreTrain,scoreTest\n",
    "#Crange = [1e-4,3e-4,1e-3,3e-3,1e-2,3e-2,1e-1,3e-1,1e0,3e0,1e1,3e1]\n",
    "Crange = py.exp(py.linspace(py.log(1e-7),py.log(1e-1),10))\n",
    "scores = map(trainNeuralNetwork,Crange)\n",
    "fig,ax = py.subplots()\n",
    "ax.plot(Crange,[x[0] for x in scores],'r.-',label='Train score')\n",
    "ax.plot(Crange,[x[1] for x in scores],'b.-',label='Test score')\n",
    "ax.set_xscale('log')\n",
    "#ax.set_ylim(0.7,0.9)\n",
    "fig2,ax2 = py.subplots()\n",
    "ax2.plot([x[0] for x in scores],[x[1] for x in scores],'kx-')"
   ]
  },
  {
   "cell_type": "code",
   "execution_count": 235,
   "metadata": {
    "collapsed": false
   },
   "outputs": [
    {
     "name": "stdout",
     "output_type": "stream",
     "text": [
      "Help on module sklearn.pipeline in sklearn:\n",
      "\n",
      "NAME\n",
      "    sklearn.pipeline\n",
      "\n",
      "FILE\n",
      "    /Library/Python/2.7/site-packages/sklearn/pipeline.py\n",
      "\n",
      "DESCRIPTION\n",
      "    The :mod:`sklearn.pipeline` module implements utilities to build a composite\n",
      "    estimator, as a chain of transforms and estimators.\n",
      "\n",
      "CLASSES\n",
      "    sklearn.base.TransformerMixin(__builtin__.object)\n",
      "        FeatureUnion(_BasePipeline, sklearn.base.TransformerMixin)\n",
      "    _BasePipeline(abc.NewBase)\n",
      "        FeatureUnion(_BasePipeline, sklearn.base.TransformerMixin)\n",
      "        Pipeline\n",
      "    \n",
      "    class FeatureUnion(_BasePipeline, sklearn.base.TransformerMixin)\n",
      "     |  Concatenates results of multiple transformer objects.\n",
      "     |  \n",
      "     |  This estimator applies a list of transformer objects in parallel to the\n",
      "     |  input data, then concatenates the results. This is useful to combine\n",
      "     |  several feature extraction mechanisms into a single transformer.\n",
      "     |  \n",
      "     |  Parameters of the transformers may be set using its name and the parameter\n",
      "     |  name separated by a '__'. A transformer may be replaced entirely by\n",
      "     |  setting the parameter with its name to another transformer,\n",
      "     |  or removed by setting to ``None``.\n",
      "     |  \n",
      "     |  Read more in the :ref:`User Guide <feature_union>`.\n",
      "     |  \n",
      "     |  Parameters\n",
      "     |  ----------\n",
      "     |  transformer_list: list of (string, transformer) tuples\n",
      "     |      List of transformer objects to be applied to the data. The first\n",
      "     |      half of each tuple is the name of the transformer.\n",
      "     |  \n",
      "     |  n_jobs: int, optional\n",
      "     |      Number of jobs to run in parallel (default 1).\n",
      "     |  \n",
      "     |  transformer_weights: dict, optional\n",
      "     |      Multiplicative weights for features per transformer.\n",
      "     |      Keys are transformer names, values the weights.\n",
      "     |  \n",
      "     |  Method resolution order:\n",
      "     |      FeatureUnion\n",
      "     |      _BasePipeline\n",
      "     |      abc.NewBase\n",
      "     |      sklearn.base.BaseEstimator\n",
      "     |      sklearn.base.TransformerMixin\n",
      "     |      __builtin__.object\n",
      "     |  \n",
      "     |  Methods defined here:\n",
      "     |  \n",
      "     |  __init__(self, transformer_list, n_jobs=1, transformer_weights=None)\n",
      "     |  \n",
      "     |  fit(self, X, y=None)\n",
      "     |      Fit all transformers using X.\n",
      "     |      \n",
      "     |      Parameters\n",
      "     |      ----------\n",
      "     |      X : iterable or array-like, depending on transformers\n",
      "     |          Input data, used to fit transformers.\n",
      "     |      \n",
      "     |      y : array-like, shape (n_samples, ...), optional\n",
      "     |          Targets for supervised learning.\n",
      "     |      \n",
      "     |      Returns\n",
      "     |      -------\n",
      "     |      self : FeatureUnion\n",
      "     |          This estimator\n",
      "     |  \n",
      "     |  fit_transform(self, X, y=None, **fit_params)\n",
      "     |      Fit all transformers, transform the data and concatenate results.\n",
      "     |      \n",
      "     |      Parameters\n",
      "     |      ----------\n",
      "     |      X : iterable or array-like, depending on transformers\n",
      "     |          Input data to be transformed.\n",
      "     |      \n",
      "     |      y : array-like, shape (n_samples, ...), optional\n",
      "     |          Targets for supervised learning.\n",
      "     |      \n",
      "     |      Returns\n",
      "     |      -------\n",
      "     |      X_t : array-like or sparse matrix, shape (n_samples, sum_n_components)\n",
      "     |          hstack of results of transformers. sum_n_components is the\n",
      "     |          sum of n_components (output dimension) over transformers.\n",
      "     |  \n",
      "     |  get_feature_names(self)\n",
      "     |      Get feature names from all transformers.\n",
      "     |      \n",
      "     |      Returns\n",
      "     |      -------\n",
      "     |      feature_names : list of strings\n",
      "     |          Names of the features produced by transform.\n",
      "     |  \n",
      "     |  get_params(self, deep=True)\n",
      "     |      Get parameters for this estimator.\n",
      "     |      \n",
      "     |      Parameters\n",
      "     |      ----------\n",
      "     |      deep: boolean, optional\n",
      "     |          If True, will return the parameters for this estimator and\n",
      "     |          contained subobjects that are estimators.\n",
      "     |      \n",
      "     |      Returns\n",
      "     |      -------\n",
      "     |      params : mapping of string to any\n",
      "     |          Parameter names mapped to their values.\n",
      "     |  \n",
      "     |  set_params(self, **kwargs)\n",
      "     |      Set the parameters of this estimator.\n",
      "     |      \n",
      "     |      Valid parameter keys can be listed with ``get_params()``.\n",
      "     |      \n",
      "     |      Returns\n",
      "     |      -------\n",
      "     |      self\n",
      "     |  \n",
      "     |  transform(self, X)\n",
      "     |      Transform X separately by each transformer, concatenate results.\n",
      "     |      \n",
      "     |      Parameters\n",
      "     |      ----------\n",
      "     |      X : iterable or array-like, depending on transformers\n",
      "     |          Input data to be transformed.\n",
      "     |      \n",
      "     |      Returns\n",
      "     |      -------\n",
      "     |      X_t : array-like or sparse matrix, shape (n_samples, sum_n_components)\n",
      "     |          hstack of results of transformers. sum_n_components is the\n",
      "     |          sum of n_components (output dimension) over transformers.\n",
      "     |  \n",
      "     |  ----------------------------------------------------------------------\n",
      "     |  Data and other attributes defined here:\n",
      "     |  \n",
      "     |  __abstractmethods__ = frozenset([])\n",
      "     |  \n",
      "     |  ----------------------------------------------------------------------\n",
      "     |  Methods inherited from sklearn.base.BaseEstimator:\n",
      "     |  \n",
      "     |  __getstate__(self)\n",
      "     |  \n",
      "     |  __repr__(self)\n",
      "     |  \n",
      "     |  __setstate__(self, state)\n",
      "     |  \n",
      "     |  ----------------------------------------------------------------------\n",
      "     |  Data descriptors inherited from sklearn.base.BaseEstimator:\n",
      "     |  \n",
      "     |  __dict__\n",
      "     |      dictionary for instance variables (if defined)\n",
      "     |  \n",
      "     |  __weakref__\n",
      "     |      list of weak references to the object (if defined)\n",
      "    \n",
      "    class Pipeline(_BasePipeline)\n",
      "     |  Pipeline of transforms with a final estimator.\n",
      "     |  \n",
      "     |  Sequentially apply a list of transforms and a final estimator.\n",
      "     |  Intermediate steps of the pipeline must be 'transforms', that is, they\n",
      "     |  must implement fit and transform methods.\n",
      "     |  The final estimator only needs to implement fit.\n",
      "     |  \n",
      "     |  The purpose of the pipeline is to assemble several steps that can be\n",
      "     |  cross-validated together while setting different parameters.\n",
      "     |  For this, it enables setting parameters of the various steps using their\n",
      "     |  names and the parameter name separated by a '__', as in the example below.\n",
      "     |  A step's estimator may be replaced entirely by setting the parameter\n",
      "     |  with its name to another estimator, or a transformer removed by setting\n",
      "     |  to None.\n",
      "     |  \n",
      "     |  Read more in the :ref:`User Guide <pipeline>`.\n",
      "     |  \n",
      "     |  Parameters\n",
      "     |  ----------\n",
      "     |  steps : list\n",
      "     |      List of (name, transform) tuples (implementing fit/transform) that are\n",
      "     |      chained, in the order in which they are chained, with the last object\n",
      "     |      an estimator.\n",
      "     |  \n",
      "     |  Attributes\n",
      "     |  ----------\n",
      "     |  named_steps : dict\n",
      "     |      Read-only attribute to access any step parameter by user given name.\n",
      "     |      Keys are step names and values are steps parameters.\n",
      "     |  \n",
      "     |  Examples\n",
      "     |  --------\n",
      "     |  >>> from sklearn import svm\n",
      "     |  >>> from sklearn.datasets import samples_generator\n",
      "     |  >>> from sklearn.feature_selection import SelectKBest\n",
      "     |  >>> from sklearn.feature_selection import f_regression\n",
      "     |  >>> from sklearn.pipeline import Pipeline\n",
      "     |  >>> # generate some data to play with\n",
      "     |  >>> X, y = samples_generator.make_classification(\n",
      "     |  ...     n_informative=5, n_redundant=0, random_state=42)\n",
      "     |  >>> # ANOVA SVM-C\n",
      "     |  >>> anova_filter = SelectKBest(f_regression, k=5)\n",
      "     |  >>> clf = svm.SVC(kernel='linear')\n",
      "     |  >>> anova_svm = Pipeline([('anova', anova_filter), ('svc', clf)])\n",
      "     |  >>> # You can set the parameters using the names issued\n",
      "     |  >>> # For instance, fit using a k of 10 in the SelectKBest\n",
      "     |  >>> # and a parameter 'C' of the svm\n",
      "     |  >>> anova_svm.set_params(anova__k=10, svc__C=.1).fit(X, y)\n",
      "     |  ...                                              # doctest: +ELLIPSIS\n",
      "     |  Pipeline(steps=[...])\n",
      "     |  >>> prediction = anova_svm.predict(X)\n",
      "     |  >>> anova_svm.score(X, y)                        # doctest: +ELLIPSIS\n",
      "     |  0.829...\n",
      "     |  >>> # getting the selected features chosen by anova_filter\n",
      "     |  >>> anova_svm.named_steps['anova'].get_support()\n",
      "     |  ... # doctest: +NORMALIZE_WHITESPACE\n",
      "     |  array([False, False,  True,  True, False, False, True,  True, False,\n",
      "     |         True,  False,  True,  True, False, True,  False, True, True,\n",
      "     |         False, False], dtype=bool)\n",
      "     |  \n",
      "     |  Method resolution order:\n",
      "     |      Pipeline\n",
      "     |      _BasePipeline\n",
      "     |      abc.NewBase\n",
      "     |      sklearn.base.BaseEstimator\n",
      "     |      __builtin__.object\n",
      "     |  \n",
      "     |  Methods defined here:\n",
      "     |  \n",
      "     |  __init__(self, steps)\n",
      "     |  \n",
      "     |  decision_function(*args, **kwargs)\n",
      "     |      Apply transforms, and decision_function of the final estimator\n",
      "     |      \n",
      "     |      Parameters\n",
      "     |      ----------\n",
      "     |      X : iterable\n",
      "     |          Data to predict on. Must fulfill input requirements of first step\n",
      "     |          of the pipeline.\n",
      "     |      \n",
      "     |      Returns\n",
      "     |      -------\n",
      "     |      y_score : array-like, shape = [n_samples, n_classes]\n",
      "     |  \n",
      "     |  fit(self, X, y=None, **fit_params)\n",
      "     |      Fit the model\n",
      "     |      \n",
      "     |      Fit all the transforms one after the other and transform the\n",
      "     |      data, then fit the transformed data using the final estimator.\n",
      "     |      \n",
      "     |      Parameters\n",
      "     |      ----------\n",
      "     |      X : iterable\n",
      "     |          Training data. Must fulfill input requirements of first step of the\n",
      "     |          pipeline.\n",
      "     |      \n",
      "     |      y : iterable, default=None\n",
      "     |          Training targets. Must fulfill label requirements for all steps of\n",
      "     |          the pipeline.\n",
      "     |      \n",
      "     |      **fit_params : dict of string -> object\n",
      "     |          Parameters passed to the ``fit`` method of each step, where\n",
      "     |          each parameter name is prefixed such that parameter ``p`` for step\n",
      "     |          ``s`` has key ``s__p``.\n",
      "     |      \n",
      "     |      Returns\n",
      "     |      -------\n",
      "     |      self : Pipeline\n",
      "     |          This estimator\n",
      "     |  \n",
      "     |  fit_predict(*args, **kwargs)\n",
      "     |      Applies fit_predict of last step in pipeline after transforms.\n",
      "     |      \n",
      "     |      Applies fit_transforms of a pipeline to the data, followed by the\n",
      "     |      fit_predict method of the final estimator in the pipeline. Valid\n",
      "     |      only if the final estimator implements fit_predict.\n",
      "     |      \n",
      "     |      Parameters\n",
      "     |      ----------\n",
      "     |      X : iterable\n",
      "     |          Training data. Must fulfill input requirements of first step of\n",
      "     |          the pipeline.\n",
      "     |      \n",
      "     |      y : iterable, default=None\n",
      "     |          Training targets. Must fulfill label requirements for all steps\n",
      "     |          of the pipeline.\n",
      "     |      \n",
      "     |      **fit_params : dict of string -> object\n",
      "     |          Parameters passed to the ``fit`` method of each step, where\n",
      "     |          each parameter name is prefixed such that parameter ``p`` for step\n",
      "     |          ``s`` has key ``s__p``.\n",
      "     |      \n",
      "     |      Returns\n",
      "     |      -------\n",
      "     |      y_pred : array-like\n",
      "     |  \n",
      "     |  fit_transform(self, X, y=None, **fit_params)\n",
      "     |      Fit the model and transform with the final estimator\n",
      "     |      \n",
      "     |      Fits all the transforms one after the other and transforms the\n",
      "     |      data, then uses fit_transform on transformed data with the final\n",
      "     |      estimator.\n",
      "     |      \n",
      "     |      Parameters\n",
      "     |      ----------\n",
      "     |      X : iterable\n",
      "     |          Training data. Must fulfill input requirements of first step of the\n",
      "     |          pipeline.\n",
      "     |      \n",
      "     |      y : iterable, default=None\n",
      "     |          Training targets. Must fulfill label requirements for all steps of\n",
      "     |          the pipeline.\n",
      "     |      \n",
      "     |      **fit_params : dict of string -> object\n",
      "     |          Parameters passed to the ``fit`` method of each step, where\n",
      "     |          each parameter name is prefixed such that parameter ``p`` for step\n",
      "     |          ``s`` has key ``s__p``.\n",
      "     |      \n",
      "     |      Returns\n",
      "     |      -------\n",
      "     |      Xt : array-like, shape = [n_samples, n_transformed_features]\n",
      "     |          Transformed samples\n",
      "     |  \n",
      "     |  get_params(self, deep=True)\n",
      "     |      Get parameters for this estimator.\n",
      "     |      \n",
      "     |      Parameters\n",
      "     |      ----------\n",
      "     |      deep: boolean, optional\n",
      "     |          If True, will return the parameters for this estimator and\n",
      "     |          contained subobjects that are estimators.\n",
      "     |      \n",
      "     |      Returns\n",
      "     |      -------\n",
      "     |      params : mapping of string to any\n",
      "     |          Parameter names mapped to their values.\n",
      "     |  \n",
      "     |  predict(*args, **kwargs)\n",
      "     |      Apply transforms to the data, and predict with the final estimator\n",
      "     |      \n",
      "     |      Parameters\n",
      "     |      ----------\n",
      "     |      X : iterable\n",
      "     |          Data to predict on. Must fulfill input requirements of first step\n",
      "     |          of the pipeline.\n",
      "     |      \n",
      "     |      Returns\n",
      "     |      -------\n",
      "     |      y_pred : array-like\n",
      "     |  \n",
      "     |  predict_log_proba(*args, **kwargs)\n",
      "     |      Apply transforms, and predict_log_proba of the final estimator\n",
      "     |      \n",
      "     |      Parameters\n",
      "     |      ----------\n",
      "     |      X : iterable\n",
      "     |          Data to predict on. Must fulfill input requirements of first step\n",
      "     |          of the pipeline.\n",
      "     |      \n",
      "     |      Returns\n",
      "     |      -------\n",
      "     |      y_score : array-like, shape = [n_samples, n_classes]\n",
      "     |  \n",
      "     |  predict_proba(*args, **kwargs)\n",
      "     |      Apply transforms, and predict_proba of the final estimator\n",
      "     |      \n",
      "     |      Parameters\n",
      "     |      ----------\n",
      "     |      X : iterable\n",
      "     |          Data to predict on. Must fulfill input requirements of first step\n",
      "     |          of the pipeline.\n",
      "     |      \n",
      "     |      Returns\n",
      "     |      -------\n",
      "     |      y_proba : array-like, shape = [n_samples, n_classes]\n",
      "     |  \n",
      "     |  score(*args, **kwargs)\n",
      "     |      Apply transforms, and score with the final estimator\n",
      "     |      \n",
      "     |      Parameters\n",
      "     |      ----------\n",
      "     |      X : iterable\n",
      "     |          Data to predict on. Must fulfill input requirements of first step\n",
      "     |          of the pipeline.\n",
      "     |      \n",
      "     |      y : iterable, default=None\n",
      "     |          Targets used for scoring. Must fulfill label requirements for all\n",
      "     |          steps of the pipeline.\n",
      "     |      \n",
      "     |      Returns\n",
      "     |      -------\n",
      "     |      score : float\n",
      "     |  \n",
      "     |  set_params(self, **kwargs)\n",
      "     |      Set the parameters of this estimator.\n",
      "     |      \n",
      "     |      Valid parameter keys can be listed with ``get_params()``.\n",
      "     |      \n",
      "     |      Returns\n",
      "     |      -------\n",
      "     |      self\n",
      "     |  \n",
      "     |  ----------------------------------------------------------------------\n",
      "     |  Data descriptors defined here:\n",
      "     |  \n",
      "     |  classes_\n",
      "     |  \n",
      "     |  inverse_transform\n",
      "     |      Apply inverse transformations in reverse order\n",
      "     |      \n",
      "     |      All estimators in the pipeline must support ``inverse_transform``.\n",
      "     |      \n",
      "     |      Parameters\n",
      "     |      ----------\n",
      "     |      Xt : array-like, shape = [n_samples, n_transformed_features]\n",
      "     |          Data samples, where ``n_samples`` is the number of samples and\n",
      "     |          ``n_features`` is the number of features. Must fulfill\n",
      "     |          input requirements of last step of pipeline's\n",
      "     |          ``inverse_transform`` method.\n",
      "     |      \n",
      "     |      Returns\n",
      "     |      -------\n",
      "     |      Xt : array-like, shape = [n_samples, n_features]\n",
      "     |  \n",
      "     |  named_steps\n",
      "     |  \n",
      "     |  transform\n",
      "     |      Apply transforms, and transform with the final estimator\n",
      "     |      \n",
      "     |      This also works where final estimator is ``None``: all prior\n",
      "     |      transformations are applied.\n",
      "     |      \n",
      "     |      Parameters\n",
      "     |      ----------\n",
      "     |      X : iterable\n",
      "     |          Data to transform. Must fulfill input requirements of first step\n",
      "     |          of the pipeline.\n",
      "     |      \n",
      "     |      Returns\n",
      "     |      -------\n",
      "     |      Xt : array-like, shape = [n_samples, n_transformed_features]\n",
      "     |  \n",
      "     |  ----------------------------------------------------------------------\n",
      "     |  Data and other attributes defined here:\n",
      "     |  \n",
      "     |  __abstractmethods__ = frozenset([])\n",
      "     |  \n",
      "     |  ----------------------------------------------------------------------\n",
      "     |  Methods inherited from sklearn.base.BaseEstimator:\n",
      "     |  \n",
      "     |  __getstate__(self)\n",
      "     |  \n",
      "     |  __repr__(self)\n",
      "     |  \n",
      "     |  __setstate__(self, state)\n",
      "     |  \n",
      "     |  ----------------------------------------------------------------------\n",
      "     |  Data descriptors inherited from sklearn.base.BaseEstimator:\n",
      "     |  \n",
      "     |  __dict__\n",
      "     |      dictionary for instance variables (if defined)\n",
      "     |  \n",
      "     |  __weakref__\n",
      "     |      list of weak references to the object (if defined)\n",
      "\n",
      "DATA\n",
      "    __all__ = ['Pipeline', 'FeatureUnion']\n",
      "\n",
      "\n"
     ]
    }
   ],
   "source": [
    "import sklearn.pipeline\n",
    "help(sklearn.pipeline)"
   ]
  },
  {
   "cell_type": "code",
   "execution_count": 251,
   "metadata": {
    "collapsed": false
   },
   "outputs": [],
   "source": [
    "neuralNetPipeline = sklearn.pipeline.Pipeline([\n",
    "    ('neuralNetwork',sklearn.neural_network.MLPClassifier())\n",
    "])"
   ]
  },
  {
   "cell_type": "code",
   "execution_count": 240,
   "metadata": {
    "collapsed": false
   },
   "outputs": [
    {
     "name": "stdout",
     "output_type": "stream",
     "text": [
      "Help on method get_params in module sklearn.pipeline:\n",
      "\n",
      "get_params(self, deep=True) method of sklearn.pipeline.Pipeline instance\n",
      "    Get parameters for this estimator.\n",
      "    \n",
      "    Parameters\n",
      "    ----------\n",
      "    deep: boolean, optional\n",
      "        If True, will return the parameters for this estimator and\n",
      "        contained subobjects that are estimators.\n",
      "    \n",
      "    Returns\n",
      "    -------\n",
      "    params : mapping of string to any\n",
      "        Parameter names mapped to their values.\n",
      "\n"
     ]
    }
   ],
   "source": [
    "help(neuralNetPipeline.get_params)"
   ]
  },
  {
   "cell_type": "code",
   "execution_count": 252,
   "metadata": {
    "collapsed": false
   },
   "outputs": [
    {
     "data": {
      "text/plain": [
       "Pipeline(steps=[('neuralNetwork', MLPClassifier(activation='relu', alpha=0.0001, batch_size='auto', beta_1=0.9,\n",
       "       beta_2=0.999, early_stopping=False, epsilon=1e-08,\n",
       "       hidden_layer_sizes=(100,), learning_rate='constant',\n",
       "       learning_rate_init=0.001, max_iter=200, momentum=0.9,\n",
       "       nesterovs_momentum=True, power_t=0.5, random_state=None,\n",
       "       shuffle=True, solver='adam', tol=0.0001, validation_fraction=0.1,\n",
       "       verbose=False, warm_start=False))])"
      ]
     },
     "execution_count": 252,
     "metadata": {},
     "output_type": "execute_result"
    }
   ],
   "source": [
    "neuralNetPipeline.fit(trainSet.drop('Survived',axis=1),trainSet['Survived'])"
   ]
  },
  {
   "cell_type": "code",
   "execution_count": 288,
   "metadata": {
    "collapsed": false
   },
   "outputs": [
    {
     "name": "stdout",
     "output_type": "stream",
     "text": [
      "0.369181380417\n",
      "0.417910447761\n"
     ]
    },
    {
     "name": "stderr",
     "output_type": "stream",
     "text": [
      "/Library/Python/2.7/site-packages/sklearn/neural_network/multilayer_perceptron.py:565: UserWarning: Training interrupted by user.\n",
      "  warnings.warn(\"Training interrupted by user.\")\n"
     ]
    }
   ],
   "source": [
    "neuralNetPipeline.set_params(neuralNetwork__alpha=1e-3\n",
    "                            ,neuralNetwork__activation='relu'\n",
    "                            ,neuralNetwork__hidden_layer_sizes=(1000,1)\n",
    "                            ,neuralNetwork__max_iter = 100000)\n",
    "neuralNetPipeline.fit(trainSet.drop('Survived',axis=1),trainSet['Survived'])\n",
    "print neuralNetPipeline.score(trainSet.drop('Survived',axis=1),trainSet['Survived'])\n",
    "print neuralNetPipeline.score(testSet.drop('Survived',axis=1),testSet['Survived'])"
   ]
  },
  {
   "cell_type": "code",
   "execution_count": 297,
   "metadata": {
    "collapsed": false
   },
   "outputs": [],
   "source": [
    "class ColumnExtractor(object):\n",
    "\n",
    "    def __init__(self, cols):\n",
    "        self.cols = cols\n",
    "\n",
    "#    def transform(self, X):\n",
    "#        col_list = []\n",
    "#        for c in self.cols:\n",
    "#            col_list.append(X[:, c:c+1])\n",
    "#        return np.concatenate(col_list, axis=1)\n",
    "    def transform(self, X):\n",
    "        return X[self.cols]\n",
    "\n",
    "    def fit(self, X, y=None):\n",
    "        return self"
   ]
  },
  {
   "cell_type": "code",
   "execution_count": 307,
   "metadata": {
    "collapsed": false
   },
   "outputs": [],
   "source": [
    "features = [x for x in newTest.columns if 'SexClass' in x or True]\n",
    "neuralNetPipeline = sklearn.pipeline.Pipeline([\n",
    "    ('featureChoice',ColumnExtractor(features)),\n",
    "    ('neuralNetwork',sklearn.neural_network.MLPClassifier())\n",
    "])"
   ]
  },
  {
   "cell_type": "code",
   "execution_count": 308,
   "metadata": {
    "collapsed": false
   },
   "outputs": [
    {
     "data": {
      "text/plain": [
       "Pipeline(steps=[('featureChoice', <__main__.ColumnExtractor object at 0x117f1be50>), ('neuralNetwork', MLPClassifier(activation='relu', alpha=0.0001, batch_size='auto', beta_1=0.9,\n",
       "       beta_2=0.999, early_stopping=False, epsilon=1e-08,\n",
       "       hidden_layer_sizes=(100,), learning_rate='constant',\n",
       "       lea...=True, solver='adam', tol=0.0001, validation_fraction=0.1,\n",
       "       verbose=False, warm_start=False))])"
      ]
     },
     "execution_count": 308,
     "metadata": {},
     "output_type": "execute_result"
    }
   ],
   "source": [
    "neuralNetPipeline.fit(trainSet.drop('Survived',axis=1),trainSet['Survived'])"
   ]
  },
  {
   "cell_type": "code",
   "execution_count": 309,
   "metadata": {
    "collapsed": false
   },
   "outputs": [
    {
     "name": "stdout",
     "output_type": "stream",
     "text": [
      "0.833065810594\n",
      "0.794776119403\n"
     ]
    }
   ],
   "source": [
    "print neuralNetPipeline.score(trainSet.drop('Survived',axis=1),trainSet['Survived'])\n",
    "print neuralNetPipeline.score(testSet.drop('Survived',axis=1),testSet['Survived'])"
   ]
  },
  {
   "cell_type": "code",
   "execution_count": 364,
   "metadata": {
    "collapsed": false
   },
   "outputs": [
    {
     "data": {
      "image/png": "[encoded data removed]",
      "text/plain": [
       "<matplotlib.figure.Figure at 0x1140c8c90>"
      ]
     },
     "metadata": {},
     "output_type": "display_data"
    }
   ],
   "source": [
    "g = sns.factorplot(hue='Sex',y='Survived',x='Agegroup',data=data,kind='bar')"
   ]
  },
  {
   "cell_type": "code",
   "execution_count": 301,
   "metadata": {
    "collapsed": false
   },
   "outputs": [
    {
     "data": {
      "text/plain": [
       "Index([u'SexClass_F1', u'SexClass_F2', u'SexClass_F3', u'SexClass_M1',\n",
       "       u'SexClass_M2', u'Agegroup_child', u'Agegroup_senior',\n",
       "       u'Agegroup_unknown', u'FamilyStatusSimplified_With family',\n",
       "       u'Embarked_C', u'Embarked_Q'],\n",
       "      dtype='object')"
      ]
     },
     "execution_count": 301,
     "metadata": {},
     "output_type": "execute_result"
    }
   ],
   "source": [
    "features"
   ]
  },
  {
   "cell_type": "code",
   "execution_count": 366,
   "metadata": {
    "collapsed": false
   },
   "outputs": [
    {
     "data": {
      "image/png": "[encoded data removed]",
      "text/plain": [
       "<matplotlib.figure.Figure at 0x11650fc10>"
      ]
     },
     "metadata": {},
     "output_type": "display_data"
    }
   ],
   "source": [
    "g = sns.factorplot(hue='Pclass',y='Survived',x='Agegroup',data=data,kind='bar')"
   ]
  },
  {
   "cell_type": "markdown",
   "metadata": {},
   "source": [
    "# Using pipeline\n",
    "The Pipeline function seems interesting to automatize some process.\n",
    "First, it is useful to define a custom class to be able to choose specific features of a dataset."
   ]
  },
  {
   "cell_type": "code",
   "execution_count": 485,
   "metadata": {
    "collapsed": true
   },
   "outputs": [],
   "source": [
    "\"\"\"\n",
    "Based on\n",
    "https://stackoverflow.com/questions/25250654/how-can-i-use-a-custom-feature-selection-function-in-scikit-learns-pipeline\n",
    "\"\"\"\n",
    "class ColumnExtractor(object):\n",
    "    def __init__(self, features = None):\n",
    "        self.features = list(features)\n",
    "    def transform(self, X):\n",
    "        if self.features is None:\n",
    "            return X\n",
    "        return X[self.features]\n",
    "    def fit(self, X, y=None):\n",
    "        return self\n",
    "    def get_params(self,*args,**kwargs):\n",
    "        return {'features':self.features}\n",
    "    def set_params(self,features=None,*args,**kwargs):\n",
    "        if features is not None:\n",
    "            self.features = features\n",
    "class IndexExtractor(object):\n",
    "    def __init__(self, indices = None):\n",
    "        if indices is not None:\n",
    "            self.indices = list(indices)\n",
    "        else:\n",
    "            self.indices = None\n",
    "    def transform(self, X):\n",
    "        if self.indices is None:\n",
    "            return X\n",
    "        else:\n",
    "            return X.loc[self.indices]\n",
    "    def fit(self, X, y=None):\n",
    "        return self\n",
    "    def get_params(self,*args,**kwargs):\n",
    "        return {'indices':self.indices}\n",
    "    def set_params(self,indices=None,*args,**kwargs):\n",
    "        if indices is not None:\n",
    "            self.indices = indices"
   ]
  },
  {
   "cell_type": "code",
   "execution_count": 486,
   "metadata": {
    "collapsed": false
   },
   "outputs": [],
   "source": [
    "logisticRegression = sklearn.pipeline.Pipeline([\n",
    "#    ('exampleChoice',IndexExtractor(indices)),\n",
    "    ('featureChoice',ColumnExtractor(features)),\n",
    "    ('model',sklearn.linear_model.LogisticRegression())\n",
    "])\n",
    "neuralNetwork = sklearn.pipeline.Pipeline([\n",
    "#    ('exampleChoice',IndexExtractor(indices)),\n",
    "    ('featureChoice',ColumnExtractor(features)),\n",
    "    ('model',sklearn.neural_network.MLPClassifier())\n",
    "])\n",
    "randomForest = sklearn.pipeline.Pipeline([\n",
    "#    ('exampleChoice',IndexExtractor(indices)),\n",
    "    ('featureChoice',ColumnExtractor(features)),\n",
    "    ('model',sklearn.ensemble.RandomForestClassifier())\n",
    "])"
   ]
  },
  {
   "cell_type": "code",
   "execution_count": 508,
   "metadata": {
    "collapsed": false
   },
   "outputs": [],
   "source": [
    "def getErrorLogreg(sampleSize):\n",
    "    trainSmall = trainSet.sample(sampleSize)\n",
    "    features = trainSet.columns\n",
    "    logisticRegression.set_params(\n",
    "        featureChoice__features=[x for x in features if x!='Survived'],\n",
    "        model__C = 1e-1,\n",
    "        model__fit_intercept = True\n",
    "    )\n",
    "    logisticRegression.fit(trainSmall.drop('Survived',axis=1),trainSmall['Survived'])\n",
    "    trainError = logisticRegression.score(trainSmall.drop('Survived',axis=1),trainSmall['Survived'])\n",
    "    testError = logisticRegression.score(testSet.drop('Survived',axis=1),testSet['Survived'])\n",
    "    return trainError,testError\n",
    "def getErrorNeural(sampleSize):\n",
    "    trainSmall = trainSet.sample(sampleSize)\n",
    "    features = trainSet.columns\n",
    "    neuralNetwork.set_params(\n",
    "        featureChoice__features=[x for x in features if x!='Survived'],\n",
    "        model__alpha = 1e+0,\n",
    "    )\n",
    "    neuralNetwork.fit(trainSmall.drop('Survived',axis=1),trainSmall['Survived'])\n",
    "    trainError = neuralNetwork.score(trainSmall.drop('Survived',axis=1),trainSmall['Survived'])\n",
    "    testError = neuralNetwork.score(testSet.drop('Survived',axis=1),testSet['Survived'])\n",
    "    return trainError,testError"
   ]
  },
  {
   "cell_type": "code",
   "execution_count": 511,
   "metadata": {
    "collapsed": false
   },
   "outputs": [
    {
     "data": {
      "text/plain": [
       "(0, 0.5)"
      ]
     },
     "execution_count": 511,
     "metadata": {},
     "output_type": "execute_result"
    },
    {
     "data": {
      "image/png": "[encoded data removed]",
      "text/plain": [
       "<matplotlib.figure.Figure at 0x11560b790>"
      ]
     },
     "metadata": {},
     "output_type": "display_data"
    }
   ],
   "source": [
    "sampleLimits = (50,600)\n",
    "sampleSize = py.exp(py.linspace(py.log(sampleLimits[0]),py.log(sampleLimits[1]),10))\n",
    "sampleSize = map(int,sampleSize)\n",
    "errors = map(getErrorNeural,sampleSize)\n",
    "fig,ax = py.subplots()\n",
    "ax.plot(sampleSize,[1-x[0] for x in errors],'k.-')\n",
    "ax.plot(sampleSize,[1-x[1] for x in errors],'b.-')\n",
    "ax.set_xscale('linear')\n",
    "ax.set_yscale('linear')\n",
    "ax.set_xlabel('Number of training examples')\n",
    "ax.set_ylabel('Error rate')\n",
    "ax.set_ylim(0,0.5)"
   ]
  },
  {
   "cell_type": "code",
   "execution_count": 379,
   "metadata": {
    "collapsed": false
   },
   "outputs": [
    {
     "data": {
      "text/plain": [
       "array([175, 878, 401, 818, 811, 890, 841, 264,  51, 164, 502,  63,  26,\n",
       "       449, 530, 436, 853, 266, 533,  37, 157, 145, 738, 828, 531, 276,\n",
       "       833, 346, 384, 283, 824, 229, 827, 648, 395, 263, 838, 860, 545,\n",
       "       165, 478, 694, 743, 503, 689, 852, 524, 160, 208, 156, 669, 881,\n",
       "       575, 671, 831, 262, 467, 761, 495, 839, 535, 649, 403, 816, 511,\n",
       "       471, 799, 588, 435, 681, 622, 338,  93, 126, 198, 674,  69, 692,\n",
       "       219, 657, 570, 105, 225, 322, 764, 628, 222, 737, 513, 787, 462,\n",
       "       210, 308, 272, 252, 857, 439, 120, 344, 678])"
      ]
     },
     "execution_count": 379,
     "metadata": {},
     "output_type": "execute_result"
    }
   ],
   "source": [
    "random.choice(trainSet.index,replace=False,size=100)"
   ]
  },
  {
   "cell_type": "code",
   "execution_count": 460,
   "metadata": {
    "collapsed": false
   },
   "outputs": [],
   "source": [
    "Cgrid = [1e-4,3e-4,1e-3,3e-3,1e-2,3e-2,1e-1,3e-1,1e+0,3e+0,1e+1,3e+1]\n",
    "grid = sklearn.model_selection.GridSearchCV(logisticRegression,{'model__C':Cgrid},cv=50)"
   ]
  },
  {
   "cell_type": "code",
   "execution_count": 461,
   "metadata": {
    "collapsed": false
   },
   "outputs": [
    {
     "name": "stderr",
     "output_type": "stream",
     "text": [
      "/Library/Python/2.7/site-packages/sklearn/base.py:122: DeprecationWarning: Estimator ColumnExtractor modifies parameters in __init__. This behavior is deprecated as of 0.18 and support for this behavior will be removed in 0.20.\n",
      "  % type(estimator).__name__, DeprecationWarning)\n",
      "/Library/Python/2.7/site-packages/sklearn/base.py:122: DeprecationWarning: Estimator ColumnExtractor modifies parameters in __init__. This behavior is deprecated as of 0.18 and support for this behavior will be removed in 0.20.\n",
      "  % type(estimator).__name__, DeprecationWarning)\n",
      "/Library/Python/2.7/site-packages/sklearn/base.py:122: DeprecationWarning: Estimator ColumnExtractor modifies parameters in __init__. This behavior is deprecated as of 0.18 and support for this behavior will be removed in 0.20.\n",
      "  % type(estimator).__name__, DeprecationWarning)\n",
      "/Library/Python/2.7/site-packages/sklearn/base.py:122: DeprecationWarning: Estimator ColumnExtractor modifies parameters in __init__. This behavior is deprecated as of 0.18 and support for this behavior will be removed in 0.20.\n",
      "  % type(estimator).__name__, DeprecationWarning)\n",
      "/Library/Python/2.7/site-packages/sklearn/base.py:122: DeprecationWarning: Estimator ColumnExtractor modifies parameters in __init__. This behavior is deprecated as of 0.18 and support for this behavior will be removed in 0.20.\n",
      "  % type(estimator).__name__, DeprecationWarning)\n",
      "/Library/Python/2.7/site-packages/sklearn/base.py:122: DeprecationWarning: Estimator ColumnExtractor modifies parameters in __init__. This behavior is deprecated as of 0.18 and support for this behavior will be removed in 0.20.\n",
      "  % type(estimator).__name__, DeprecationWarning)\n",
      "/Library/Python/2.7/site-packages/sklearn/base.py:122: DeprecationWarning: Estimator ColumnExtractor modifies parameters in __init__. This behavior is deprecated as of 0.18 and support for this behavior will be removed in 0.20.\n",
      "  % type(estimator).__name__, DeprecationWarning)\n",
      "/Library/Python/2.7/site-packages/sklearn/base.py:122: DeprecationWarning: Estimator ColumnExtractor modifies parameters in __init__. This behavior is deprecated as of 0.18 and support for this behavior will be removed in 0.20.\n",
      "  % type(estimator).__name__, DeprecationWarning)\n",
      "/Library/Python/2.7/site-packages/sklearn/base.py:122: DeprecationWarning: Estimator ColumnExtractor modifies parameters in __init__. This behavior is deprecated as of 0.18 and support for this behavior will be removed in 0.20.\n",
      "  % type(estimator).__name__, DeprecationWarning)\n",
      "/Library/Python/2.7/site-packages/sklearn/base.py:122: DeprecationWarning: Estimator ColumnExtractor modifies parameters in __init__. This behavior is deprecated as of 0.18 and support for this behavior will be removed in 0.20.\n",
      "  % type(estimator).__name__, DeprecationWarning)\n",
      "/Library/Python/2.7/site-packages/sklearn/base.py:122: DeprecationWarning: Estimator ColumnExtractor modifies parameters in __init__. This behavior is deprecated as of 0.18 and support for this behavior will be removed in 0.20.\n",
      "  % type(estimator).__name__, DeprecationWarning)\n",
      "/Library/Python/2.7/site-packages/sklearn/base.py:122: DeprecationWarning: Estimator ColumnExtractor modifies parameters in __init__. This behavior is deprecated as of 0.18 and support for this behavior will be removed in 0.20.\n",
      "  % type(estimator).__name__, DeprecationWarning)\n",
      "/Library/Python/2.7/site-packages/sklearn/base.py:122: DeprecationWarning: Estimator ColumnExtractor modifies parameters in __init__. This behavior is deprecated as of 0.18 and support for this behavior will be removed in 0.20.\n",
      "  % type(estimator).__name__, DeprecationWarning)\n",
      "/Library/Python/2.7/site-packages/sklearn/base.py:122: DeprecationWarning: Estimator ColumnExtractor modifies parameters in __init__. This behavior is deprecated as of 0.18 and support for this behavior will be removed in 0.20.\n",
      "  % type(estimator).__name__, DeprecationWarning)\n",
      "/Library/Python/2.7/site-packages/sklearn/base.py:122: DeprecationWarning: Estimator ColumnExtractor modifies parameters in __init__. This behavior is deprecated as of 0.18 and support for this behavior will be removed in 0.20.\n",
      "  % type(estimator).__name__, DeprecationWarning)\n",
      "/Library/Python/2.7/site-packages/sklearn/base.py:122: DeprecationWarning: Estimator ColumnExtractor modifies parameters in __init__. This behavior is deprecated as of 0.18 and support for this behavior will be removed in 0.20.\n",
      "  % type(estimator).__name__, DeprecationWarning)\n",
      "/Library/Python/2.7/site-packages/sklearn/base.py:122: DeprecationWarning: Estimator ColumnExtractor modifies parameters in __init__. This behavior is deprecated as of 0.18 and support for this behavior will be removed in 0.20.\n",
      "  % type(estimator).__name__, DeprecationWarning)\n",
      "/Library/Python/2.7/site-packages/sklearn/base.py:122: DeprecationWarning: Estimator ColumnExtractor modifies parameters in __init__. This behavior is deprecated as of 0.18 and support for this behavior will be removed in 0.20.\n",
      "  % type(estimator).__name__, DeprecationWarning)\n",
      "/Library/Python/2.7/site-packages/sklearn/base.py:122: DeprecationWarning: Estimator ColumnExtractor modifies parameters in __init__. This behavior is deprecated as of 0.18 and support for this behavior will be removed in 0.20.\n",
      "  % type(estimator).__name__, DeprecationWarning)\n",
      "/Library/Python/2.7/site-packages/sklearn/base.py:122: DeprecationWarning: Estimator ColumnExtractor modifies parameters in __init__. This behavior is deprecated as of 0.18 and support for this behavior will be removed in 0.20.\n",
      "  % type(estimator).__name__, DeprecationWarning)\n",
      "/Library/Python/2.7/site-packages/sklearn/base.py:122: DeprecationWarning: Estimator ColumnExtractor modifies parameters in __init__. This behavior is deprecated as of 0.18 and support for this behavior will be removed in 0.20.\n",
      "  % type(estimator).__name__, DeprecationWarning)\n",
      "/Library/Python/2.7/site-packages/sklearn/base.py:122: DeprecationWarning: Estimator ColumnExtractor modifies parameters in __init__. This behavior is deprecated as of 0.18 and support for this behavior will be removed in 0.20.\n",
      "  % type(estimator).__name__, DeprecationWarning)\n",
      "/Library/Python/2.7/site-packages/sklearn/base.py:122: DeprecationWarning: Estimator ColumnExtractor modifies parameters in __init__. This behavior is deprecated as of 0.18 and support for this behavior will be removed in 0.20.\n",
      "  % type(estimator).__name__, DeprecationWarning)\n",
      "/Library/Python/2.7/site-packages/sklearn/base.py:122: DeprecationWarning: Estimator ColumnExtractor modifies parameters in __init__. This behavior is deprecated as of 0.18 and support for this behavior will be removed in 0.20.\n",
      "  % type(estimator).__name__, DeprecationWarning)\n",
      "/Library/Python/2.7/site-packages/sklearn/base.py:122: DeprecationWarning: Estimator ColumnExtractor modifies parameters in __init__. This behavior is deprecated as of 0.18 and support for this behavior will be removed in 0.20.\n",
      "  % type(estimator).__name__, DeprecationWarning)\n",
      "/Library/Python/2.7/site-packages/sklearn/base.py:122: DeprecationWarning: Estimator ColumnExtractor modifies parameters in __init__. This behavior is deprecated as of 0.18 and support for this behavior will be removed in 0.20.\n",
      "  % type(estimator).__name__, DeprecationWarning)\n",
      "/Library/Python/2.7/site-packages/sklearn/base.py:122: DeprecationWarning: Estimator ColumnExtractor modifies parameters in __init__. This behavior is deprecated as of 0.18 and support for this behavior will be removed in 0.20.\n",
      "  % type(estimator).__name__, DeprecationWarning)\n",
      "/Library/Python/2.7/site-packages/sklearn/base.py:122: DeprecationWarning: Estimator ColumnExtractor modifies parameters in __init__. This behavior is deprecated as of 0.18 and support for this behavior will be removed in 0.20.\n",
      "  % type(estimator).__name__, DeprecationWarning)\n",
      "/Library/Python/2.7/site-packages/sklearn/base.py:122: DeprecationWarning: Estimator ColumnExtractor modifies parameters in __init__. This behavior is deprecated as of 0.18 and support for this behavior will be removed in 0.20.\n",
      "  % type(estimator).__name__, DeprecationWarning)\n",
      "/Library/Python/2.7/site-packages/sklearn/base.py:122: DeprecationWarning: Estimator ColumnExtractor modifies parameters in __init__. This behavior is deprecated as of 0.18 and support for this behavior will be removed in 0.20.\n",
      "  % type(estimator).__name__, DeprecationWarning)\n",
      "/Library/Python/2.7/site-packages/sklearn/base.py:122: DeprecationWarning: Estimator ColumnExtractor modifies parameters in __init__. This behavior is deprecated as of 0.18 and support for this behavior will be removed in 0.20.\n",
      "  % type(estimator).__name__, DeprecationWarning)\n",
      "/Library/Python/2.7/site-packages/sklearn/base.py:122: DeprecationWarning: Estimator ColumnExtractor modifies parameters in __init__. This behavior is deprecated as of 0.18 and support for this behavior will be removed in 0.20.\n",
      "  % type(estimator).__name__, DeprecationWarning)\n",
      "/Library/Python/2.7/site-packages/sklearn/base.py:122: DeprecationWarning: Estimator ColumnExtractor modifies parameters in __init__. This behavior is deprecated as of 0.18 and support for this behavior will be removed in 0.20.\n",
      "  % type(estimator).__name__, DeprecationWarning)\n",
      "/Library/Python/2.7/site-packages/sklearn/base.py:122: DeprecationWarning: Estimator ColumnExtractor modifies parameters in __init__. This behavior is deprecated as of 0.18 and support for this behavior will be removed in 0.20.\n",
      "  % type(estimator).__name__, DeprecationWarning)\n",
      "/Library/Python/2.7/site-packages/sklearn/base.py:122: DeprecationWarning: Estimator ColumnExtractor modifies parameters in __init__. This behavior is deprecated as of 0.18 and support for this behavior will be removed in 0.20.\n",
      "  % type(estimator).__name__, DeprecationWarning)\n",
      "/Library/Python/2.7/site-packages/sklearn/base.py:122: DeprecationWarning: Estimator ColumnExtractor modifies parameters in __init__. This behavior is deprecated as of 0.18 and support for this behavior will be removed in 0.20.\n",
      "  % type(estimator).__name__, DeprecationWarning)\n",
      "/Library/Python/2.7/site-packages/sklearn/base.py:122: DeprecationWarning: Estimator ColumnExtractor modifies parameters in __init__. This behavior is deprecated as of 0.18 and support for this behavior will be removed in 0.20.\n",
      "  % type(estimator).__name__, DeprecationWarning)\n",
      "/Library/Python/2.7/site-packages/sklearn/base.py:122: DeprecationWarning: Estimator ColumnExtractor modifies parameters in __init__. This behavior is deprecated as of 0.18 and support for this behavior will be removed in 0.20.\n",
      "  % type(estimator).__name__, DeprecationWarning)\n",
      "/Library/Python/2.7/site-packages/sklearn/base.py:122: DeprecationWarning: Estimator ColumnExtractor modifies parameters in __init__. This behavior is deprecated as of 0.18 and support for this behavior will be removed in 0.20.\n",
      "  % type(estimator).__name__, DeprecationWarning)\n",
      "/Library/Python/2.7/site-packages/sklearn/base.py:122: DeprecationWarning: Estimator ColumnExtractor modifies parameters in __init__. This behavior is deprecated as of 0.18 and support for this behavior will be removed in 0.20.\n",
      "  % type(estimator).__name__, DeprecationWarning)\n",
      "/Library/Python/2.7/site-packages/sklearn/base.py:122: DeprecationWarning: Estimator ColumnExtractor modifies parameters in __init__. This behavior is deprecated as of 0.18 and support for this behavior will be removed in 0.20.\n",
      "  % type(estimator).__name__, DeprecationWarning)\n",
      "/Library/Python/2.7/site-packages/sklearn/base.py:122: DeprecationWarning: Estimator ColumnExtractor modifies parameters in __init__. This behavior is deprecated as of 0.18 and support for this behavior will be removed in 0.20.\n",
      "  % type(estimator).__name__, DeprecationWarning)\n",
      "/Library/Python/2.7/site-packages/sklearn/base.py:122: DeprecationWarning: Estimator ColumnExtractor modifies parameters in __init__. This behavior is deprecated as of 0.18 and support for this behavior will be removed in 0.20.\n",
      "  % type(estimator).__name__, DeprecationWarning)\n",
      "/Library/Python/2.7/site-packages/sklearn/base.py:122: DeprecationWarning: Estimator ColumnExtractor modifies parameters in __init__. This behavior is deprecated as of 0.18 and support for this behavior will be removed in 0.20.\n",
      "  % type(estimator).__name__, DeprecationWarning)\n",
      "/Library/Python/2.7/site-packages/sklearn/base.py:122: DeprecationWarning: Estimator ColumnExtractor modifies parameters in __init__. This behavior is deprecated as of 0.18 and support for this behavior will be removed in 0.20.\n",
      "  % type(estimator).__name__, DeprecationWarning)\n",
      "/Library/Python/2.7/site-packages/sklearn/base.py:122: DeprecationWarning: Estimator ColumnExtractor modifies parameters in __init__. This behavior is deprecated as of 0.18 and support for this behavior will be removed in 0.20.\n",
      "  % type(estimator).__name__, DeprecationWarning)\n",
      "/Library/Python/2.7/site-packages/sklearn/base.py:122: DeprecationWarning: Estimator ColumnExtractor modifies parameters in __init__. This behavior is deprecated as of 0.18 and support for this behavior will be removed in 0.20.\n",
      "  % type(estimator).__name__, DeprecationWarning)\n",
      "/Library/Python/2.7/site-packages/sklearn/base.py:122: DeprecationWarning: Estimator ColumnExtractor modifies parameters in __init__. This behavior is deprecated as of 0.18 and support for this behavior will be removed in 0.20.\n",
      "  % type(estimator).__name__, DeprecationWarning)\n",
      "/Library/Python/2.7/site-packages/sklearn/base.py:122: DeprecationWarning: Estimator ColumnExtractor modifies parameters in __init__. This behavior is deprecated as of 0.18 and support for this behavior will be removed in 0.20.\n",
      "  % type(estimator).__name__, DeprecationWarning)\n",
      "/Library/Python/2.7/site-packages/sklearn/base.py:122: DeprecationWarning: Estimator ColumnExtractor modifies parameters in __init__. This behavior is deprecated as of 0.18 and support for this behavior will be removed in 0.20.\n",
      "  % type(estimator).__name__, DeprecationWarning)\n",
      "/Library/Python/2.7/site-packages/sklearn/base.py:122: DeprecationWarning: Estimator ColumnExtractor modifies parameters in __init__. This behavior is deprecated as of 0.18 and support for this behavior will be removed in 0.20.\n",
      "  % type(estimator).__name__, DeprecationWarning)\n",
      "/Library/Python/2.7/site-packages/sklearn/base.py:122: DeprecationWarning: Estimator ColumnExtractor modifies parameters in __init__. This behavior is deprecated as of 0.18 and support for this behavior will be removed in 0.20.\n",
      "  % type(estimator).__name__, DeprecationWarning)\n",
      "/Library/Python/2.7/site-packages/sklearn/base.py:122: DeprecationWarning: Estimator ColumnExtractor modifies parameters in __init__. This behavior is deprecated as of 0.18 and support for this behavior will be removed in 0.20.\n",
      "  % type(estimator).__name__, DeprecationWarning)\n",
      "/Library/Python/2.7/site-packages/sklearn/base.py:122: DeprecationWarning: Estimator ColumnExtractor modifies parameters in __init__. This behavior is deprecated as of 0.18 and support for this behavior will be removed in 0.20.\n",
      "  % type(estimator).__name__, DeprecationWarning)\n",
      "/Library/Python/2.7/site-packages/sklearn/base.py:122: DeprecationWarning: Estimator ColumnExtractor modifies parameters in __init__. This behavior is deprecated as of 0.18 and support for this behavior will be removed in 0.20.\n",
      "  % type(estimator).__name__, DeprecationWarning)\n",
      "/Library/Python/2.7/site-packages/sklearn/base.py:122: DeprecationWarning: Estimator ColumnExtractor modifies parameters in __init__. This behavior is deprecated as of 0.18 and support for this behavior will be removed in 0.20.\n",
      "  % type(estimator).__name__, DeprecationWarning)\n",
      "/Library/Python/2.7/site-packages/sklearn/base.py:122: DeprecationWarning: Estimator ColumnExtractor modifies parameters in __init__. This behavior is deprecated as of 0.18 and support for this behavior will be removed in 0.20.\n",
      "  % type(estimator).__name__, DeprecationWarning)\n",
      "/Library/Python/2.7/site-packages/sklearn/base.py:122: DeprecationWarning: Estimator ColumnExtractor modifies parameters in __init__. This behavior is deprecated as of 0.18 and support for this behavior will be removed in 0.20.\n",
      "  % type(estimator).__name__, DeprecationWarning)\n",
      "/Library/Python/2.7/site-packages/sklearn/base.py:122: DeprecationWarning: Estimator ColumnExtractor modifies parameters in __init__. This behavior is deprecated as of 0.18 and support for this behavior will be removed in 0.20.\n",
      "  % type(estimator).__name__, DeprecationWarning)\n",
      "/Library/Python/2.7/site-packages/sklearn/base.py:122: DeprecationWarning: Estimator ColumnExtractor modifies parameters in __init__. This behavior is deprecated as of 0.18 and support for this behavior will be removed in 0.20.\n",
      "  % type(estimator).__name__, DeprecationWarning)\n",
      "/Library/Python/2.7/site-packages/sklearn/base.py:122: DeprecationWarning: Estimator ColumnExtractor modifies parameters in __init__. This behavior is deprecated as of 0.18 and support for this behavior will be removed in 0.20.\n",
      "  % type(estimator).__name__, DeprecationWarning)\n",
      "/Library/Python/2.7/site-packages/sklearn/base.py:122: DeprecationWarning: Estimator ColumnExtractor modifies parameters in __init__. This behavior is deprecated as of 0.18 and support for this behavior will be removed in 0.20.\n",
      "  % type(estimator).__name__, DeprecationWarning)\n",
      "/Library/Python/2.7/site-packages/sklearn/base.py:122: DeprecationWarning: Estimator ColumnExtractor modifies parameters in __init__. This behavior is deprecated as of 0.18 and support for this behavior will be removed in 0.20.\n",
      "  % type(estimator).__name__, DeprecationWarning)\n",
      "/Library/Python/2.7/site-packages/sklearn/base.py:122: DeprecationWarning: Estimator ColumnExtractor modifies parameters in __init__. This behavior is deprecated as of 0.18 and support for this behavior will be removed in 0.20.\n",
      "  % type(estimator).__name__, DeprecationWarning)\n",
      "/Library/Python/2.7/site-packages/sklearn/base.py:122: DeprecationWarning: Estimator ColumnExtractor modifies parameters in __init__. This behavior is deprecated as of 0.18 and support for this behavior will be removed in 0.20.\n",
      "  % type(estimator).__name__, DeprecationWarning)\n",
      "/Library/Python/2.7/site-packages/sklearn/base.py:122: DeprecationWarning: Estimator ColumnExtractor modifies parameters in __init__. This behavior is deprecated as of 0.18 and support for this behavior will be removed in 0.20.\n",
      "  % type(estimator).__name__, DeprecationWarning)\n",
      "/Library/Python/2.7/site-packages/sklearn/base.py:122: DeprecationWarning: Estimator ColumnExtractor modifies parameters in __init__. This behavior is deprecated as of 0.18 and support for this behavior will be removed in 0.20.\n",
      "  % type(estimator).__name__, DeprecationWarning)\n",
      "/Library/Python/2.7/site-packages/sklearn/base.py:122: DeprecationWarning: Estimator ColumnExtractor modifies parameters in __init__. This behavior is deprecated as of 0.18 and support for this behavior will be removed in 0.20.\n",
      "  % type(estimator).__name__, DeprecationWarning)\n",
      "/Library/Python/2.7/site-packages/sklearn/base.py:122: DeprecationWarning: Estimator ColumnExtractor modifies parameters in __init__. This behavior is deprecated as of 0.18 and support for this behavior will be removed in 0.20.\n",
      "  % type(estimator).__name__, DeprecationWarning)\n",
      "/Library/Python/2.7/site-packages/sklearn/base.py:122: DeprecationWarning: Estimator ColumnExtractor modifies parameters in __init__. This behavior is deprecated as of 0.18 and support for this behavior will be removed in 0.20.\n",
      "  % type(estimator).__name__, DeprecationWarning)\n",
      "/Library/Python/2.7/site-packages/sklearn/base.py:122: DeprecationWarning: Estimator ColumnExtractor modifies parameters in __init__. This behavior is deprecated as of 0.18 and support for this behavior will be removed in 0.20.\n",
      "  % type(estimator).__name__, DeprecationWarning)\n",
      "/Library/Python/2.7/site-packages/sklearn/base.py:122: DeprecationWarning: Estimator ColumnExtractor modifies parameters in __init__. This behavior is deprecated as of 0.18 and support for this behavior will be removed in 0.20.\n",
      "  % type(estimator).__name__, DeprecationWarning)\n",
      "/Library/Python/2.7/site-packages/sklearn/base.py:122: DeprecationWarning: Estimator ColumnExtractor modifies parameters in __init__. This behavior is deprecated as of 0.18 and support for this behavior will be removed in 0.20.\n",
      "  % type(estimator).__name__, DeprecationWarning)\n",
      "/Library/Python/2.7/site-packages/sklearn/base.py:122: DeprecationWarning: Estimator ColumnExtractor modifies parameters in __init__. This behavior is deprecated as of 0.18 and support for this behavior will be removed in 0.20.\n",
      "  % type(estimator).__name__, DeprecationWarning)\n",
      "/Library/Python/2.7/site-packages/sklearn/base.py:122: DeprecationWarning: Estimator ColumnExtractor modifies parameters in __init__. This behavior is deprecated as of 0.18 and support for this behavior will be removed in 0.20.\n",
      "  % type(estimator).__name__, DeprecationWarning)\n",
      "/Library/Python/2.7/site-packages/sklearn/base.py:122: DeprecationWarning: Estimator ColumnExtractor modifies parameters in __init__. This behavior is deprecated as of 0.18 and support for this behavior will be removed in 0.20.\n",
      "  % type(estimator).__name__, DeprecationWarning)\n",
      "/Library/Python/2.7/site-packages/sklearn/base.py:122: DeprecationWarning: Estimator ColumnExtractor modifies parameters in __init__. This behavior is deprecated as of 0.18 and support for this behavior will be removed in 0.20.\n",
      "  % type(estimator).__name__, DeprecationWarning)\n",
      "/Library/Python/2.7/site-packages/sklearn/base.py:122: DeprecationWarning: Estimator ColumnExtractor modifies parameters in __init__. This behavior is deprecated as of 0.18 and support for this behavior will be removed in 0.20.\n",
      "  % type(estimator).__name__, DeprecationWarning)\n",
      "/Library/Python/2.7/site-packages/sklearn/base.py:122: DeprecationWarning: Estimator ColumnExtractor modifies parameters in __init__. This behavior is deprecated as of 0.18 and support for this behavior will be removed in 0.20.\n",
      "  % type(estimator).__name__, DeprecationWarning)\n",
      "/Library/Python/2.7/site-packages/sklearn/base.py:122: DeprecationWarning: Estimator ColumnExtractor modifies parameters in __init__. This behavior is deprecated as of 0.18 and support for this behavior will be removed in 0.20.\n",
      "  % type(estimator).__name__, DeprecationWarning)\n",
      "/Library/Python/2.7/site-packages/sklearn/base.py:122: DeprecationWarning: Estimator ColumnExtractor modifies parameters in __init__. This behavior is deprecated as of 0.18 and support for this behavior will be removed in 0.20.\n",
      "  % type(estimator).__name__, DeprecationWarning)\n",
      "/Library/Python/2.7/site-packages/sklearn/base.py:122: DeprecationWarning: Estimator ColumnExtractor modifies parameters in __init__. This behavior is deprecated as of 0.18 and support for this behavior will be removed in 0.20.\n",
      "  % type(estimator).__name__, DeprecationWarning)\n",
      "/Library/Python/2.7/site-packages/sklearn/base.py:122: DeprecationWarning: Estimator ColumnExtractor modifies parameters in __init__. This behavior is deprecated as of 0.18 and support for this behavior will be removed in 0.20.\n",
      "  % type(estimator).__name__, DeprecationWarning)\n",
      "/Library/Python/2.7/site-packages/sklearn/base.py:122: DeprecationWarning: Estimator ColumnExtractor modifies parameters in __init__. This behavior is deprecated as of 0.18 and support for this behavior will be removed in 0.20.\n",
      "  % type(estimator).__name__, DeprecationWarning)\n",
      "/Library/Python/2.7/site-packages/sklearn/base.py:122: DeprecationWarning: Estimator ColumnExtractor modifies parameters in __init__. This behavior is deprecated as of 0.18 and support for this behavior will be removed in 0.20.\n",
      "  % type(estimator).__name__, DeprecationWarning)\n",
      "/Library/Python/2.7/site-packages/sklearn/base.py:122: DeprecationWarning: Estimator ColumnExtractor modifies parameters in __init__. This behavior is deprecated as of 0.18 and support for this behavior will be removed in 0.20.\n",
      "  % type(estimator).__name__, DeprecationWarning)\n",
      "/Library/Python/2.7/site-packages/sklearn/base.py:122: DeprecationWarning: Estimator ColumnExtractor modifies parameters in __init__. This behavior is deprecated as of 0.18 and support for this behavior will be removed in 0.20.\n",
      "  % type(estimator).__name__, DeprecationWarning)\n",
      "/Library/Python/2.7/site-packages/sklearn/base.py:122: DeprecationWarning: Estimator ColumnExtractor modifies parameters in __init__. This behavior is deprecated as of 0.18 and support for this behavior will be removed in 0.20.\n",
      "  % type(estimator).__name__, DeprecationWarning)\n",
      "/Library/Python/2.7/site-packages/sklearn/base.py:122: DeprecationWarning: Estimator ColumnExtractor modifies parameters in __init__. This behavior is deprecated as of 0.18 and support for this behavior will be removed in 0.20.\n",
      "  % type(estimator).__name__, DeprecationWarning)\n",
      "/Library/Python/2.7/site-packages/sklearn/base.py:122: DeprecationWarning: Estimator ColumnExtractor modifies parameters in __init__. This behavior is deprecated as of 0.18 and support for this behavior will be removed in 0.20.\n",
      "  % type(estimator).__name__, DeprecationWarning)\n",
      "/Library/Python/2.7/site-packages/sklearn/base.py:122: DeprecationWarning: Estimator ColumnExtractor modifies parameters in __init__. This behavior is deprecated as of 0.18 and support for this behavior will be removed in 0.20.\n",
      "  % type(estimator).__name__, DeprecationWarning)\n",
      "/Library/Python/2.7/site-packages/sklearn/base.py:122: DeprecationWarning: Estimator ColumnExtractor modifies parameters in __init__. This behavior is deprecated as of 0.18 and support for this behavior will be removed in 0.20.\n",
      "  % type(estimator).__name__, DeprecationWarning)\n",
      "/Library/Python/2.7/site-packages/sklearn/base.py:122: DeprecationWarning: Estimator ColumnExtractor modifies parameters in __init__. This behavior is deprecated as of 0.18 and support for this behavior will be removed in 0.20.\n",
      "  % type(estimator).__name__, DeprecationWarning)\n",
      "/Library/Python/2.7/site-packages/sklearn/base.py:122: DeprecationWarning: Estimator ColumnExtractor modifies parameters in __init__. This behavior is deprecated as of 0.18 and support for this behavior will be removed in 0.20.\n",
      "  % type(estimator).__name__, DeprecationWarning)\n",
      "/Library/Python/2.7/site-packages/sklearn/base.py:122: DeprecationWarning: Estimator ColumnExtractor modifies parameters in __init__. This behavior is deprecated as of 0.18 and support for this behavior will be removed in 0.20.\n",
      "  % type(estimator).__name__, DeprecationWarning)\n",
      "/Library/Python/2.7/site-packages/sklearn/base.py:122: DeprecationWarning: Estimator ColumnExtractor modifies parameters in __init__. This behavior is deprecated as of 0.18 and support for this behavior will be removed in 0.20.\n",
      "  % type(estimator).__name__, DeprecationWarning)\n",
      "/Library/Python/2.7/site-packages/sklearn/base.py:122: DeprecationWarning: Estimator ColumnExtractor modifies parameters in __init__. This behavior is deprecated as of 0.18 and support for this behavior will be removed in 0.20.\n",
      "  % type(estimator).__name__, DeprecationWarning)\n",
      "/Library/Python/2.7/site-packages/sklearn/base.py:122: DeprecationWarning: Estimator ColumnExtractor modifies parameters in __init__. This behavior is deprecated as of 0.18 and support for this behavior will be removed in 0.20.\n",
      "  % type(estimator).__name__, DeprecationWarning)\n",
      "/Library/Python/2.7/site-packages/sklearn/base.py:122: DeprecationWarning: Estimator ColumnExtractor modifies parameters in __init__. This behavior is deprecated as of 0.18 and support for this behavior will be removed in 0.20.\n",
      "  % type(estimator).__name__, DeprecationWarning)\n",
      "/Library/Python/2.7/site-packages/sklearn/base.py:122: DeprecationWarning: Estimator ColumnExtractor modifies parameters in __init__. This behavior is deprecated as of 0.18 and support for this behavior will be removed in 0.20.\n",
      "  % type(estimator).__name__, DeprecationWarning)\n",
      "/Library/Python/2.7/site-packages/sklearn/base.py:122: DeprecationWarning: Estimator ColumnExtractor modifies parameters in __init__. This behavior is deprecated as of 0.18 and support for this behavior will be removed in 0.20.\n",
      "  % type(estimator).__name__, DeprecationWarning)\n",
      "/Library/Python/2.7/site-packages/sklearn/base.py:122: DeprecationWarning: Estimator ColumnExtractor modifies parameters in __init__. This behavior is deprecated as of 0.18 and support for this behavior will be removed in 0.20.\n",
      "  % type(estimator).__name__, DeprecationWarning)\n",
      "/Library/Python/2.7/site-packages/sklearn/base.py:122: DeprecationWarning: Estimator ColumnExtractor modifies parameters in __init__. This behavior is deprecated as of 0.18 and support for this behavior will be removed in 0.20.\n",
      "  % type(estimator).__name__, DeprecationWarning)\n",
      "/Library/Python/2.7/site-packages/sklearn/base.py:122: DeprecationWarning: Estimator ColumnExtractor modifies parameters in __init__. This behavior is deprecated as of 0.18 and support for this behavior will be removed in 0.20.\n",
      "  % type(estimator).__name__, DeprecationWarning)\n",
      "/Library/Python/2.7/site-packages/sklearn/base.py:122: DeprecationWarning: Estimator ColumnExtractor modifies parameters in __init__. This behavior is deprecated as of 0.18 and support for this behavior will be removed in 0.20.\n",
      "  % type(estimator).__name__, DeprecationWarning)\n",
      "/Library/Python/2.7/site-packages/sklearn/base.py:122: DeprecationWarning: Estimator ColumnExtractor modifies parameters in __init__. This behavior is deprecated as of 0.18 and support for this behavior will be removed in 0.20.\n",
      "  % type(estimator).__name__, DeprecationWarning)\n",
      "/Library/Python/2.7/site-packages/sklearn/base.py:122: DeprecationWarning: Estimator ColumnExtractor modifies parameters in __init__. This behavior is deprecated as of 0.18 and support for this behavior will be removed in 0.20.\n",
      "  % type(estimator).__name__, DeprecationWarning)\n",
      "/Library/Python/2.7/site-packages/sklearn/base.py:122: DeprecationWarning: Estimator ColumnExtractor modifies parameters in __init__. This behavior is deprecated as of 0.18 and support for this behavior will be removed in 0.20.\n",
      "  % type(estimator).__name__, DeprecationWarning)\n",
      "/Library/Python/2.7/site-packages/sklearn/base.py:122: DeprecationWarning: Estimator ColumnExtractor modifies parameters in __init__. This behavior is deprecated as of 0.18 and support for this behavior will be removed in 0.20.\n",
      "  % type(estimator).__name__, DeprecationWarning)\n",
      "/Library/Python/2.7/site-packages/sklearn/base.py:122: DeprecationWarning: Estimator ColumnExtractor modifies parameters in __init__. This behavior is deprecated as of 0.18 and support for this behavior will be removed in 0.20.\n",
      "  % type(estimator).__name__, DeprecationWarning)\n",
      "/Library/Python/2.7/site-packages/sklearn/base.py:122: DeprecationWarning: Estimator ColumnExtractor modifies parameters in __init__. This behavior is deprecated as of 0.18 and support for this behavior will be removed in 0.20.\n",
      "  % type(estimator).__name__, DeprecationWarning)\n",
      "/Library/Python/2.7/site-packages/sklearn/base.py:122: DeprecationWarning: Estimator ColumnExtractor modifies parameters in __init__. This behavior is deprecated as of 0.18 and support for this behavior will be removed in 0.20.\n",
      "  % type(estimator).__name__, DeprecationWarning)\n",
      "/Library/Python/2.7/site-packages/sklearn/base.py:122: DeprecationWarning: Estimator ColumnExtractor modifies parameters in __init__. This behavior is deprecated as of 0.18 and support for this behavior will be removed in 0.20.\n",
      "  % type(estimator).__name__, DeprecationWarning)\n",
      "/Library/Python/2.7/site-packages/sklearn/base.py:122: DeprecationWarning: Estimator ColumnExtractor modifies parameters in __init__. This behavior is deprecated as of 0.18 and support for this behavior will be removed in 0.20.\n",
      "  % type(estimator).__name__, DeprecationWarning)\n",
      "/Library/Python/2.7/site-packages/sklearn/base.py:122: DeprecationWarning: Estimator ColumnExtractor modifies parameters in __init__. This behavior is deprecated as of 0.18 and support for this behavior will be removed in 0.20.\n",
      "  % type(estimator).__name__, DeprecationWarning)\n",
      "/Library/Python/2.7/site-packages/sklearn/base.py:122: DeprecationWarning: Estimator ColumnExtractor modifies parameters in __init__. This behavior is deprecated as of 0.18 and support for this behavior will be removed in 0.20.\n",
      "  % type(estimator).__name__, DeprecationWarning)\n",
      "/Library/Python/2.7/site-packages/sklearn/base.py:122: DeprecationWarning: Estimator ColumnExtractor modifies parameters in __init__. This behavior is deprecated as of 0.18 and support for this behavior will be removed in 0.20.\n",
      "  % type(estimator).__name__, DeprecationWarning)\n",
      "/Library/Python/2.7/site-packages/sklearn/base.py:122: DeprecationWarning: Estimator ColumnExtractor modifies parameters in __init__. This behavior is deprecated as of 0.18 and support for this behavior will be removed in 0.20.\n",
      "  % type(estimator).__name__, DeprecationWarning)\n",
      "/Library/Python/2.7/site-packages/sklearn/base.py:122: DeprecationWarning: Estimator ColumnExtractor modifies parameters in __init__. This behavior is deprecated as of 0.18 and support for this behavior will be removed in 0.20.\n",
      "  % type(estimator).__name__, DeprecationWarning)\n",
      "/Library/Python/2.7/site-packages/sklearn/base.py:122: DeprecationWarning: Estimator ColumnExtractor modifies parameters in __init__. This behavior is deprecated as of 0.18 and support for this behavior will be removed in 0.20.\n",
      "  % type(estimator).__name__, DeprecationWarning)\n",
      "/Library/Python/2.7/site-packages/sklearn/base.py:122: DeprecationWarning: Estimator ColumnExtractor modifies parameters in __init__. This behavior is deprecated as of 0.18 and support for this behavior will be removed in 0.20.\n",
      "  % type(estimator).__name__, DeprecationWarning)\n",
      "/Library/Python/2.7/site-packages/sklearn/base.py:122: DeprecationWarning: Estimator ColumnExtractor modifies parameters in __init__. This behavior is deprecated as of 0.18 and support for this behavior will be removed in 0.20.\n",
      "  % type(estimator).__name__, DeprecationWarning)\n",
      "/Library/Python/2.7/site-packages/sklearn/base.py:122: DeprecationWarning: Estimator ColumnExtractor modifies parameters in __init__. This behavior is deprecated as of 0.18 and support for this behavior will be removed in 0.20.\n",
      "  % type(estimator).__name__, DeprecationWarning)\n",
      "/Library/Python/2.7/site-packages/sklearn/base.py:122: DeprecationWarning: Estimator ColumnExtractor modifies parameters in __init__. This behavior is deprecated as of 0.18 and support for this behavior will be removed in 0.20.\n",
      "  % type(estimator).__name__, DeprecationWarning)\n",
      "/Library/Python/2.7/site-packages/sklearn/base.py:122: DeprecationWarning: Estimator ColumnExtractor modifies parameters in __init__. This behavior is deprecated as of 0.18 and support for this behavior will be removed in 0.20.\n",
      "  % type(estimator).__name__, DeprecationWarning)\n",
      "/Library/Python/2.7/site-packages/sklearn/base.py:122: DeprecationWarning: Estimator ColumnExtractor modifies parameters in __init__. This behavior is deprecated as of 0.18 and support for this behavior will be removed in 0.20.\n",
      "  % type(estimator).__name__, DeprecationWarning)\n",
      "/Library/Python/2.7/site-packages/sklearn/base.py:122: DeprecationWarning: Estimator ColumnExtractor modifies parameters in __init__. This behavior is deprecated as of 0.18 and support for this behavior will be removed in 0.20.\n",
      "  % type(estimator).__name__, DeprecationWarning)\n",
      "/Library/Python/2.7/site-packages/sklearn/base.py:122: DeprecationWarning: Estimator ColumnExtractor modifies parameters in __init__. This behavior is deprecated as of 0.18 and support for this behavior will be removed in 0.20.\n",
      "  % type(estimator).__name__, DeprecationWarning)\n",
      "/Library/Python/2.7/site-packages/sklearn/base.py:122: DeprecationWarning: Estimator ColumnExtractor modifies parameters in __init__. This behavior is deprecated as of 0.18 and support for this behavior will be removed in 0.20.\n",
      "  % type(estimator).__name__, DeprecationWarning)\n",
      "/Library/Python/2.7/site-packages/sklearn/base.py:122: DeprecationWarning: Estimator ColumnExtractor modifies parameters in __init__. This behavior is deprecated as of 0.18 and support for this behavior will be removed in 0.20.\n",
      "  % type(estimator).__name__, DeprecationWarning)\n",
      "/Library/Python/2.7/site-packages/sklearn/base.py:122: DeprecationWarning: Estimator ColumnExtractor modifies parameters in __init__. This behavior is deprecated as of 0.18 and support for this behavior will be removed in 0.20.\n",
      "  % type(estimator).__name__, DeprecationWarning)\n",
      "/Library/Python/2.7/site-packages/sklearn/base.py:122: DeprecationWarning: Estimator ColumnExtractor modifies parameters in __init__. This behavior is deprecated as of 0.18 and support for this behavior will be removed in 0.20.\n",
      "  % type(estimator).__name__, DeprecationWarning)\n",
      "/Library/Python/2.7/site-packages/sklearn/base.py:122: DeprecationWarning: Estimator ColumnExtractor modifies parameters in __init__. This behavior is deprecated as of 0.18 and support for this behavior will be removed in 0.20.\n",
      "  % type(estimator).__name__, DeprecationWarning)\n",
      "/Library/Python/2.7/site-packages/sklearn/base.py:122: DeprecationWarning: Estimator ColumnExtractor modifies parameters in __init__. This behavior is deprecated as of 0.18 and support for this behavior will be removed in 0.20.\n",
      "  % type(estimator).__name__, DeprecationWarning)\n",
      "/Library/Python/2.7/site-packages/sklearn/base.py:122: DeprecationWarning: Estimator ColumnExtractor modifies parameters in __init__. This behavior is deprecated as of 0.18 and support for this behavior will be removed in 0.20.\n",
      "  % type(estimator).__name__, DeprecationWarning)\n",
      "/Library/Python/2.7/site-packages/sklearn/base.py:122: DeprecationWarning: Estimator ColumnExtractor modifies parameters in __init__. This behavior is deprecated as of 0.18 and support for this behavior will be removed in 0.20.\n",
      "  % type(estimator).__name__, DeprecationWarning)\n",
      "/Library/Python/2.7/site-packages/sklearn/base.py:122: DeprecationWarning: Estimator ColumnExtractor modifies parameters in __init__. This behavior is deprecated as of 0.18 and support for this behavior will be removed in 0.20.\n",
      "  % type(estimator).__name__, DeprecationWarning)\n",
      "/Library/Python/2.7/site-packages/sklearn/base.py:122: DeprecationWarning: Estimator ColumnExtractor modifies parameters in __init__. This behavior is deprecated as of 0.18 and support for this behavior will be removed in 0.20.\n",
      "  % type(estimator).__name__, DeprecationWarning)\n",
      "/Library/Python/2.7/site-packages/sklearn/base.py:122: DeprecationWarning: Estimator ColumnExtractor modifies parameters in __init__. This behavior is deprecated as of 0.18 and support for this behavior will be removed in 0.20.\n",
      "  % type(estimator).__name__, DeprecationWarning)\n",
      "/Library/Python/2.7/site-packages/sklearn/base.py:122: DeprecationWarning: Estimator ColumnExtractor modifies parameters in __init__. This behavior is deprecated as of 0.18 and support for this behavior will be removed in 0.20.\n",
      "  % type(estimator).__name__, DeprecationWarning)\n",
      "/Library/Python/2.7/site-packages/sklearn/base.py:122: DeprecationWarning: Estimator ColumnExtractor modifies parameters in __init__. This behavior is deprecated as of 0.18 and support for this behavior will be removed in 0.20.\n",
      "  % type(estimator).__name__, DeprecationWarning)\n",
      "/Library/Python/2.7/site-packages/sklearn/base.py:122: DeprecationWarning: Estimator ColumnExtractor modifies parameters in __init__. This behavior is deprecated as of 0.18 and support for this behavior will be removed in 0.20.\n",
      "  % type(estimator).__name__, DeprecationWarning)\n",
      "/Library/Python/2.7/site-packages/sklearn/base.py:122: DeprecationWarning: Estimator ColumnExtractor modifies parameters in __init__. This behavior is deprecated as of 0.18 and support for this behavior will be removed in 0.20.\n",
      "  % type(estimator).__name__, DeprecationWarning)\n",
      "/Library/Python/2.7/site-packages/sklearn/base.py:122: DeprecationWarning: Estimator ColumnExtractor modifies parameters in __init__. This behavior is deprecated as of 0.18 and support for this behavior will be removed in 0.20.\n",
      "  % type(estimator).__name__, DeprecationWarning)\n",
      "/Library/Python/2.7/site-packages/sklearn/base.py:122: DeprecationWarning: Estimator ColumnExtractor modifies parameters in __init__. This behavior is deprecated as of 0.18 and support for this behavior will be removed in 0.20.\n",
      "  % type(estimator).__name__, DeprecationWarning)\n",
      "/Library/Python/2.7/site-packages/sklearn/base.py:122: DeprecationWarning: Estimator ColumnExtractor modifies parameters in __init__. This behavior is deprecated as of 0.18 and support for this behavior will be removed in 0.20.\n",
      "  % type(estimator).__name__, DeprecationWarning)\n",
      "/Library/Python/2.7/site-packages/sklearn/base.py:122: DeprecationWarning: Estimator ColumnExtractor modifies parameters in __init__. This behavior is deprecated as of 0.18 and support for this behavior will be removed in 0.20.\n",
      "  % type(estimator).__name__, DeprecationWarning)\n",
      "/Library/Python/2.7/site-packages/sklearn/base.py:122: DeprecationWarning: Estimator ColumnExtractor modifies parameters in __init__. This behavior is deprecated as of 0.18 and support for this behavior will be removed in 0.20.\n",
      "  % type(estimator).__name__, DeprecationWarning)\n",
      "/Library/Python/2.7/site-packages/sklearn/base.py:122: DeprecationWarning: Estimator ColumnExtractor modifies parameters in __init__. This behavior is deprecated as of 0.18 and support for this behavior will be removed in 0.20.\n",
      "  % type(estimator).__name__, DeprecationWarning)\n",
      "/Library/Python/2.7/site-packages/sklearn/base.py:122: DeprecationWarning: Estimator ColumnExtractor modifies parameters in __init__. This behavior is deprecated as of 0.18 and support for this behavior will be removed in 0.20.\n",
      "  % type(estimator).__name__, DeprecationWarning)\n",
      "/Library/Python/2.7/site-packages/sklearn/base.py:122: DeprecationWarning: Estimator ColumnExtractor modifies parameters in __init__. This behavior is deprecated as of 0.18 and support for this behavior will be removed in 0.20.\n",
      "  % type(estimator).__name__, DeprecationWarning)\n",
      "/Library/Python/2.7/site-packages/sklearn/base.py:122: DeprecationWarning: Estimator ColumnExtractor modifies parameters in __init__. This behavior is deprecated as of 0.18 and support for this behavior will be removed in 0.20.\n",
      "  % type(estimator).__name__, DeprecationWarning)\n",
      "/Library/Python/2.7/site-packages/sklearn/base.py:122: DeprecationWarning: Estimator ColumnExtractor modifies parameters in __init__. This behavior is deprecated as of 0.18 and support for this behavior will be removed in 0.20.\n",
      "  % type(estimator).__name__, DeprecationWarning)\n",
      "/Library/Python/2.7/site-packages/sklearn/base.py:122: DeprecationWarning: Estimator ColumnExtractor modifies parameters in __init__. This behavior is deprecated as of 0.18 and support for this behavior will be removed in 0.20.\n",
      "  % type(estimator).__name__, DeprecationWarning)\n",
      "/Library/Python/2.7/site-packages/sklearn/base.py:122: DeprecationWarning: Estimator ColumnExtractor modifies parameters in __init__. This behavior is deprecated as of 0.18 and support for this behavior will be removed in 0.20.\n",
      "  % type(estimator).__name__, DeprecationWarning)\n",
      "/Library/Python/2.7/site-packages/sklearn/base.py:122: DeprecationWarning: Estimator ColumnExtractor modifies parameters in __init__. This behavior is deprecated as of 0.18 and support for this behavior will be removed in 0.20.\n",
      "  % type(estimator).__name__, DeprecationWarning)\n",
      "/Library/Python/2.7/site-packages/sklearn/base.py:122: DeprecationWarning: Estimator ColumnExtractor modifies parameters in __init__. This behavior is deprecated as of 0.18 and support for this behavior will be removed in 0.20.\n",
      "  % type(estimator).__name__, DeprecationWarning)\n",
      "/Library/Python/2.7/site-packages/sklearn/base.py:122: DeprecationWarning: Estimator ColumnExtractor modifies parameters in __init__. This behavior is deprecated as of 0.18 and support for this behavior will be removed in 0.20.\n",
      "  % type(estimator).__name__, DeprecationWarning)\n",
      "/Library/Python/2.7/site-packages/sklearn/base.py:122: DeprecationWarning: Estimator ColumnExtractor modifies parameters in __init__. This behavior is deprecated as of 0.18 and support for this behavior will be removed in 0.20.\n",
      "  % type(estimator).__name__, DeprecationWarning)\n",
      "/Library/Python/2.7/site-packages/sklearn/base.py:122: DeprecationWarning: Estimator ColumnExtractor modifies parameters in __init__. This behavior is deprecated as of 0.18 and support for this behavior will be removed in 0.20.\n",
      "  % type(estimator).__name__, DeprecationWarning)\n",
      "/Library/Python/2.7/site-packages/sklearn/base.py:122: DeprecationWarning: Estimator ColumnExtractor modifies parameters in __init__. This behavior is deprecated as of 0.18 and support for this behavior will be removed in 0.20.\n",
      "  % type(estimator).__name__, DeprecationWarning)\n",
      "/Library/Python/2.7/site-packages/sklearn/base.py:122: DeprecationWarning: Estimator ColumnExtractor modifies parameters in __init__. This behavior is deprecated as of 0.18 and support for this behavior will be removed in 0.20.\n",
      "  % type(estimator).__name__, DeprecationWarning)\n",
      "/Library/Python/2.7/site-packages/sklearn/base.py:122: DeprecationWarning: Estimator ColumnExtractor modifies parameters in __init__. This behavior is deprecated as of 0.18 and support for this behavior will be removed in 0.20.\n",
      "  % type(estimator).__name__, DeprecationWarning)\n",
      "/Library/Python/2.7/site-packages/sklearn/base.py:122: DeprecationWarning: Estimator ColumnExtractor modifies parameters in __init__. This behavior is deprecated as of 0.18 and support for this behavior will be removed in 0.20.\n",
      "  % type(estimator).__name__, DeprecationWarning)\n",
      "/Library/Python/2.7/site-packages/sklearn/base.py:122: DeprecationWarning: Estimator ColumnExtractor modifies parameters in __init__. This behavior is deprecated as of 0.18 and support for this behavior will be removed in 0.20.\n",
      "  % type(estimator).__name__, DeprecationWarning)\n",
      "/Library/Python/2.7/site-packages/sklearn/base.py:122: DeprecationWarning: Estimator ColumnExtractor modifies parameters in __init__. This behavior is deprecated as of 0.18 and support for this behavior will be removed in 0.20.\n",
      "  % type(estimator).__name__, DeprecationWarning)\n",
      "/Library/Python/2.7/site-packages/sklearn/base.py:122: DeprecationWarning: Estimator ColumnExtractor modifies parameters in __init__. This behavior is deprecated as of 0.18 and support for this behavior will be removed in 0.20.\n",
      "  % type(estimator).__name__, DeprecationWarning)\n",
      "/Library/Python/2.7/site-packages/sklearn/base.py:122: DeprecationWarning: Estimator ColumnExtractor modifies parameters in __init__. This behavior is deprecated as of 0.18 and support for this behavior will be removed in 0.20.\n",
      "  % type(estimator).__name__, DeprecationWarning)\n",
      "/Library/Python/2.7/site-packages/sklearn/base.py:122: DeprecationWarning: Estimator ColumnExtractor modifies parameters in __init__. This behavior is deprecated as of 0.18 and support for this behavior will be removed in 0.20.\n",
      "  % type(estimator).__name__, DeprecationWarning)\n",
      "/Library/Python/2.7/site-packages/sklearn/base.py:122: DeprecationWarning: Estimator ColumnExtractor modifies parameters in __init__. This behavior is deprecated as of 0.18 and support for this behavior will be removed in 0.20.\n",
      "  % type(estimator).__name__, DeprecationWarning)\n",
      "/Library/Python/2.7/site-packages/sklearn/base.py:122: DeprecationWarning: Estimator ColumnExtractor modifies parameters in __init__. This behavior is deprecated as of 0.18 and support for this behavior will be removed in 0.20.\n",
      "  % type(estimator).__name__, DeprecationWarning)\n",
      "/Library/Python/2.7/site-packages/sklearn/base.py:122: DeprecationWarning: Estimator ColumnExtractor modifies parameters in __init__. This behavior is deprecated as of 0.18 and support for this behavior will be removed in 0.20.\n",
      "  % type(estimator).__name__, DeprecationWarning)\n",
      "/Library/Python/2.7/site-packages/sklearn/base.py:122: DeprecationWarning: Estimator ColumnExtractor modifies parameters in __init__. This behavior is deprecated as of 0.18 and support for this behavior will be removed in 0.20.\n",
      "  % type(estimator).__name__, DeprecationWarning)\n",
      "/Library/Python/2.7/site-packages/sklearn/base.py:122: DeprecationWarning: Estimator ColumnExtractor modifies parameters in __init__. This behavior is deprecated as of 0.18 and support for this behavior will be removed in 0.20.\n",
      "  % type(estimator).__name__, DeprecationWarning)\n",
      "/Library/Python/2.7/site-packages/sklearn/base.py:122: DeprecationWarning: Estimator ColumnExtractor modifies parameters in __init__. This behavior is deprecated as of 0.18 and support for this behavior will be removed in 0.20.\n",
      "  % type(estimator).__name__, DeprecationWarning)\n",
      "/Library/Python/2.7/site-packages/sklearn/base.py:122: DeprecationWarning: Estimator ColumnExtractor modifies parameters in __init__. This behavior is deprecated as of 0.18 and support for this behavior will be removed in 0.20.\n",
      "  % type(estimator).__name__, DeprecationWarning)\n",
      "/Library/Python/2.7/site-packages/sklearn/base.py:122: DeprecationWarning: Estimator ColumnExtractor modifies parameters in __init__. This behavior is deprecated as of 0.18 and support for this behavior will be removed in 0.20.\n",
      "  % type(estimator).__name__, DeprecationWarning)\n",
      "/Library/Python/2.7/site-packages/sklearn/base.py:122: DeprecationWarning: Estimator ColumnExtractor modifies parameters in __init__. This behavior is deprecated as of 0.18 and support for this behavior will be removed in 0.20.\n",
      "  % type(estimator).__name__, DeprecationWarning)\n",
      "/Library/Python/2.7/site-packages/sklearn/base.py:122: DeprecationWarning: Estimator ColumnExtractor modifies parameters in __init__. This behavior is deprecated as of 0.18 and support for this behavior will be removed in 0.20.\n",
      "  % type(estimator).__name__, DeprecationWarning)\n",
      "/Library/Python/2.7/site-packages/sklearn/base.py:122: DeprecationWarning: Estimator ColumnExtractor modifies parameters in __init__. This behavior is deprecated as of 0.18 and support for this behavior will be removed in 0.20.\n",
      "  % type(estimator).__name__, DeprecationWarning)\n",
      "/Library/Python/2.7/site-packages/sklearn/base.py:122: DeprecationWarning: Estimator ColumnExtractor modifies parameters in __init__. This behavior is deprecated as of 0.18 and support for this behavior will be removed in 0.20.\n",
      "  % type(estimator).__name__, DeprecationWarning)\n",
      "/Library/Python/2.7/site-packages/sklearn/base.py:122: DeprecationWarning: Estimator ColumnExtractor modifies parameters in __init__. This behavior is deprecated as of 0.18 and support for this behavior will be removed in 0.20.\n",
      "  % type(estimator).__name__, DeprecationWarning)\n",
      "/Library/Python/2.7/site-packages/sklearn/base.py:122: DeprecationWarning: Estimator ColumnExtractor modifies parameters in __init__. This behavior is deprecated as of 0.18 and support for this behavior will be removed in 0.20.\n",
      "  % type(estimator).__name__, DeprecationWarning)\n",
      "/Library/Python/2.7/site-packages/sklearn/base.py:122: DeprecationWarning: Estimator ColumnExtractor modifies parameters in __init__. This behavior is deprecated as of 0.18 and support for this behavior will be removed in 0.20.\n",
      "  % type(estimator).__name__, DeprecationWarning)\n",
      "/Library/Python/2.7/site-packages/sklearn/base.py:122: DeprecationWarning: Estimator ColumnExtractor modifies parameters in __init__. This behavior is deprecated as of 0.18 and support for this behavior will be removed in 0.20.\n",
      "  % type(estimator).__name__, DeprecationWarning)\n",
      "/Library/Python/2.7/site-packages/sklearn/base.py:122: DeprecationWarning: Estimator ColumnExtractor modifies parameters in __init__. This behavior is deprecated as of 0.18 and support for this behavior will be removed in 0.20.\n",
      "  % type(estimator).__name__, DeprecationWarning)\n",
      "/Library/Python/2.7/site-packages/sklearn/base.py:122: DeprecationWarning: Estimator ColumnExtractor modifies parameters in __init__. This behavior is deprecated as of 0.18 and support for this behavior will be removed in 0.20.\n",
      "  % type(estimator).__name__, DeprecationWarning)\n",
      "/Library/Python/2.7/site-packages/sklearn/base.py:122: DeprecationWarning: Estimator ColumnExtractor modifies parameters in __init__. This behavior is deprecated as of 0.18 and support for this behavior will be removed in 0.20.\n",
      "  % type(estimator).__name__, DeprecationWarning)\n",
      "/Library/Python/2.7/site-packages/sklearn/base.py:122: DeprecationWarning: Estimator ColumnExtractor modifies parameters in __init__. This behavior is deprecated as of 0.18 and support for this behavior will be removed in 0.20.\n",
      "  % type(estimator).__name__, DeprecationWarning)\n",
      "/Library/Python/2.7/site-packages/sklearn/base.py:122: DeprecationWarning: Estimator ColumnExtractor modifies parameters in __init__. This behavior is deprecated as of 0.18 and support for this behavior will be removed in 0.20.\n",
      "  % type(estimator).__name__, DeprecationWarning)\n",
      "/Library/Python/2.7/site-packages/sklearn/base.py:122: DeprecationWarning: Estimator ColumnExtractor modifies parameters in __init__. This behavior is deprecated as of 0.18 and support for this behavior will be removed in 0.20.\n",
      "  % type(estimator).__name__, DeprecationWarning)\n",
      "/Library/Python/2.7/site-packages/sklearn/base.py:122: DeprecationWarning: Estimator ColumnExtractor modifies parameters in __init__. This behavior is deprecated as of 0.18 and support for this behavior will be removed in 0.20.\n",
      "  % type(estimator).__name__, DeprecationWarning)\n",
      "/Library/Python/2.7/site-packages/sklearn/base.py:122: DeprecationWarning: Estimator ColumnExtractor modifies parameters in __init__. This behavior is deprecated as of 0.18 and support for this behavior will be removed in 0.20.\n",
      "  % type(estimator).__name__, DeprecationWarning)\n",
      "/Library/Python/2.7/site-packages/sklearn/base.py:122: DeprecationWarning: Estimator ColumnExtractor modifies parameters in __init__. This behavior is deprecated as of 0.18 and support for this behavior will be removed in 0.20.\n",
      "  % type(estimator).__name__, DeprecationWarning)\n",
      "/Library/Python/2.7/site-packages/sklearn/base.py:122: DeprecationWarning: Estimator ColumnExtractor modifies parameters in __init__. This behavior is deprecated as of 0.18 and support for this behavior will be removed in 0.20.\n",
      "  % type(estimator).__name__, DeprecationWarning)\n",
      "/Library/Python/2.7/site-packages/sklearn/base.py:122: DeprecationWarning: Estimator ColumnExtractor modifies parameters in __init__. This behavior is deprecated as of 0.18 and support for this behavior will be removed in 0.20.\n",
      "  % type(estimator).__name__, DeprecationWarning)\n",
      "/Library/Python/2.7/site-packages/sklearn/base.py:122: DeprecationWarning: Estimator ColumnExtractor modifies parameters in __init__. This behavior is deprecated as of 0.18 and support for this behavior will be removed in 0.20.\n",
      "  % type(estimator).__name__, DeprecationWarning)\n",
      "/Library/Python/2.7/site-packages/sklearn/base.py:122: DeprecationWarning: Estimator ColumnExtractor modifies parameters in __init__. This behavior is deprecated as of 0.18 and support for this behavior will be removed in 0.20.\n",
      "  % type(estimator).__name__, DeprecationWarning)\n",
      "/Library/Python/2.7/site-packages/sklearn/base.py:122: DeprecationWarning: Estimator ColumnExtractor modifies parameters in __init__. This behavior is deprecated as of 0.18 and support for this behavior will be removed in 0.20.\n",
      "  % type(estimator).__name__, DeprecationWarning)\n",
      "/Library/Python/2.7/site-packages/sklearn/base.py:122: DeprecationWarning: Estimator ColumnExtractor modifies parameters in __init__. This behavior is deprecated as of 0.18 and support for this behavior will be removed in 0.20.\n",
      "  % type(estimator).__name__, DeprecationWarning)\n",
      "/Library/Python/2.7/site-packages/sklearn/base.py:122: DeprecationWarning: Estimator ColumnExtractor modifies parameters in __init__. This behavior is deprecated as of 0.18 and support for this behavior will be removed in 0.20.\n",
      "  % type(estimator).__name__, DeprecationWarning)\n",
      "/Library/Python/2.7/site-packages/sklearn/base.py:122: DeprecationWarning: Estimator ColumnExtractor modifies parameters in __init__. This behavior is deprecated as of 0.18 and support for this behavior will be removed in 0.20.\n",
      "  % type(estimator).__name__, DeprecationWarning)\n",
      "/Library/Python/2.7/site-packages/sklearn/base.py:122: DeprecationWarning: Estimator ColumnExtractor modifies parameters in __init__. This behavior is deprecated as of 0.18 and support for this behavior will be removed in 0.20.\n",
      "  % type(estimator).__name__, DeprecationWarning)\n",
      "/Library/Python/2.7/site-packages/sklearn/base.py:122: DeprecationWarning: Estimator ColumnExtractor modifies parameters in __init__. This behavior is deprecated as of 0.18 and support for this behavior will be removed in 0.20.\n",
      "  % type(estimator).__name__, DeprecationWarning)\n",
      "/Library/Python/2.7/site-packages/sklearn/base.py:122: DeprecationWarning: Estimator ColumnExtractor modifies parameters in __init__. This behavior is deprecated as of 0.18 and support for this behavior will be removed in 0.20.\n",
      "  % type(estimator).__name__, DeprecationWarning)\n",
      "/Library/Python/2.7/site-packages/sklearn/base.py:122: DeprecationWarning: Estimator ColumnExtractor modifies parameters in __init__. This behavior is deprecated as of 0.18 and support for this behavior will be removed in 0.20.\n",
      "  % type(estimator).__name__, DeprecationWarning)\n",
      "/Library/Python/2.7/site-packages/sklearn/base.py:122: DeprecationWarning: Estimator ColumnExtractor modifies parameters in __init__. This behavior is deprecated as of 0.18 and support for this behavior will be removed in 0.20.\n",
      "  % type(estimator).__name__, DeprecationWarning)\n",
      "/Library/Python/2.7/site-packages/sklearn/base.py:122: DeprecationWarning: Estimator ColumnExtractor modifies parameters in __init__. This behavior is deprecated as of 0.18 and support for this behavior will be removed in 0.20.\n",
      "  % type(estimator).__name__, DeprecationWarning)\n",
      "/Library/Python/2.7/site-packages/sklearn/base.py:122: DeprecationWarning: Estimator ColumnExtractor modifies parameters in __init__. This behavior is deprecated as of 0.18 and support for this behavior will be removed in 0.20.\n",
      "  % type(estimator).__name__, DeprecationWarning)\n",
      "/Library/Python/2.7/site-packages/sklearn/base.py:122: DeprecationWarning: Estimator ColumnExtractor modifies parameters in __init__. This behavior is deprecated as of 0.18 and support for this behavior will be removed in 0.20.\n",
      "  % type(estimator).__name__, DeprecationWarning)\n",
      "/Library/Python/2.7/site-packages/sklearn/base.py:122: DeprecationWarning: Estimator ColumnExtractor modifies parameters in __init__. This behavior is deprecated as of 0.18 and support for this behavior will be removed in 0.20.\n",
      "  % type(estimator).__name__, DeprecationWarning)\n",
      "/Library/Python/2.7/site-packages/sklearn/base.py:122: DeprecationWarning: Estimator ColumnExtractor modifies parameters in __init__. This behavior is deprecated as of 0.18 and support for this behavior will be removed in 0.20.\n",
      "  % type(estimator).__name__, DeprecationWarning)\n",
      "/Library/Python/2.7/site-packages/sklearn/base.py:122: DeprecationWarning: Estimator ColumnExtractor modifies parameters in __init__. This behavior is deprecated as of 0.18 and support for this behavior will be removed in 0.20.\n",
      "  % type(estimator).__name__, DeprecationWarning)\n",
      "/Library/Python/2.7/site-packages/sklearn/base.py:122: DeprecationWarning: Estimator ColumnExtractor modifies parameters in __init__. This behavior is deprecated as of 0.18 and support for this behavior will be removed in 0.20.\n",
      "  % type(estimator).__name__, DeprecationWarning)\n",
      "/Library/Python/2.7/site-packages/sklearn/base.py:122: DeprecationWarning: Estimator ColumnExtractor modifies parameters in __init__. This behavior is deprecated as of 0.18 and support for this behavior will be removed in 0.20.\n",
      "  % type(estimator).__name__, DeprecationWarning)\n",
      "/Library/Python/2.7/site-packages/sklearn/base.py:122: DeprecationWarning: Estimator ColumnExtractor modifies parameters in __init__. This behavior is deprecated as of 0.18 and support for this behavior will be removed in 0.20.\n",
      "  % type(estimator).__name__, DeprecationWarning)\n",
      "/Library/Python/2.7/site-packages/sklearn/base.py:122: DeprecationWarning: Estimator ColumnExtractor modifies parameters in __init__. This behavior is deprecated as of 0.18 and support for this behavior will be removed in 0.20.\n",
      "  % type(estimator).__name__, DeprecationWarning)\n",
      "/Library/Python/2.7/site-packages/sklearn/base.py:122: DeprecationWarning: Estimator ColumnExtractor modifies parameters in __init__. This behavior is deprecated as of 0.18 and support for this behavior will be removed in 0.20.\n",
      "  % type(estimator).__name__, DeprecationWarning)\n",
      "/Library/Python/2.7/site-packages/sklearn/base.py:122: DeprecationWarning: Estimator ColumnExtractor modifies parameters in __init__. This behavior is deprecated as of 0.18 and support for this behavior will be removed in 0.20.\n",
      "  % type(estimator).__name__, DeprecationWarning)\n",
      "/Library/Python/2.7/site-packages/sklearn/base.py:122: DeprecationWarning: Estimator ColumnExtractor modifies parameters in __init__. This behavior is deprecated as of 0.18 and support for this behavior will be removed in 0.20.\n",
      "  % type(estimator).__name__, DeprecationWarning)\n",
      "/Library/Python/2.7/site-packages/sklearn/base.py:122: DeprecationWarning: Estimator ColumnExtractor modifies parameters in __init__. This behavior is deprecated as of 0.18 and support for this behavior will be removed in 0.20.\n",
      "  % type(estimator).__name__, DeprecationWarning)\n",
      "/Library/Python/2.7/site-packages/sklearn/base.py:122: DeprecationWarning: Estimator ColumnExtractor modifies parameters in __init__. This behavior is deprecated as of 0.18 and support for this behavior will be removed in 0.20.\n",
      "  % type(estimator).__name__, DeprecationWarning)\n",
      "/Library/Python/2.7/site-packages/sklearn/base.py:122: DeprecationWarning: Estimator ColumnExtractor modifies parameters in __init__. This behavior is deprecated as of 0.18 and support for this behavior will be removed in 0.20.\n",
      "  % type(estimator).__name__, DeprecationWarning)\n",
      "/Library/Python/2.7/site-packages/sklearn/base.py:122: DeprecationWarning: Estimator ColumnExtractor modifies parameters in __init__. This behavior is deprecated as of 0.18 and support for this behavior will be removed in 0.20.\n",
      "  % type(estimator).__name__, DeprecationWarning)\n",
      "/Library/Python/2.7/site-packages/sklearn/base.py:122: DeprecationWarning: Estimator ColumnExtractor modifies parameters in __init__. This behavior is deprecated as of 0.18 and support for this behavior will be removed in 0.20.\n",
      "  % type(estimator).__name__, DeprecationWarning)\n",
      "/Library/Python/2.7/site-packages/sklearn/base.py:122: DeprecationWarning: Estimator ColumnExtractor modifies parameters in __init__. This behavior is deprecated as of 0.18 and support for this behavior will be removed in 0.20.\n",
      "  % type(estimator).__name__, DeprecationWarning)\n",
      "/Library/Python/2.7/site-packages/sklearn/base.py:122: DeprecationWarning: Estimator ColumnExtractor modifies parameters in __init__. This behavior is deprecated as of 0.18 and support for this behavior will be removed in 0.20.\n",
      "  % type(estimator).__name__, DeprecationWarning)\n",
      "/Library/Python/2.7/site-packages/sklearn/base.py:122: DeprecationWarning: Estimator ColumnExtractor modifies parameters in __init__. This behavior is deprecated as of 0.18 and support for this behavior will be removed in 0.20.\n",
      "  % type(estimator).__name__, DeprecationWarning)\n",
      "/Library/Python/2.7/site-packages/sklearn/base.py:122: DeprecationWarning: Estimator ColumnExtractor modifies parameters in __init__. This behavior is deprecated as of 0.18 and support for this behavior will be removed in 0.20.\n",
      "  % type(estimator).__name__, DeprecationWarning)\n",
      "/Library/Python/2.7/site-packages/sklearn/base.py:122: DeprecationWarning: Estimator ColumnExtractor modifies parameters in __init__. This behavior is deprecated as of 0.18 and support for this behavior will be removed in 0.20.\n",
      "  % type(estimator).__name__, DeprecationWarning)\n",
      "/Library/Python/2.7/site-packages/sklearn/base.py:122: DeprecationWarning: Estimator ColumnExtractor modifies parameters in __init__. This behavior is deprecated as of 0.18 and support for this behavior will be removed in 0.20.\n",
      "  % type(estimator).__name__, DeprecationWarning)\n",
      "/Library/Python/2.7/site-packages/sklearn/base.py:122: DeprecationWarning: Estimator ColumnExtractor modifies parameters in __init__. This behavior is deprecated as of 0.18 and support for this behavior will be removed in 0.20.\n",
      "  % type(estimator).__name__, DeprecationWarning)\n",
      "/Library/Python/2.7/site-packages/sklearn/base.py:122: DeprecationWarning: Estimator ColumnExtractor modifies parameters in __init__. This behavior is deprecated as of 0.18 and support for this behavior will be removed in 0.20.\n",
      "  % type(estimator).__name__, DeprecationWarning)\n",
      "/Library/Python/2.7/site-packages/sklearn/base.py:122: DeprecationWarning: Estimator ColumnExtractor modifies parameters in __init__. This behavior is deprecated as of 0.18 and support for this behavior will be removed in 0.20.\n",
      "  % type(estimator).__name__, DeprecationWarning)\n",
      "/Library/Python/2.7/site-packages/sklearn/base.py:122: DeprecationWarning: Estimator ColumnExtractor modifies parameters in __init__. This behavior is deprecated as of 0.18 and support for this behavior will be removed in 0.20.\n",
      "  % type(estimator).__name__, DeprecationWarning)\n",
      "/Library/Python/2.7/site-packages/sklearn/base.py:122: DeprecationWarning: Estimator ColumnExtractor modifies parameters in __init__. This behavior is deprecated as of 0.18 and support for this behavior will be removed in 0.20.\n",
      "  % type(estimator).__name__, DeprecationWarning)\n",
      "/Library/Python/2.7/site-packages/sklearn/base.py:122: DeprecationWarning: Estimator ColumnExtractor modifies parameters in __init__. This behavior is deprecated as of 0.18 and support for this behavior will be removed in 0.20.\n",
      "  % type(estimator).__name__, DeprecationWarning)\n",
      "/Library/Python/2.7/site-packages/sklearn/base.py:122: DeprecationWarning: Estimator ColumnExtractor modifies parameters in __init__. This behavior is deprecated as of 0.18 and support for this behavior will be removed in 0.20.\n",
      "  % type(estimator).__name__, DeprecationWarning)\n",
      "/Library/Python/2.7/site-packages/sklearn/base.py:122: DeprecationWarning: Estimator ColumnExtractor modifies parameters in __init__. This behavior is deprecated as of 0.18 and support for this behavior will be removed in 0.20.\n",
      "  % type(estimator).__name__, DeprecationWarning)\n",
      "/Library/Python/2.7/site-packages/sklearn/base.py:122: DeprecationWarning: Estimator ColumnExtractor modifies parameters in __init__. This behavior is deprecated as of 0.18 and support for this behavior will be removed in 0.20.\n",
      "  % type(estimator).__name__, DeprecationWarning)\n",
      "/Library/Python/2.7/site-packages/sklearn/base.py:122: DeprecationWarning: Estimator ColumnExtractor modifies parameters in __init__. This behavior is deprecated as of 0.18 and support for this behavior will be removed in 0.20.\n",
      "  % type(estimator).__name__, DeprecationWarning)\n",
      "/Library/Python/2.7/site-packages/sklearn/base.py:122: DeprecationWarning: Estimator ColumnExtractor modifies parameters in __init__. This behavior is deprecated as of 0.18 and support for this behavior will be removed in 0.20.\n",
      "  % type(estimator).__name__, DeprecationWarning)\n",
      "/Library/Python/2.7/site-packages/sklearn/base.py:122: DeprecationWarning: Estimator ColumnExtractor modifies parameters in __init__. This behavior is deprecated as of 0.18 and support for this behavior will be removed in 0.20.\n",
      "  % type(estimator).__name__, DeprecationWarning)\n",
      "/Library/Python/2.7/site-packages/sklearn/base.py:122: DeprecationWarning: Estimator ColumnExtractor modifies parameters in __init__. This behavior is deprecated as of 0.18 and support for this behavior will be removed in 0.20.\n",
      "  % type(estimator).__name__, DeprecationWarning)\n",
      "/Library/Python/2.7/site-packages/sklearn/base.py:122: DeprecationWarning: Estimator ColumnExtractor modifies parameters in __init__. This behavior is deprecated as of 0.18 and support for this behavior will be removed in 0.20.\n",
      "  % type(estimator).__name__, DeprecationWarning)\n",
      "/Library/Python/2.7/site-packages/sklearn/base.py:122: DeprecationWarning: Estimator ColumnExtractor modifies parameters in __init__. This behavior is deprecated as of 0.18 and support for this behavior will be removed in 0.20.\n",
      "  % type(estimator).__name__, DeprecationWarning)\n",
      "/Library/Python/2.7/site-packages/sklearn/base.py:122: DeprecationWarning: Estimator ColumnExtractor modifies parameters in __init__. This behavior is deprecated as of 0.18 and support for this behavior will be removed in 0.20.\n",
      "  % type(estimator).__name__, DeprecationWarning)\n",
      "/Library/Python/2.7/site-packages/sklearn/base.py:122: DeprecationWarning: Estimator ColumnExtractor modifies parameters in __init__. This behavior is deprecated as of 0.18 and support for this behavior will be removed in 0.20.\n",
      "  % type(estimator).__name__, DeprecationWarning)\n",
      "/Library/Python/2.7/site-packages/sklearn/base.py:122: DeprecationWarning: Estimator ColumnExtractor modifies parameters in __init__. This behavior is deprecated as of 0.18 and support for this behavior will be removed in 0.20.\n",
      "  % type(estimator).__name__, DeprecationWarning)\n",
      "/Library/Python/2.7/site-packages/sklearn/base.py:122: DeprecationWarning: Estimator ColumnExtractor modifies parameters in __init__. This behavior is deprecated as of 0.18 and support for this behavior will be removed in 0.20.\n",
      "  % type(estimator).__name__, DeprecationWarning)\n",
      "/Library/Python/2.7/site-packages/sklearn/base.py:122: DeprecationWarning: Estimator ColumnExtractor modifies parameters in __init__. This behavior is deprecated as of 0.18 and support for this behavior will be removed in 0.20.\n",
      "  % type(estimator).__name__, DeprecationWarning)\n",
      "/Library/Python/2.7/site-packages/sklearn/base.py:122: DeprecationWarning: Estimator ColumnExtractor modifies parameters in __init__. This behavior is deprecated as of 0.18 and support for this behavior will be removed in 0.20.\n",
      "  % type(estimator).__name__, DeprecationWarning)\n",
      "/Library/Python/2.7/site-packages/sklearn/base.py:122: DeprecationWarning: Estimator ColumnExtractor modifies parameters in __init__. This behavior is deprecated as of 0.18 and support for this behavior will be removed in 0.20.\n",
      "  % type(estimator).__name__, DeprecationWarning)\n",
      "/Library/Python/2.7/site-packages/sklearn/base.py:122: DeprecationWarning: Estimator ColumnExtractor modifies parameters in __init__. This behavior is deprecated as of 0.18 and support for this behavior will be removed in 0.20.\n",
      "  % type(estimator).__name__, DeprecationWarning)\n",
      "/Library/Python/2.7/site-packages/sklearn/base.py:122: DeprecationWarning: Estimator ColumnExtractor modifies parameters in __init__. This behavior is deprecated as of 0.18 and support for this behavior will be removed in 0.20.\n",
      "  % type(estimator).__name__, DeprecationWarning)\n",
      "/Library/Python/2.7/site-packages/sklearn/base.py:122: DeprecationWarning: Estimator ColumnExtractor modifies parameters in __init__. This behavior is deprecated as of 0.18 and support for this behavior will be removed in 0.20.\n",
      "  % type(estimator).__name__, DeprecationWarning)\n",
      "/Library/Python/2.7/site-packages/sklearn/base.py:122: DeprecationWarning: Estimator ColumnExtractor modifies parameters in __init__. This behavior is deprecated as of 0.18 and support for this behavior will be removed in 0.20.\n",
      "  % type(estimator).__name__, DeprecationWarning)\n",
      "/Library/Python/2.7/site-packages/sklearn/base.py:122: DeprecationWarning: Estimator ColumnExtractor modifies parameters in __init__. This behavior is deprecated as of 0.18 and support for this behavior will be removed in 0.20.\n",
      "  % type(estimator).__name__, DeprecationWarning)\n",
      "/Library/Python/2.7/site-packages/sklearn/base.py:122: DeprecationWarning: Estimator ColumnExtractor modifies parameters in __init__. This behavior is deprecated as of 0.18 and support for this behavior will be removed in 0.20.\n",
      "  % type(estimator).__name__, DeprecationWarning)\n",
      "/Library/Python/2.7/site-packages/sklearn/base.py:122: DeprecationWarning: Estimator ColumnExtractor modifies parameters in __init__. This behavior is deprecated as of 0.18 and support for this behavior will be removed in 0.20.\n",
      "  % type(estimator).__name__, DeprecationWarning)\n",
      "/Library/Python/2.7/site-packages/sklearn/base.py:122: DeprecationWarning: Estimator ColumnExtractor modifies parameters in __init__. This behavior is deprecated as of 0.18 and support for this behavior will be removed in 0.20.\n",
      "  % type(estimator).__name__, DeprecationWarning)\n",
      "/Library/Python/2.7/site-packages/sklearn/base.py:122: DeprecationWarning: Estimator ColumnExtractor modifies parameters in __init__. This behavior is deprecated as of 0.18 and support for this behavior will be removed in 0.20.\n",
      "  % type(estimator).__name__, DeprecationWarning)\n",
      "/Library/Python/2.7/site-packages/sklearn/base.py:122: DeprecationWarning: Estimator ColumnExtractor modifies parameters in __init__. This behavior is deprecated as of 0.18 and support for this behavior will be removed in 0.20.\n",
      "  % type(estimator).__name__, DeprecationWarning)\n",
      "/Library/Python/2.7/site-packages/sklearn/base.py:122: DeprecationWarning: Estimator ColumnExtractor modifies parameters in __init__. This behavior is deprecated as of 0.18 and support for this behavior will be removed in 0.20.\n",
      "  % type(estimator).__name__, DeprecationWarning)\n",
      "/Library/Python/2.7/site-packages/sklearn/base.py:122: DeprecationWarning: Estimator ColumnExtractor modifies parameters in __init__. This behavior is deprecated as of 0.18 and support for this behavior will be removed in 0.20.\n",
      "  % type(estimator).__name__, DeprecationWarning)\n",
      "/Library/Python/2.7/site-packages/sklearn/base.py:122: DeprecationWarning: Estimator ColumnExtractor modifies parameters in __init__. This behavior is deprecated as of 0.18 and support for this behavior will be removed in 0.20.\n",
      "  % type(estimator).__name__, DeprecationWarning)\n",
      "/Library/Python/2.7/site-packages/sklearn/base.py:122: DeprecationWarning: Estimator ColumnExtractor modifies parameters in __init__. This behavior is deprecated as of 0.18 and support for this behavior will be removed in 0.20.\n",
      "  % type(estimator).__name__, DeprecationWarning)\n",
      "/Library/Python/2.7/site-packages/sklearn/base.py:122: DeprecationWarning: Estimator ColumnExtractor modifies parameters in __init__. This behavior is deprecated as of 0.18 and support for this behavior will be removed in 0.20.\n",
      "  % type(estimator).__name__, DeprecationWarning)\n",
      "/Library/Python/2.7/site-packages/sklearn/base.py:122: DeprecationWarning: Estimator ColumnExtractor modifies parameters in __init__. This behavior is deprecated as of 0.18 and support for this behavior will be removed in 0.20.\n",
      "  % type(estimator).__name__, DeprecationWarning)\n",
      "/Library/Python/2.7/site-packages/sklearn/base.py:122: DeprecationWarning: Estimator ColumnExtractor modifies parameters in __init__. This behavior is deprecated as of 0.18 and support for this behavior will be removed in 0.20.\n",
      "  % type(estimator).__name__, DeprecationWarning)\n",
      "/Library/Python/2.7/site-packages/sklearn/base.py:122: DeprecationWarning: Estimator ColumnExtractor modifies parameters in __init__. This behavior is deprecated as of 0.18 and support for this behavior will be removed in 0.20.\n",
      "  % type(estimator).__name__, DeprecationWarning)\n",
      "/Library/Python/2.7/site-packages/sklearn/base.py:122: DeprecationWarning: Estimator ColumnExtractor modifies parameters in __init__. This behavior is deprecated as of 0.18 and support for this behavior will be removed in 0.20.\n",
      "  % type(estimator).__name__, DeprecationWarning)\n",
      "/Library/Python/2.7/site-packages/sklearn/base.py:122: DeprecationWarning: Estimator ColumnExtractor modifies parameters in __init__. This behavior is deprecated as of 0.18 and support for this behavior will be removed in 0.20.\n",
      "  % type(estimator).__name__, DeprecationWarning)\n",
      "/Library/Python/2.7/site-packages/sklearn/base.py:122: DeprecationWarning: Estimator ColumnExtractor modifies parameters in __init__. This behavior is deprecated as of 0.18 and support for this behavior will be removed in 0.20.\n",
      "  % type(estimator).__name__, DeprecationWarning)\n",
      "/Library/Python/2.7/site-packages/sklearn/base.py:122: DeprecationWarning: Estimator ColumnExtractor modifies parameters in __init__. This behavior is deprecated as of 0.18 and support for this behavior will be removed in 0.20.\n",
      "  % type(estimator).__name__, DeprecationWarning)\n",
      "/Library/Python/2.7/site-packages/sklearn/base.py:122: DeprecationWarning: Estimator ColumnExtractor modifies parameters in __init__. This behavior is deprecated as of 0.18 and support for this behavior will be removed in 0.20.\n",
      "  % type(estimator).__name__, DeprecationWarning)\n",
      "/Library/Python/2.7/site-packages/sklearn/base.py:122: DeprecationWarning: Estimator ColumnExtractor modifies parameters in __init__. This behavior is deprecated as of 0.18 and support for this behavior will be removed in 0.20.\n",
      "  % type(estimator).__name__, DeprecationWarning)\n",
      "/Library/Python/2.7/site-packages/sklearn/base.py:122: DeprecationWarning: Estimator ColumnExtractor modifies parameters in __init__. This behavior is deprecated as of 0.18 and support for this behavior will be removed in 0.20.\n",
      "  % type(estimator).__name__, DeprecationWarning)\n",
      "/Library/Python/2.7/site-packages/sklearn/base.py:122: DeprecationWarning: Estimator ColumnExtractor modifies parameters in __init__. This behavior is deprecated as of 0.18 and support for this behavior will be removed in 0.20.\n",
      "  % type(estimator).__name__, DeprecationWarning)\n",
      "/Library/Python/2.7/site-packages/sklearn/base.py:122: DeprecationWarning: Estimator ColumnExtractor modifies parameters in __init__. This behavior is deprecated as of 0.18 and support for this behavior will be removed in 0.20.\n",
      "  % type(estimator).__name__, DeprecationWarning)\n",
      "/Library/Python/2.7/site-packages/sklearn/base.py:122: DeprecationWarning: Estimator ColumnExtractor modifies parameters in __init__. This behavior is deprecated as of 0.18 and support for this behavior will be removed in 0.20.\n",
      "  % type(estimator).__name__, DeprecationWarning)\n",
      "/Library/Python/2.7/site-packages/sklearn/base.py:122: DeprecationWarning: Estimator ColumnExtractor modifies parameters in __init__. This behavior is deprecated as of 0.18 and support for this behavior will be removed in 0.20.\n",
      "  % type(estimator).__name__, DeprecationWarning)\n",
      "/Library/Python/2.7/site-packages/sklearn/base.py:122: DeprecationWarning: Estimator ColumnExtractor modifies parameters in __init__. This behavior is deprecated as of 0.18 and support for this behavior will be removed in 0.20.\n",
      "  % type(estimator).__name__, DeprecationWarning)\n",
      "/Library/Python/2.7/site-packages/sklearn/base.py:122: DeprecationWarning: Estimator ColumnExtractor modifies parameters in __init__. This behavior is deprecated as of 0.18 and support for this behavior will be removed in 0.20.\n",
      "  % type(estimator).__name__, DeprecationWarning)\n",
      "/Library/Python/2.7/site-packages/sklearn/base.py:122: DeprecationWarning: Estimator ColumnExtractor modifies parameters in __init__. This behavior is deprecated as of 0.18 and support for this behavior will be removed in 0.20.\n",
      "  % type(estimator).__name__, DeprecationWarning)\n",
      "/Library/Python/2.7/site-packages/sklearn/base.py:122: DeprecationWarning: Estimator ColumnExtractor modifies parameters in __init__. This behavior is deprecated as of 0.18 and support for this behavior will be removed in 0.20.\n",
      "  % type(estimator).__name__, DeprecationWarning)\n",
      "/Library/Python/2.7/site-packages/sklearn/base.py:122: DeprecationWarning: Estimator ColumnExtractor modifies parameters in __init__. This behavior is deprecated as of 0.18 and support for this behavior will be removed in 0.20.\n",
      "  % type(estimator).__name__, DeprecationWarning)\n",
      "/Library/Python/2.7/site-packages/sklearn/base.py:122: DeprecationWarning: Estimator ColumnExtractor modifies parameters in __init__. This behavior is deprecated as of 0.18 and support for this behavior will be removed in 0.20.\n",
      "  % type(estimator).__name__, DeprecationWarning)\n",
      "/Library/Python/2.7/site-packages/sklearn/base.py:122: DeprecationWarning: Estimator ColumnExtractor modifies parameters in __init__. This behavior is deprecated as of 0.18 and support for this behavior will be removed in 0.20.\n",
      "  % type(estimator).__name__, DeprecationWarning)\n",
      "/Library/Python/2.7/site-packages/sklearn/base.py:122: DeprecationWarning: Estimator ColumnExtractor modifies parameters in __init__. This behavior is deprecated as of 0.18 and support for this behavior will be removed in 0.20.\n",
      "  % type(estimator).__name__, DeprecationWarning)\n",
      "/Library/Python/2.7/site-packages/sklearn/base.py:122: DeprecationWarning: Estimator ColumnExtractor modifies parameters in __init__. This behavior is deprecated as of 0.18 and support for this behavior will be removed in 0.20.\n",
      "  % type(estimator).__name__, DeprecationWarning)\n",
      "/Library/Python/2.7/site-packages/sklearn/base.py:122: DeprecationWarning: Estimator ColumnExtractor modifies parameters in __init__. This behavior is deprecated as of 0.18 and support for this behavior will be removed in 0.20.\n",
      "  % type(estimator).__name__, DeprecationWarning)\n",
      "/Library/Python/2.7/site-packages/sklearn/base.py:122: DeprecationWarning: Estimator ColumnExtractor modifies parameters in __init__. This behavior is deprecated as of 0.18 and support for this behavior will be removed in 0.20.\n",
      "  % type(estimator).__name__, DeprecationWarning)\n",
      "/Library/Python/2.7/site-packages/sklearn/base.py:122: DeprecationWarning: Estimator ColumnExtractor modifies parameters in __init__. This behavior is deprecated as of 0.18 and support for this behavior will be removed in 0.20.\n",
      "  % type(estimator).__name__, DeprecationWarning)\n",
      "/Library/Python/2.7/site-packages/sklearn/base.py:122: DeprecationWarning: Estimator ColumnExtractor modifies parameters in __init__. This behavior is deprecated as of 0.18 and support for this behavior will be removed in 0.20.\n",
      "  % type(estimator).__name__, DeprecationWarning)\n",
      "/Library/Python/2.7/site-packages/sklearn/base.py:122: DeprecationWarning: Estimator ColumnExtractor modifies parameters in __init__. This behavior is deprecated as of 0.18 and support for this behavior will be removed in 0.20.\n",
      "  % type(estimator).__name__, DeprecationWarning)\n",
      "/Library/Python/2.7/site-packages/sklearn/base.py:122: DeprecationWarning: Estimator ColumnExtractor modifies parameters in __init__. This behavior is deprecated as of 0.18 and support for this behavior will be removed in 0.20.\n",
      "  % type(estimator).__name__, DeprecationWarning)\n",
      "/Library/Python/2.7/site-packages/sklearn/base.py:122: DeprecationWarning: Estimator ColumnExtractor modifies parameters in __init__. This behavior is deprecated as of 0.18 and support for this behavior will be removed in 0.20.\n",
      "  % type(estimator).__name__, DeprecationWarning)\n",
      "/Library/Python/2.7/site-packages/sklearn/base.py:122: DeprecationWarning: Estimator ColumnExtractor modifies parameters in __init__. This behavior is deprecated as of 0.18 and support for this behavior will be removed in 0.20.\n",
      "  % type(estimator).__name__, DeprecationWarning)\n",
      "/Library/Python/2.7/site-packages/sklearn/base.py:122: DeprecationWarning: Estimator ColumnExtractor modifies parameters in __init__. This behavior is deprecated as of 0.18 and support for this behavior will be removed in 0.20.\n",
      "  % type(estimator).__name__, DeprecationWarning)\n",
      "/Library/Python/2.7/site-packages/sklearn/base.py:122: DeprecationWarning: Estimator ColumnExtractor modifies parameters in __init__. This behavior is deprecated as of 0.18 and support for this behavior will be removed in 0.20.\n",
      "  % type(estimator).__name__, DeprecationWarning)\n",
      "/Library/Python/2.7/site-packages/sklearn/base.py:122: DeprecationWarning: Estimator ColumnExtractor modifies parameters in __init__. This behavior is deprecated as of 0.18 and support for this behavior will be removed in 0.20.\n",
      "  % type(estimator).__name__, DeprecationWarning)\n",
      "/Library/Python/2.7/site-packages/sklearn/base.py:122: DeprecationWarning: Estimator ColumnExtractor modifies parameters in __init__. This behavior is deprecated as of 0.18 and support for this behavior will be removed in 0.20.\n",
      "  % type(estimator).__name__, DeprecationWarning)\n",
      "/Library/Python/2.7/site-packages/sklearn/base.py:122: DeprecationWarning: Estimator ColumnExtractor modifies parameters in __init__. This behavior is deprecated as of 0.18 and support for this behavior will be removed in 0.20.\n",
      "  % type(estimator).__name__, DeprecationWarning)\n",
      "/Library/Python/2.7/site-packages/sklearn/base.py:122: DeprecationWarning: Estimator ColumnExtractor modifies parameters in __init__. This behavior is deprecated as of 0.18 and support for this behavior will be removed in 0.20.\n",
      "  % type(estimator).__name__, DeprecationWarning)\n",
      "/Library/Python/2.7/site-packages/sklearn/base.py:122: DeprecationWarning: Estimator ColumnExtractor modifies parameters in __init__. This behavior is deprecated as of 0.18 and support for this behavior will be removed in 0.20.\n",
      "  % type(estimator).__name__, DeprecationWarning)\n",
      "/Library/Python/2.7/site-packages/sklearn/base.py:122: DeprecationWarning: Estimator ColumnExtractor modifies parameters in __init__. This behavior is deprecated as of 0.18 and support for this behavior will be removed in 0.20.\n",
      "  % type(estimator).__name__, DeprecationWarning)\n",
      "/Library/Python/2.7/site-packages/sklearn/base.py:122: DeprecationWarning: Estimator ColumnExtractor modifies parameters in __init__. This behavior is deprecated as of 0.18 and support for this behavior will be removed in 0.20.\n",
      "  % type(estimator).__name__, DeprecationWarning)\n",
      "/Library/Python/2.7/site-packages/sklearn/base.py:122: DeprecationWarning: Estimator ColumnExtractor modifies parameters in __init__. This behavior is deprecated as of 0.18 and support for this behavior will be removed in 0.20.\n",
      "  % type(estimator).__name__, DeprecationWarning)\n",
      "/Library/Python/2.7/site-packages/sklearn/base.py:122: DeprecationWarning: Estimator ColumnExtractor modifies parameters in __init__. This behavior is deprecated as of 0.18 and support for this behavior will be removed in 0.20.\n",
      "  % type(estimator).__name__, DeprecationWarning)\n",
      "/Library/Python/2.7/site-packages/sklearn/base.py:122: DeprecationWarning: Estimator ColumnExtractor modifies parameters in __init__. This behavior is deprecated as of 0.18 and support for this behavior will be removed in 0.20.\n",
      "  % type(estimator).__name__, DeprecationWarning)\n",
      "/Library/Python/2.7/site-packages/sklearn/base.py:122: DeprecationWarning: Estimator ColumnExtractor modifies parameters in __init__. This behavior is deprecated as of 0.18 and support for this behavior will be removed in 0.20.\n",
      "  % type(estimator).__name__, DeprecationWarning)\n",
      "/Library/Python/2.7/site-packages/sklearn/base.py:122: DeprecationWarning: Estimator ColumnExtractor modifies parameters in __init__. This behavior is deprecated as of 0.18 and support for this behavior will be removed in 0.20.\n",
      "  % type(estimator).__name__, DeprecationWarning)\n",
      "/Library/Python/2.7/site-packages/sklearn/base.py:122: DeprecationWarning: Estimator ColumnExtractor modifies parameters in __init__. This behavior is deprecated as of 0.18 and support for this behavior will be removed in 0.20.\n",
      "  % type(estimator).__name__, DeprecationWarning)\n",
      "/Library/Python/2.7/site-packages/sklearn/base.py:122: DeprecationWarning: Estimator ColumnExtractor modifies parameters in __init__. This behavior is deprecated as of 0.18 and support for this behavior will be removed in 0.20.\n",
      "  % type(estimator).__name__, DeprecationWarning)\n",
      "/Library/Python/2.7/site-packages/sklearn/base.py:122: DeprecationWarning: Estimator ColumnExtractor modifies parameters in __init__. This behavior is deprecated as of 0.18 and support for this behavior will be removed in 0.20.\n",
      "  % type(estimator).__name__, DeprecationWarning)\n",
      "/Library/Python/2.7/site-packages/sklearn/base.py:122: DeprecationWarning: Estimator ColumnExtractor modifies parameters in __init__. This behavior is deprecated as of 0.18 and support for this behavior will be removed in 0.20.\n",
      "  % type(estimator).__name__, DeprecationWarning)\n",
      "/Library/Python/2.7/site-packages/sklearn/base.py:122: DeprecationWarning: Estimator ColumnExtractor modifies parameters in __init__. This behavior is deprecated as of 0.18 and support for this behavior will be removed in 0.20.\n",
      "  % type(estimator).__name__, DeprecationWarning)\n",
      "/Library/Python/2.7/site-packages/sklearn/base.py:122: DeprecationWarning: Estimator ColumnExtractor modifies parameters in __init__. This behavior is deprecated as of 0.18 and support for this behavior will be removed in 0.20.\n",
      "  % type(estimator).__name__, DeprecationWarning)\n",
      "/Library/Python/2.7/site-packages/sklearn/base.py:122: DeprecationWarning: Estimator ColumnExtractor modifies parameters in __init__. This behavior is deprecated as of 0.18 and support for this behavior will be removed in 0.20.\n",
      "  % type(estimator).__name__, DeprecationWarning)\n",
      "/Library/Python/2.7/site-packages/sklearn/base.py:122: DeprecationWarning: Estimator ColumnExtractor modifies parameters in __init__. This behavior is deprecated as of 0.18 and support for this behavior will be removed in 0.20.\n",
      "  % type(estimator).__name__, DeprecationWarning)\n",
      "/Library/Python/2.7/site-packages/sklearn/base.py:122: DeprecationWarning: Estimator ColumnExtractor modifies parameters in __init__. This behavior is deprecated as of 0.18 and support for this behavior will be removed in 0.20.\n",
      "  % type(estimator).__name__, DeprecationWarning)\n",
      "/Library/Python/2.7/site-packages/sklearn/base.py:122: DeprecationWarning: Estimator ColumnExtractor modifies parameters in __init__. This behavior is deprecated as of 0.18 and support for this behavior will be removed in 0.20.\n",
      "  % type(estimator).__name__, DeprecationWarning)\n",
      "/Library/Python/2.7/site-packages/sklearn/base.py:122: DeprecationWarning: Estimator ColumnExtractor modifies parameters in __init__. This behavior is deprecated as of 0.18 and support for this behavior will be removed in 0.20.\n",
      "  % type(estimator).__name__, DeprecationWarning)\n",
      "/Library/Python/2.7/site-packages/sklearn/base.py:122: DeprecationWarning: Estimator ColumnExtractor modifies parameters in __init__. This behavior is deprecated as of 0.18 and support for this behavior will be removed in 0.20.\n",
      "  % type(estimator).__name__, DeprecationWarning)\n",
      "/Library/Python/2.7/site-packages/sklearn/base.py:122: DeprecationWarning: Estimator ColumnExtractor modifies parameters in __init__. This behavior is deprecated as of 0.18 and support for this behavior will be removed in 0.20.\n",
      "  % type(estimator).__name__, DeprecationWarning)\n",
      "/Library/Python/2.7/site-packages/sklearn/base.py:122: DeprecationWarning: Estimator ColumnExtractor modifies parameters in __init__. This behavior is deprecated as of 0.18 and support for this behavior will be removed in 0.20.\n",
      "  % type(estimator).__name__, DeprecationWarning)\n",
      "/Library/Python/2.7/site-packages/sklearn/base.py:122: DeprecationWarning: Estimator ColumnExtractor modifies parameters in __init__. This behavior is deprecated as of 0.18 and support for this behavior will be removed in 0.20.\n",
      "  % type(estimator).__name__, DeprecationWarning)\n",
      "/Library/Python/2.7/site-packages/sklearn/base.py:122: DeprecationWarning: Estimator ColumnExtractor modifies parameters in __init__. This behavior is deprecated as of 0.18 and support for this behavior will be removed in 0.20.\n",
      "  % type(estimator).__name__, DeprecationWarning)\n",
      "/Library/Python/2.7/site-packages/sklearn/base.py:122: DeprecationWarning: Estimator ColumnExtractor modifies parameters in __init__. This behavior is deprecated as of 0.18 and support for this behavior will be removed in 0.20.\n",
      "  % type(estimator).__name__, DeprecationWarning)\n",
      "/Library/Python/2.7/site-packages/sklearn/base.py:122: DeprecationWarning: Estimator ColumnExtractor modifies parameters in __init__. This behavior is deprecated as of 0.18 and support for this behavior will be removed in 0.20.\n",
      "  % type(estimator).__name__, DeprecationWarning)\n",
      "/Library/Python/2.7/site-packages/sklearn/base.py:122: DeprecationWarning: Estimator ColumnExtractor modifies parameters in __init__. This behavior is deprecated as of 0.18 and support for this behavior will be removed in 0.20.\n",
      "  % type(estimator).__name__, DeprecationWarning)\n",
      "/Library/Python/2.7/site-packages/sklearn/base.py:122: DeprecationWarning: Estimator ColumnExtractor modifies parameters in __init__. This behavior is deprecated as of 0.18 and support for this behavior will be removed in 0.20.\n",
      "  % type(estimator).__name__, DeprecationWarning)\n",
      "/Library/Python/2.7/site-packages/sklearn/base.py:122: DeprecationWarning: Estimator ColumnExtractor modifies parameters in __init__. This behavior is deprecated as of 0.18 and support for this behavior will be removed in 0.20.\n",
      "  % type(estimator).__name__, DeprecationWarning)\n",
      "/Library/Python/2.7/site-packages/sklearn/base.py:122: DeprecationWarning: Estimator ColumnExtractor modifies parameters in __init__. This behavior is deprecated as of 0.18 and support for this behavior will be removed in 0.20.\n",
      "  % type(estimator).__name__, DeprecationWarning)\n",
      "/Library/Python/2.7/site-packages/sklearn/base.py:122: DeprecationWarning: Estimator ColumnExtractor modifies parameters in __init__. This behavior is deprecated as of 0.18 and support for this behavior will be removed in 0.20.\n",
      "  % type(estimator).__name__, DeprecationWarning)\n",
      "/Library/Python/2.7/site-packages/sklearn/base.py:122: DeprecationWarning: Estimator ColumnExtractor modifies parameters in __init__. This behavior is deprecated as of 0.18 and support for this behavior will be removed in 0.20.\n",
      "  % type(estimator).__name__, DeprecationWarning)\n",
      "/Library/Python/2.7/site-packages/sklearn/base.py:122: DeprecationWarning: Estimator ColumnExtractor modifies parameters in __init__. This behavior is deprecated as of 0.18 and support for this behavior will be removed in 0.20.\n",
      "  % type(estimator).__name__, DeprecationWarning)\n",
      "/Library/Python/2.7/site-packages/sklearn/base.py:122: DeprecationWarning: Estimator ColumnExtractor modifies parameters in __init__. This behavior is deprecated as of 0.18 and support for this behavior will be removed in 0.20.\n",
      "  % type(estimator).__name__, DeprecationWarning)\n",
      "/Library/Python/2.7/site-packages/sklearn/base.py:122: DeprecationWarning: Estimator ColumnExtractor modifies parameters in __init__. This behavior is deprecated as of 0.18 and support for this behavior will be removed in 0.20.\n",
      "  % type(estimator).__name__, DeprecationWarning)\n",
      "/Library/Python/2.7/site-packages/sklearn/base.py:122: DeprecationWarning: Estimator ColumnExtractor modifies parameters in __init__. This behavior is deprecated as of 0.18 and support for this behavior will be removed in 0.20.\n",
      "  % type(estimator).__name__, DeprecationWarning)\n",
      "/Library/Python/2.7/site-packages/sklearn/base.py:122: DeprecationWarning: Estimator ColumnExtractor modifies parameters in __init__. This behavior is deprecated as of 0.18 and support for this behavior will be removed in 0.20.\n",
      "  % type(estimator).__name__, DeprecationWarning)\n",
      "/Library/Python/2.7/site-packages/sklearn/base.py:122: DeprecationWarning: Estimator ColumnExtractor modifies parameters in __init__. This behavior is deprecated as of 0.18 and support for this behavior will be removed in 0.20.\n",
      "  % type(estimator).__name__, DeprecationWarning)\n",
      "/Library/Python/2.7/site-packages/sklearn/base.py:122: DeprecationWarning: Estimator ColumnExtractor modifies parameters in __init__. This behavior is deprecated as of 0.18 and support for this behavior will be removed in 0.20.\n",
      "  % type(estimator).__name__, DeprecationWarning)\n",
      "/Library/Python/2.7/site-packages/sklearn/base.py:122: DeprecationWarning: Estimator ColumnExtractor modifies parameters in __init__. This behavior is deprecated as of 0.18 and support for this behavior will be removed in 0.20.\n",
      "  % type(estimator).__name__, DeprecationWarning)\n",
      "/Library/Python/2.7/site-packages/sklearn/base.py:122: DeprecationWarning: Estimator ColumnExtractor modifies parameters in __init__. This behavior is deprecated as of 0.18 and support for this behavior will be removed in 0.20.\n",
      "  % type(estimator).__name__, DeprecationWarning)\n",
      "/Library/Python/2.7/site-packages/sklearn/base.py:122: DeprecationWarning: Estimator ColumnExtractor modifies parameters in __init__. This behavior is deprecated as of 0.18 and support for this behavior will be removed in 0.20.\n",
      "  % type(estimator).__name__, DeprecationWarning)\n",
      "/Library/Python/2.7/site-packages/sklearn/base.py:122: DeprecationWarning: Estimator ColumnExtractor modifies parameters in __init__. This behavior is deprecated as of 0.18 and support for this behavior will be removed in 0.20.\n",
      "  % type(estimator).__name__, DeprecationWarning)\n",
      "/Library/Python/2.7/site-packages/sklearn/base.py:122: DeprecationWarning: Estimator ColumnExtractor modifies parameters in __init__. This behavior is deprecated as of 0.18 and support for this behavior will be removed in 0.20.\n",
      "  % type(estimator).__name__, DeprecationWarning)\n",
      "/Library/Python/2.7/site-packages/sklearn/base.py:122: DeprecationWarning: Estimator ColumnExtractor modifies parameters in __init__. This behavior is deprecated as of 0.18 and support for this behavior will be removed in 0.20.\n",
      "  % type(estimator).__name__, DeprecationWarning)\n",
      "/Library/Python/2.7/site-packages/sklearn/base.py:122: DeprecationWarning: Estimator ColumnExtractor modifies parameters in __init__. This behavior is deprecated as of 0.18 and support for this behavior will be removed in 0.20.\n",
      "  % type(estimator).__name__, DeprecationWarning)\n",
      "/Library/Python/2.7/site-packages/sklearn/base.py:122: DeprecationWarning: Estimator ColumnExtractor modifies parameters in __init__. This behavior is deprecated as of 0.18 and support for this behavior will be removed in 0.20.\n",
      "  % type(estimator).__name__, DeprecationWarning)\n",
      "/Library/Python/2.7/site-packages/sklearn/base.py:122: DeprecationWarning: Estimator ColumnExtractor modifies parameters in __init__. This behavior is deprecated as of 0.18 and support for this behavior will be removed in 0.20.\n",
      "  % type(estimator).__name__, DeprecationWarning)\n",
      "/Library/Python/2.7/site-packages/sklearn/base.py:122: DeprecationWarning: Estimator ColumnExtractor modifies parameters in __init__. This behavior is deprecated as of 0.18 and support for this behavior will be removed in 0.20.\n",
      "  % type(estimator).__name__, DeprecationWarning)\n",
      "/Library/Python/2.7/site-packages/sklearn/base.py:122: DeprecationWarning: Estimator ColumnExtractor modifies parameters in __init__. This behavior is deprecated as of 0.18 and support for this behavior will be removed in 0.20.\n",
      "  % type(estimator).__name__, DeprecationWarning)\n",
      "/Library/Python/2.7/site-packages/sklearn/base.py:122: DeprecationWarning: Estimator ColumnExtractor modifies parameters in __init__. This behavior is deprecated as of 0.18 and support for this behavior will be removed in 0.20.\n",
      "  % type(estimator).__name__, DeprecationWarning)\n",
      "/Library/Python/2.7/site-packages/sklearn/base.py:122: DeprecationWarning: Estimator ColumnExtractor modifies parameters in __init__. This behavior is deprecated as of 0.18 and support for this behavior will be removed in 0.20.\n",
      "  % type(estimator).__name__, DeprecationWarning)\n",
      "/Library/Python/2.7/site-packages/sklearn/base.py:122: DeprecationWarning: Estimator ColumnExtractor modifies parameters in __init__. This behavior is deprecated as of 0.18 and support for this behavior will be removed in 0.20.\n",
      "  % type(estimator).__name__, DeprecationWarning)\n",
      "/Library/Python/2.7/site-packages/sklearn/base.py:122: DeprecationWarning: Estimator ColumnExtractor modifies parameters in __init__. This behavior is deprecated as of 0.18 and support for this behavior will be removed in 0.20.\n",
      "  % type(estimator).__name__, DeprecationWarning)\n",
      "/Library/Python/2.7/site-packages/sklearn/base.py:122: DeprecationWarning: Estimator ColumnExtractor modifies parameters in __init__. This behavior is deprecated as of 0.18 and support for this behavior will be removed in 0.20.\n",
      "  % type(estimator).__name__, DeprecationWarning)\n",
      "/Library/Python/2.7/site-packages/sklearn/base.py:122: DeprecationWarning: Estimator ColumnExtractor modifies parameters in __init__. This behavior is deprecated as of 0.18 and support for this behavior will be removed in 0.20.\n",
      "  % type(estimator).__name__, DeprecationWarning)\n",
      "/Library/Python/2.7/site-packages/sklearn/base.py:122: DeprecationWarning: Estimator ColumnExtractor modifies parameters in __init__. This behavior is deprecated as of 0.18 and support for this behavior will be removed in 0.20.\n",
      "  % type(estimator).__name__, DeprecationWarning)\n",
      "/Library/Python/2.7/site-packages/sklearn/base.py:122: DeprecationWarning: Estimator ColumnExtractor modifies parameters in __init__. This behavior is deprecated as of 0.18 and support for this behavior will be removed in 0.20.\n",
      "  % type(estimator).__name__, DeprecationWarning)\n",
      "/Library/Python/2.7/site-packages/sklearn/base.py:122: DeprecationWarning: Estimator ColumnExtractor modifies parameters in __init__. This behavior is deprecated as of 0.18 and support for this behavior will be removed in 0.20.\n",
      "  % type(estimator).__name__, DeprecationWarning)\n",
      "/Library/Python/2.7/site-packages/sklearn/base.py:122: DeprecationWarning: Estimator ColumnExtractor modifies parameters in __init__. This behavior is deprecated as of 0.18 and support for this behavior will be removed in 0.20.\n",
      "  % type(estimator).__name__, DeprecationWarning)\n",
      "/Library/Python/2.7/site-packages/sklearn/base.py:122: DeprecationWarning: Estimator ColumnExtractor modifies parameters in __init__. This behavior is deprecated as of 0.18 and support for this behavior will be removed in 0.20.\n",
      "  % type(estimator).__name__, DeprecationWarning)\n",
      "/Library/Python/2.7/site-packages/sklearn/base.py:122: DeprecationWarning: Estimator ColumnExtractor modifies parameters in __init__. This behavior is deprecated as of 0.18 and support for this behavior will be removed in 0.20.\n",
      "  % type(estimator).__name__, DeprecationWarning)\n",
      "/Library/Python/2.7/site-packages/sklearn/base.py:122: DeprecationWarning: Estimator ColumnExtractor modifies parameters in __init__. This behavior is deprecated as of 0.18 and support for this behavior will be removed in 0.20.\n",
      "  % type(estimator).__name__, DeprecationWarning)\n",
      "/Library/Python/2.7/site-packages/sklearn/base.py:122: DeprecationWarning: Estimator ColumnExtractor modifies parameters in __init__. This behavior is deprecated as of 0.18 and support for this behavior will be removed in 0.20.\n",
      "  % type(estimator).__name__, DeprecationWarning)\n",
      "/Library/Python/2.7/site-packages/sklearn/base.py:122: DeprecationWarning: Estimator ColumnExtractor modifies parameters in __init__. This behavior is deprecated as of 0.18 and support for this behavior will be removed in 0.20.\n",
      "  % type(estimator).__name__, DeprecationWarning)\n",
      "/Library/Python/2.7/site-packages/sklearn/base.py:122: DeprecationWarning: Estimator ColumnExtractor modifies parameters in __init__. This behavior is deprecated as of 0.18 and support for this behavior will be removed in 0.20.\n",
      "  % type(estimator).__name__, DeprecationWarning)\n",
      "/Library/Python/2.7/site-packages/sklearn/base.py:122: DeprecationWarning: Estimator ColumnExtractor modifies parameters in __init__. This behavior is deprecated as of 0.18 and support for this behavior will be removed in 0.20.\n",
      "  % type(estimator).__name__, DeprecationWarning)\n",
      "/Library/Python/2.7/site-packages/sklearn/base.py:122: DeprecationWarning: Estimator ColumnExtractor modifies parameters in __init__. This behavior is deprecated as of 0.18 and support for this behavior will be removed in 0.20.\n",
      "  % type(estimator).__name__, DeprecationWarning)\n",
      "/Library/Python/2.7/site-packages/sklearn/base.py:122: DeprecationWarning: Estimator ColumnExtractor modifies parameters in __init__. This behavior is deprecated as of 0.18 and support for this behavior will be removed in 0.20.\n",
      "  % type(estimator).__name__, DeprecationWarning)\n",
      "/Library/Python/2.7/site-packages/sklearn/base.py:122: DeprecationWarning: Estimator ColumnExtractor modifies parameters in __init__. This behavior is deprecated as of 0.18 and support for this behavior will be removed in 0.20.\n",
      "  % type(estimator).__name__, DeprecationWarning)\n",
      "/Library/Python/2.7/site-packages/sklearn/base.py:122: DeprecationWarning: Estimator ColumnExtractor modifies parameters in __init__. This behavior is deprecated as of 0.18 and support for this behavior will be removed in 0.20.\n",
      "  % type(estimator).__name__, DeprecationWarning)\n",
      "/Library/Python/2.7/site-packages/sklearn/base.py:122: DeprecationWarning: Estimator ColumnExtractor modifies parameters in __init__. This behavior is deprecated as of 0.18 and support for this behavior will be removed in 0.20.\n",
      "  % type(estimator).__name__, DeprecationWarning)\n",
      "/Library/Python/2.7/site-packages/sklearn/base.py:122: DeprecationWarning: Estimator ColumnExtractor modifies parameters in __init__. This behavior is deprecated as of 0.18 and support for this behavior will be removed in 0.20.\n",
      "  % type(estimator).__name__, DeprecationWarning)\n",
      "/Library/Python/2.7/site-packages/sklearn/base.py:122: DeprecationWarning: Estimator ColumnExtractor modifies parameters in __init__. This behavior is deprecated as of 0.18 and support for this behavior will be removed in 0.20.\n",
      "  % type(estimator).__name__, DeprecationWarning)\n",
      "/Library/Python/2.7/site-packages/sklearn/base.py:122: DeprecationWarning: Estimator ColumnExtractor modifies parameters in __init__. This behavior is deprecated as of 0.18 and support for this behavior will be removed in 0.20.\n",
      "  % type(estimator).__name__, DeprecationWarning)\n",
      "/Library/Python/2.7/site-packages/sklearn/base.py:122: DeprecationWarning: Estimator ColumnExtractor modifies parameters in __init__. This behavior is deprecated as of 0.18 and support for this behavior will be removed in 0.20.\n",
      "  % type(estimator).__name__, DeprecationWarning)\n",
      "/Library/Python/2.7/site-packages/sklearn/base.py:122: DeprecationWarning: Estimator ColumnExtractor modifies parameters in __init__. This behavior is deprecated as of 0.18 and support for this behavior will be removed in 0.20.\n",
      "  % type(estimator).__name__, DeprecationWarning)\n",
      "/Library/Python/2.7/site-packages/sklearn/base.py:122: DeprecationWarning: Estimator ColumnExtractor modifies parameters in __init__. This behavior is deprecated as of 0.18 and support for this behavior will be removed in 0.20.\n",
      "  % type(estimator).__name__, DeprecationWarning)\n",
      "/Library/Python/2.7/site-packages/sklearn/base.py:122: DeprecationWarning: Estimator ColumnExtractor modifies parameters in __init__. This behavior is deprecated as of 0.18 and support for this behavior will be removed in 0.20.\n",
      "  % type(estimator).__name__, DeprecationWarning)\n",
      "/Library/Python/2.7/site-packages/sklearn/base.py:122: DeprecationWarning: Estimator ColumnExtractor modifies parameters in __init__. This behavior is deprecated as of 0.18 and support for this behavior will be removed in 0.20.\n",
      "  % type(estimator).__name__, DeprecationWarning)\n",
      "/Library/Python/2.7/site-packages/sklearn/base.py:122: DeprecationWarning: Estimator ColumnExtractor modifies parameters in __init__. This behavior is deprecated as of 0.18 and support for this behavior will be removed in 0.20.\n",
      "  % type(estimator).__name__, DeprecationWarning)\n",
      "/Library/Python/2.7/site-packages/sklearn/base.py:122: DeprecationWarning: Estimator ColumnExtractor modifies parameters in __init__. This behavior is deprecated as of 0.18 and support for this behavior will be removed in 0.20.\n",
      "  % type(estimator).__name__, DeprecationWarning)\n",
      "/Library/Python/2.7/site-packages/sklearn/base.py:122: DeprecationWarning: Estimator ColumnExtractor modifies parameters in __init__. This behavior is deprecated as of 0.18 and support for this behavior will be removed in 0.20.\n",
      "  % type(estimator).__name__, DeprecationWarning)\n",
      "/Library/Python/2.7/site-packages/sklearn/base.py:122: DeprecationWarning: Estimator ColumnExtractor modifies parameters in __init__. This behavior is deprecated as of 0.18 and support for this behavior will be removed in 0.20.\n",
      "  % type(estimator).__name__, DeprecationWarning)\n",
      "/Library/Python/2.7/site-packages/sklearn/base.py:122: DeprecationWarning: Estimator ColumnExtractor modifies parameters in __init__. This behavior is deprecated as of 0.18 and support for this behavior will be removed in 0.20.\n",
      "  % type(estimator).__name__, DeprecationWarning)\n",
      "/Library/Python/2.7/site-packages/sklearn/base.py:122: DeprecationWarning: Estimator ColumnExtractor modifies parameters in __init__. This behavior is deprecated as of 0.18 and support for this behavior will be removed in 0.20.\n",
      "  % type(estimator).__name__, DeprecationWarning)\n",
      "/Library/Python/2.7/site-packages/sklearn/base.py:122: DeprecationWarning: Estimator ColumnExtractor modifies parameters in __init__. This behavior is deprecated as of 0.18 and support for this behavior will be removed in 0.20.\n",
      "  % type(estimator).__name__, DeprecationWarning)\n",
      "/Library/Python/2.7/site-packages/sklearn/base.py:122: DeprecationWarning: Estimator ColumnExtractor modifies parameters in __init__. This behavior is deprecated as of 0.18 and support for this behavior will be removed in 0.20.\n",
      "  % type(estimator).__name__, DeprecationWarning)\n",
      "/Library/Python/2.7/site-packages/sklearn/base.py:122: DeprecationWarning: Estimator ColumnExtractor modifies parameters in __init__. This behavior is deprecated as of 0.18 and support for this behavior will be removed in 0.20.\n",
      "  % type(estimator).__name__, DeprecationWarning)\n",
      "/Library/Python/2.7/site-packages/sklearn/base.py:122: DeprecationWarning: Estimator ColumnExtractor modifies parameters in __init__. This behavior is deprecated as of 0.18 and support for this behavior will be removed in 0.20.\n",
      "  % type(estimator).__name__, DeprecationWarning)\n",
      "/Library/Python/2.7/site-packages/sklearn/base.py:122: DeprecationWarning: Estimator ColumnExtractor modifies parameters in __init__. This behavior is deprecated as of 0.18 and support for this behavior will be removed in 0.20.\n",
      "  % type(estimator).__name__, DeprecationWarning)\n",
      "/Library/Python/2.7/site-packages/sklearn/base.py:122: DeprecationWarning: Estimator ColumnExtractor modifies parameters in __init__. This behavior is deprecated as of 0.18 and support for this behavior will be removed in 0.20.\n",
      "  % type(estimator).__name__, DeprecationWarning)\n",
      "/Library/Python/2.7/site-packages/sklearn/base.py:122: DeprecationWarning: Estimator ColumnExtractor modifies parameters in __init__. This behavior is deprecated as of 0.18 and support for this behavior will be removed in 0.20.\n",
      "  % type(estimator).__name__, DeprecationWarning)\n",
      "/Library/Python/2.7/site-packages/sklearn/base.py:122: DeprecationWarning: Estimator ColumnExtractor modifies parameters in __init__. This behavior is deprecated as of 0.18 and support for this behavior will be removed in 0.20.\n",
      "  % type(estimator).__name__, DeprecationWarning)\n",
      "/Library/Python/2.7/site-packages/sklearn/base.py:122: DeprecationWarning: Estimator ColumnExtractor modifies parameters in __init__. This behavior is deprecated as of 0.18 and support for this behavior will be removed in 0.20.\n",
      "  % type(estimator).__name__, DeprecationWarning)\n",
      "/Library/Python/2.7/site-packages/sklearn/base.py:122: DeprecationWarning: Estimator ColumnExtractor modifies parameters in __init__. This behavior is deprecated as of 0.18 and support for this behavior will be removed in 0.20.\n",
      "  % type(estimator).__name__, DeprecationWarning)\n",
      "/Library/Python/2.7/site-packages/sklearn/base.py:122: DeprecationWarning: Estimator ColumnExtractor modifies parameters in __init__. This behavior is deprecated as of 0.18 and support for this behavior will be removed in 0.20.\n",
      "  % type(estimator).__name__, DeprecationWarning)\n",
      "/Library/Python/2.7/site-packages/sklearn/base.py:122: DeprecationWarning: Estimator ColumnExtractor modifies parameters in __init__. This behavior is deprecated as of 0.18 and support for this behavior will be removed in 0.20.\n",
      "  % type(estimator).__name__, DeprecationWarning)\n",
      "/Library/Python/2.7/site-packages/sklearn/base.py:122: DeprecationWarning: Estimator ColumnExtractor modifies parameters in __init__. This behavior is deprecated as of 0.18 and support for this behavior will be removed in 0.20.\n",
      "  % type(estimator).__name__, DeprecationWarning)\n",
      "/Library/Python/2.7/site-packages/sklearn/base.py:122: DeprecationWarning: Estimator ColumnExtractor modifies parameters in __init__. This behavior is deprecated as of 0.18 and support for this behavior will be removed in 0.20.\n",
      "  % type(estimator).__name__, DeprecationWarning)\n",
      "/Library/Python/2.7/site-packages/sklearn/base.py:122: DeprecationWarning: Estimator ColumnExtractor modifies parameters in __init__. This behavior is deprecated as of 0.18 and support for this behavior will be removed in 0.20.\n",
      "  % type(estimator).__name__, DeprecationWarning)\n",
      "/Library/Python/2.7/site-packages/sklearn/base.py:122: DeprecationWarning: Estimator ColumnExtractor modifies parameters in __init__. This behavior is deprecated as of 0.18 and support for this behavior will be removed in 0.20.\n",
      "  % type(estimator).__name__, DeprecationWarning)\n",
      "/Library/Python/2.7/site-packages/sklearn/base.py:122: DeprecationWarning: Estimator ColumnExtractor modifies parameters in __init__. This behavior is deprecated as of 0.18 and support for this behavior will be removed in 0.20.\n",
      "  % type(estimator).__name__, DeprecationWarning)\n",
      "/Library/Python/2.7/site-packages/sklearn/base.py:122: DeprecationWarning: Estimator ColumnExtractor modifies parameters in __init__. This behavior is deprecated as of 0.18 and support for this behavior will be removed in 0.20.\n",
      "  % type(estimator).__name__, DeprecationWarning)\n",
      "/Library/Python/2.7/site-packages/sklearn/base.py:122: DeprecationWarning: Estimator ColumnExtractor modifies parameters in __init__. This behavior is deprecated as of 0.18 and support for this behavior will be removed in 0.20.\n",
      "  % type(estimator).__name__, DeprecationWarning)\n",
      "/Library/Python/2.7/site-packages/sklearn/base.py:122: DeprecationWarning: Estimator ColumnExtractor modifies parameters in __init__. This behavior is deprecated as of 0.18 and support for this behavior will be removed in 0.20.\n",
      "  % type(estimator).__name__, DeprecationWarning)\n",
      "/Library/Python/2.7/site-packages/sklearn/base.py:122: DeprecationWarning: Estimator ColumnExtractor modifies parameters in __init__. This behavior is deprecated as of 0.18 and support for this behavior will be removed in 0.20.\n",
      "  % type(estimator).__name__, DeprecationWarning)\n",
      "/Library/Python/2.7/site-packages/sklearn/base.py:122: DeprecationWarning: Estimator ColumnExtractor modifies parameters in __init__. This behavior is deprecated as of 0.18 and support for this behavior will be removed in 0.20.\n",
      "  % type(estimator).__name__, DeprecationWarning)\n",
      "/Library/Python/2.7/site-packages/sklearn/base.py:122: DeprecationWarning: Estimator ColumnExtractor modifies parameters in __init__. This behavior is deprecated as of 0.18 and support for this behavior will be removed in 0.20.\n",
      "  % type(estimator).__name__, DeprecationWarning)\n",
      "/Library/Python/2.7/site-packages/sklearn/base.py:122: DeprecationWarning: Estimator ColumnExtractor modifies parameters in __init__. This behavior is deprecated as of 0.18 and support for this behavior will be removed in 0.20.\n",
      "  % type(estimator).__name__, DeprecationWarning)\n",
      "/Library/Python/2.7/site-packages/sklearn/base.py:122: DeprecationWarning: Estimator ColumnExtractor modifies parameters in __init__. This behavior is deprecated as of 0.18 and support for this behavior will be removed in 0.20.\n",
      "  % type(estimator).__name__, DeprecationWarning)\n",
      "/Library/Python/2.7/site-packages/sklearn/base.py:122: DeprecationWarning: Estimator ColumnExtractor modifies parameters in __init__. This behavior is deprecated as of 0.18 and support for this behavior will be removed in 0.20.\n",
      "  % type(estimator).__name__, DeprecationWarning)\n",
      "/Library/Python/2.7/site-packages/sklearn/base.py:122: DeprecationWarning: Estimator ColumnExtractor modifies parameters in __init__. This behavior is deprecated as of 0.18 and support for this behavior will be removed in 0.20.\n",
      "  % type(estimator).__name__, DeprecationWarning)\n",
      "/Library/Python/2.7/site-packages/sklearn/base.py:122: DeprecationWarning: Estimator ColumnExtractor modifies parameters in __init__. This behavior is deprecated as of 0.18 and support for this behavior will be removed in 0.20.\n",
      "  % type(estimator).__name__, DeprecationWarning)\n",
      "/Library/Python/2.7/site-packages/sklearn/base.py:122: DeprecationWarning: Estimator ColumnExtractor modifies parameters in __init__. This behavior is deprecated as of 0.18 and support for this behavior will be removed in 0.20.\n",
      "  % type(estimator).__name__, DeprecationWarning)\n",
      "/Library/Python/2.7/site-packages/sklearn/base.py:122: DeprecationWarning: Estimator ColumnExtractor modifies parameters in __init__. This behavior is deprecated as of 0.18 and support for this behavior will be removed in 0.20.\n",
      "  % type(estimator).__name__, DeprecationWarning)\n",
      "/Library/Python/2.7/site-packages/sklearn/base.py:122: DeprecationWarning: Estimator ColumnExtractor modifies parameters in __init__. This behavior is deprecated as of 0.18 and support for this behavior will be removed in 0.20.\n",
      "  % type(estimator).__name__, DeprecationWarning)\n",
      "/Library/Python/2.7/site-packages/sklearn/base.py:122: DeprecationWarning: Estimator ColumnExtractor modifies parameters in __init__. This behavior is deprecated as of 0.18 and support for this behavior will be removed in 0.20.\n",
      "  % type(estimator).__name__, DeprecationWarning)\n",
      "/Library/Python/2.7/site-packages/sklearn/base.py:122: DeprecationWarning: Estimator ColumnExtractor modifies parameters in __init__. This behavior is deprecated as of 0.18 and support for this behavior will be removed in 0.20.\n",
      "  % type(estimator).__name__, DeprecationWarning)\n",
      "/Library/Python/2.7/site-packages/sklearn/base.py:122: DeprecationWarning: Estimator ColumnExtractor modifies parameters in __init__. This behavior is deprecated as of 0.18 and support for this behavior will be removed in 0.20.\n",
      "  % type(estimator).__name__, DeprecationWarning)\n",
      "/Library/Python/2.7/site-packages/sklearn/base.py:122: DeprecationWarning: Estimator ColumnExtractor modifies parameters in __init__. This behavior is deprecated as of 0.18 and support for this behavior will be removed in 0.20.\n",
      "  % type(estimator).__name__, DeprecationWarning)\n",
      "/Library/Python/2.7/site-packages/sklearn/base.py:122: DeprecationWarning: Estimator ColumnExtractor modifies parameters in __init__. This behavior is deprecated as of 0.18 and support for this behavior will be removed in 0.20.\n",
      "  % type(estimator).__name__, DeprecationWarning)\n",
      "/Library/Python/2.7/site-packages/sklearn/base.py:122: DeprecationWarning: Estimator ColumnExtractor modifies parameters in __init__. This behavior is deprecated as of 0.18 and support for this behavior will be removed in 0.20.\n",
      "  % type(estimator).__name__, DeprecationWarning)\n",
      "/Library/Python/2.7/site-packages/sklearn/base.py:122: DeprecationWarning: Estimator ColumnExtractor modifies parameters in __init__. This behavior is deprecated as of 0.18 and support for this behavior will be removed in 0.20.\n",
      "  % type(estimator).__name__, DeprecationWarning)\n",
      "/Library/Python/2.7/site-packages/sklearn/base.py:122: DeprecationWarning: Estimator ColumnExtractor modifies parameters in __init__. This behavior is deprecated as of 0.18 and support for this behavior will be removed in 0.20.\n",
      "  % type(estimator).__name__, DeprecationWarning)\n",
      "/Library/Python/2.7/site-packages/sklearn/base.py:122: DeprecationWarning: Estimator ColumnExtractor modifies parameters in __init__. This behavior is deprecated as of 0.18 and support for this behavior will be removed in 0.20.\n",
      "  % type(estimator).__name__, DeprecationWarning)\n",
      "/Library/Python/2.7/site-packages/sklearn/base.py:122: DeprecationWarning: Estimator ColumnExtractor modifies parameters in __init__. This behavior is deprecated as of 0.18 and support for this behavior will be removed in 0.20.\n",
      "  % type(estimator).__name__, DeprecationWarning)\n",
      "/Library/Python/2.7/site-packages/sklearn/base.py:122: DeprecationWarning: Estimator ColumnExtractor modifies parameters in __init__. This behavior is deprecated as of 0.18 and support for this behavior will be removed in 0.20.\n",
      "  % type(estimator).__name__, DeprecationWarning)\n",
      "/Library/Python/2.7/site-packages/sklearn/base.py:122: DeprecationWarning: Estimator ColumnExtractor modifies parameters in __init__. This behavior is deprecated as of 0.18 and support for this behavior will be removed in 0.20.\n",
      "  % type(estimator).__name__, DeprecationWarning)\n",
      "/Library/Python/2.7/site-packages/sklearn/base.py:122: DeprecationWarning: Estimator ColumnExtractor modifies parameters in __init__. This behavior is deprecated as of 0.18 and support for this behavior will be removed in 0.20.\n",
      "  % type(estimator).__name__, DeprecationWarning)\n",
      "/Library/Python/2.7/site-packages/sklearn/base.py:122: DeprecationWarning: Estimator ColumnExtractor modifies parameters in __init__. This behavior is deprecated as of 0.18 and support for this behavior will be removed in 0.20.\n",
      "  % type(estimator).__name__, DeprecationWarning)\n",
      "/Library/Python/2.7/site-packages/sklearn/base.py:122: DeprecationWarning: Estimator ColumnExtractor modifies parameters in __init__. This behavior is deprecated as of 0.18 and support for this behavior will be removed in 0.20.\n",
      "  % type(estimator).__name__, DeprecationWarning)\n",
      "/Library/Python/2.7/site-packages/sklearn/base.py:122: DeprecationWarning: Estimator ColumnExtractor modifies parameters in __init__. This behavior is deprecated as of 0.18 and support for this behavior will be removed in 0.20.\n",
      "  % type(estimator).__name__, DeprecationWarning)\n",
      "/Library/Python/2.7/site-packages/sklearn/base.py:122: DeprecationWarning: Estimator ColumnExtractor modifies parameters in __init__. This behavior is deprecated as of 0.18 and support for this behavior will be removed in 0.20.\n",
      "  % type(estimator).__name__, DeprecationWarning)\n",
      "/Library/Python/2.7/site-packages/sklearn/base.py:122: DeprecationWarning: Estimator ColumnExtractor modifies parameters in __init__. This behavior is deprecated as of 0.18 and support for this behavior will be removed in 0.20.\n",
      "  % type(estimator).__name__, DeprecationWarning)\n",
      "/Library/Python/2.7/site-packages/sklearn/base.py:122: DeprecationWarning: Estimator ColumnExtractor modifies parameters in __init__. This behavior is deprecated as of 0.18 and support for this behavior will be removed in 0.20.\n",
      "  % type(estimator).__name__, DeprecationWarning)\n",
      "/Library/Python/2.7/site-packages/sklearn/base.py:122: DeprecationWarning: Estimator ColumnExtractor modifies parameters in __init__. This behavior is deprecated as of 0.18 and support for this behavior will be removed in 0.20.\n",
      "  % type(estimator).__name__, DeprecationWarning)\n",
      "/Library/Python/2.7/site-packages/sklearn/base.py:122: DeprecationWarning: Estimator ColumnExtractor modifies parameters in __init__. This behavior is deprecated as of 0.18 and support for this behavior will be removed in 0.20.\n",
      "  % type(estimator).__name__, DeprecationWarning)\n",
      "/Library/Python/2.7/site-packages/sklearn/base.py:122: DeprecationWarning: Estimator ColumnExtractor modifies parameters in __init__. This behavior is deprecated as of 0.18 and support for this behavior will be removed in 0.20.\n",
      "  % type(estimator).__name__, DeprecationWarning)\n",
      "/Library/Python/2.7/site-packages/sklearn/base.py:122: DeprecationWarning: Estimator ColumnExtractor modifies parameters in __init__. This behavior is deprecated as of 0.18 and support for this behavior will be removed in 0.20.\n",
      "  % type(estimator).__name__, DeprecationWarning)\n",
      "/Library/Python/2.7/site-packages/sklearn/base.py:122: DeprecationWarning: Estimator ColumnExtractor modifies parameters in __init__. This behavior is deprecated as of 0.18 and support for this behavior will be removed in 0.20.\n",
      "  % type(estimator).__name__, DeprecationWarning)\n",
      "/Library/Python/2.7/site-packages/sklearn/base.py:122: DeprecationWarning: Estimator ColumnExtractor modifies parameters in __init__. This behavior is deprecated as of 0.18 and support for this behavior will be removed in 0.20.\n",
      "  % type(estimator).__name__, DeprecationWarning)\n",
      "/Library/Python/2.7/site-packages/sklearn/base.py:122: DeprecationWarning: Estimator ColumnExtractor modifies parameters in __init__. This behavior is deprecated as of 0.18 and support for this behavior will be removed in 0.20.\n",
      "  % type(estimator).__name__, DeprecationWarning)\n",
      "/Library/Python/2.7/site-packages/sklearn/base.py:122: DeprecationWarning: Estimator ColumnExtractor modifies parameters in __init__. This behavior is deprecated as of 0.18 and support for this behavior will be removed in 0.20.\n",
      "  % type(estimator).__name__, DeprecationWarning)\n",
      "/Library/Python/2.7/site-packages/sklearn/base.py:122: DeprecationWarning: Estimator ColumnExtractor modifies parameters in __init__. This behavior is deprecated as of 0.18 and support for this behavior will be removed in 0.20.\n",
      "  % type(estimator).__name__, DeprecationWarning)\n",
      "/Library/Python/2.7/site-packages/sklearn/base.py:122: DeprecationWarning: Estimator ColumnExtractor modifies parameters in __init__. This behavior is deprecated as of 0.18 and support for this behavior will be removed in 0.20.\n",
      "  % type(estimator).__name__, DeprecationWarning)\n",
      "/Library/Python/2.7/site-packages/sklearn/base.py:122: DeprecationWarning: Estimator ColumnExtractor modifies parameters in __init__. This behavior is deprecated as of 0.18 and support for this behavior will be removed in 0.20.\n",
      "  % type(estimator).__name__, DeprecationWarning)\n",
      "/Library/Python/2.7/site-packages/sklearn/base.py:122: DeprecationWarning: Estimator ColumnExtractor modifies parameters in __init__. This behavior is deprecated as of 0.18 and support for this behavior will be removed in 0.20.\n",
      "  % type(estimator).__name__, DeprecationWarning)\n",
      "/Library/Python/2.7/site-packages/sklearn/base.py:122: DeprecationWarning: Estimator ColumnExtractor modifies parameters in __init__. This behavior is deprecated as of 0.18 and support for this behavior will be removed in 0.20.\n",
      "  % type(estimator).__name__, DeprecationWarning)\n",
      "/Library/Python/2.7/site-packages/sklearn/base.py:122: DeprecationWarning: Estimator ColumnExtractor modifies parameters in __init__. This behavior is deprecated as of 0.18 and support for this behavior will be removed in 0.20.\n",
      "  % type(estimator).__name__, DeprecationWarning)\n",
      "/Library/Python/2.7/site-packages/sklearn/base.py:122: DeprecationWarning: Estimator ColumnExtractor modifies parameters in __init__. This behavior is deprecated as of 0.18 and support for this behavior will be removed in 0.20.\n",
      "  % type(estimator).__name__, DeprecationWarning)\n",
      "/Library/Python/2.7/site-packages/sklearn/base.py:122: DeprecationWarning: Estimator ColumnExtractor modifies parameters in __init__. This behavior is deprecated as of 0.18 and support for this behavior will be removed in 0.20.\n",
      "  % type(estimator).__name__, DeprecationWarning)\n",
      "/Library/Python/2.7/site-packages/sklearn/base.py:122: DeprecationWarning: Estimator ColumnExtractor modifies parameters in __init__. This behavior is deprecated as of 0.18 and support for this behavior will be removed in 0.20.\n",
      "  % type(estimator).__name__, DeprecationWarning)\n",
      "/Library/Python/2.7/site-packages/sklearn/base.py:122: DeprecationWarning: Estimator ColumnExtractor modifies parameters in __init__. This behavior is deprecated as of 0.18 and support for this behavior will be removed in 0.20.\n",
      "  % type(estimator).__name__, DeprecationWarning)\n",
      "/Library/Python/2.7/site-packages/sklearn/base.py:122: DeprecationWarning: Estimator ColumnExtractor modifies parameters in __init__. This behavior is deprecated as of 0.18 and support for this behavior will be removed in 0.20.\n",
      "  % type(estimator).__name__, DeprecationWarning)\n",
      "/Library/Python/2.7/site-packages/sklearn/base.py:122: DeprecationWarning: Estimator ColumnExtractor modifies parameters in __init__. This behavior is deprecated as of 0.18 and support for this behavior will be removed in 0.20.\n",
      "  % type(estimator).__name__, DeprecationWarning)\n",
      "/Library/Python/2.7/site-packages/sklearn/base.py:122: DeprecationWarning: Estimator ColumnExtractor modifies parameters in __init__. This behavior is deprecated as of 0.18 and support for this behavior will be removed in 0.20.\n",
      "  % type(estimator).__name__, DeprecationWarning)\n",
      "/Library/Python/2.7/site-packages/sklearn/base.py:122: DeprecationWarning: Estimator ColumnExtractor modifies parameters in __init__. This behavior is deprecated as of 0.18 and support for this behavior will be removed in 0.20.\n",
      "  % type(estimator).__name__, DeprecationWarning)\n",
      "/Library/Python/2.7/site-packages/sklearn/base.py:122: DeprecationWarning: Estimator ColumnExtractor modifies parameters in __init__. This behavior is deprecated as of 0.18 and support for this behavior will be removed in 0.20.\n",
      "  % type(estimator).__name__, DeprecationWarning)\n",
      "/Library/Python/2.7/site-packages/sklearn/base.py:122: DeprecationWarning: Estimator ColumnExtractor modifies parameters in __init__. This behavior is deprecated as of 0.18 and support for this behavior will be removed in 0.20.\n",
      "  % type(estimator).__name__, DeprecationWarning)\n",
      "/Library/Python/2.7/site-packages/sklearn/base.py:122: DeprecationWarning: Estimator ColumnExtractor modifies parameters in __init__. This behavior is deprecated as of 0.18 and support for this behavior will be removed in 0.20.\n",
      "  % type(estimator).__name__, DeprecationWarning)\n",
      "/Library/Python/2.7/site-packages/sklearn/base.py:122: DeprecationWarning: Estimator ColumnExtractor modifies parameters in __init__. This behavior is deprecated as of 0.18 and support for this behavior will be removed in 0.20.\n",
      "  % type(estimator).__name__, DeprecationWarning)\n",
      "/Library/Python/2.7/site-packages/sklearn/base.py:122: DeprecationWarning: Estimator ColumnExtractor modifies parameters in __init__. This behavior is deprecated as of 0.18 and support for this behavior will be removed in 0.20.\n",
      "  % type(estimator).__name__, DeprecationWarning)\n",
      "/Library/Python/2.7/site-packages/sklearn/base.py:122: DeprecationWarning: Estimator ColumnExtractor modifies parameters in __init__. This behavior is deprecated as of 0.18 and support for this behavior will be removed in 0.20.\n",
      "  % type(estimator).__name__, DeprecationWarning)\n",
      "/Library/Python/2.7/site-packages/sklearn/base.py:122: DeprecationWarning: Estimator ColumnExtractor modifies parameters in __init__. This behavior is deprecated as of 0.18 and support for this behavior will be removed in 0.20.\n",
      "  % type(estimator).__name__, DeprecationWarning)\n",
      "/Library/Python/2.7/site-packages/sklearn/base.py:122: DeprecationWarning: Estimator ColumnExtractor modifies parameters in __init__. This behavior is deprecated as of 0.18 and support for this behavior will be removed in 0.20.\n",
      "  % type(estimator).__name__, DeprecationWarning)\n",
      "/Library/Python/2.7/site-packages/sklearn/base.py:122: DeprecationWarning: Estimator ColumnExtractor modifies parameters in __init__. This behavior is deprecated as of 0.18 and support for this behavior will be removed in 0.20.\n",
      "  % type(estimator).__name__, DeprecationWarning)\n",
      "/Library/Python/2.7/site-packages/sklearn/base.py:122: DeprecationWarning: Estimator ColumnExtractor modifies parameters in __init__. This behavior is deprecated as of 0.18 and support for this behavior will be removed in 0.20.\n",
      "  % type(estimator).__name__, DeprecationWarning)\n",
      "/Library/Python/2.7/site-packages/sklearn/base.py:122: DeprecationWarning: Estimator ColumnExtractor modifies parameters in __init__. This behavior is deprecated as of 0.18 and support for this behavior will be removed in 0.20.\n",
      "  % type(estimator).__name__, DeprecationWarning)\n",
      "/Library/Python/2.7/site-packages/sklearn/base.py:122: DeprecationWarning: Estimator ColumnExtractor modifies parameters in __init__. This behavior is deprecated as of 0.18 and support for this behavior will be removed in 0.20.\n",
      "  % type(estimator).__name__, DeprecationWarning)\n",
      "/Library/Python/2.7/site-packages/sklearn/base.py:122: DeprecationWarning: Estimator ColumnExtractor modifies parameters in __init__. This behavior is deprecated as of 0.18 and support for this behavior will be removed in 0.20.\n",
      "  % type(estimator).__name__, DeprecationWarning)\n",
      "/Library/Python/2.7/site-packages/sklearn/base.py:122: DeprecationWarning: Estimator ColumnExtractor modifies parameters in __init__. This behavior is deprecated as of 0.18 and support for this behavior will be removed in 0.20.\n",
      "  % type(estimator).__name__, DeprecationWarning)\n",
      "/Library/Python/2.7/site-packages/sklearn/base.py:122: DeprecationWarning: Estimator ColumnExtractor modifies parameters in __init__. This behavior is deprecated as of 0.18 and support for this behavior will be removed in 0.20.\n",
      "  % type(estimator).__name__, DeprecationWarning)\n",
      "/Library/Python/2.7/site-packages/sklearn/base.py:122: DeprecationWarning: Estimator ColumnExtractor modifies parameters in __init__. This behavior is deprecated as of 0.18 and support for this behavior will be removed in 0.20.\n",
      "  % type(estimator).__name__, DeprecationWarning)\n",
      "/Library/Python/2.7/site-packages/sklearn/base.py:122: DeprecationWarning: Estimator ColumnExtractor modifies parameters in __init__. This behavior is deprecated as of 0.18 and support for this behavior will be removed in 0.20.\n",
      "  % type(estimator).__name__, DeprecationWarning)\n",
      "/Library/Python/2.7/site-packages/sklearn/base.py:122: DeprecationWarning: Estimator ColumnExtractor modifies parameters in __init__. This behavior is deprecated as of 0.18 and support for this behavior will be removed in 0.20.\n",
      "  % type(estimator).__name__, DeprecationWarning)\n",
      "/Library/Python/2.7/site-packages/sklearn/base.py:122: DeprecationWarning: Estimator ColumnExtractor modifies parameters in __init__. This behavior is deprecated as of 0.18 and support for this behavior will be removed in 0.20.\n",
      "  % type(estimator).__name__, DeprecationWarning)\n",
      "/Library/Python/2.7/site-packages/sklearn/base.py:122: DeprecationWarning: Estimator ColumnExtractor modifies parameters in __init__. This behavior is deprecated as of 0.18 and support for this behavior will be removed in 0.20.\n",
      "  % type(estimator).__name__, DeprecationWarning)\n",
      "/Library/Python/2.7/site-packages/sklearn/base.py:122: DeprecationWarning: Estimator ColumnExtractor modifies parameters in __init__. This behavior is deprecated as of 0.18 and support for this behavior will be removed in 0.20.\n",
      "  % type(estimator).__name__, DeprecationWarning)\n",
      "/Library/Python/2.7/site-packages/sklearn/base.py:122: DeprecationWarning: Estimator ColumnExtractor modifies parameters in __init__. This behavior is deprecated as of 0.18 and support for this behavior will be removed in 0.20.\n",
      "  % type(estimator).__name__, DeprecationWarning)\n",
      "/Library/Python/2.7/site-packages/sklearn/base.py:122: DeprecationWarning: Estimator ColumnExtractor modifies parameters in __init__. This behavior is deprecated as of 0.18 and support for this behavior will be removed in 0.20.\n",
      "  % type(estimator).__name__, DeprecationWarning)\n",
      "/Library/Python/2.7/site-packages/sklearn/base.py:122: DeprecationWarning: Estimator ColumnExtractor modifies parameters in __init__. This behavior is deprecated as of 0.18 and support for this behavior will be removed in 0.20.\n",
      "  % type(estimator).__name__, DeprecationWarning)\n",
      "/Library/Python/2.7/site-packages/sklearn/base.py:122: DeprecationWarning: Estimator ColumnExtractor modifies parameters in __init__. This behavior is deprecated as of 0.18 and support for this behavior will be removed in 0.20.\n",
      "  % type(estimator).__name__, DeprecationWarning)\n",
      "/Library/Python/2.7/site-packages/sklearn/base.py:122: DeprecationWarning: Estimator ColumnExtractor modifies parameters in __init__. This behavior is deprecated as of 0.18 and support for this behavior will be removed in 0.20.\n",
      "  % type(estimator).__name__, DeprecationWarning)\n",
      "/Library/Python/2.7/site-packages/sklearn/base.py:122: DeprecationWarning: Estimator ColumnExtractor modifies parameters in __init__. This behavior is deprecated as of 0.18 and support for this behavior will be removed in 0.20.\n",
      "  % type(estimator).__name__, DeprecationWarning)\n",
      "/Library/Python/2.7/site-packages/sklearn/base.py:122: DeprecationWarning: Estimator ColumnExtractor modifies parameters in __init__. This behavior is deprecated as of 0.18 and support for this behavior will be removed in 0.20.\n",
      "  % type(estimator).__name__, DeprecationWarning)\n",
      "/Library/Python/2.7/site-packages/sklearn/base.py:122: DeprecationWarning: Estimator ColumnExtractor modifies parameters in __init__. This behavior is deprecated as of 0.18 and support for this behavior will be removed in 0.20.\n",
      "  % type(estimator).__name__, DeprecationWarning)\n",
      "/Library/Python/2.7/site-packages/sklearn/base.py:122: DeprecationWarning: Estimator ColumnExtractor modifies parameters in __init__. This behavior is deprecated as of 0.18 and support for this behavior will be removed in 0.20.\n",
      "  % type(estimator).__name__, DeprecationWarning)\n",
      "/Library/Python/2.7/site-packages/sklearn/base.py:122: DeprecationWarning: Estimator ColumnExtractor modifies parameters in __init__. This behavior is deprecated as of 0.18 and support for this behavior will be removed in 0.20.\n",
      "  % type(estimator).__name__, DeprecationWarning)\n",
      "/Library/Python/2.7/site-packages/sklearn/base.py:122: DeprecationWarning: Estimator ColumnExtractor modifies parameters in __init__. This behavior is deprecated as of 0.18 and support for this behavior will be removed in 0.20.\n",
      "  % type(estimator).__name__, DeprecationWarning)\n",
      "/Library/Python/2.7/site-packages/sklearn/base.py:122: DeprecationWarning: Estimator ColumnExtractor modifies parameters in __init__. This behavior is deprecated as of 0.18 and support for this behavior will be removed in 0.20.\n",
      "  % type(estimator).__name__, DeprecationWarning)\n",
      "/Library/Python/2.7/site-packages/sklearn/base.py:122: DeprecationWarning: Estimator ColumnExtractor modifies parameters in __init__. This behavior is deprecated as of 0.18 and support for this behavior will be removed in 0.20.\n",
      "  % type(estimator).__name__, DeprecationWarning)\n",
      "/Library/Python/2.7/site-packages/sklearn/base.py:122: DeprecationWarning: Estimator ColumnExtractor modifies parameters in __init__. This behavior is deprecated as of 0.18 and support for this behavior will be removed in 0.20.\n",
      "  % type(estimator).__name__, DeprecationWarning)\n",
      "/Library/Python/2.7/site-packages/sklearn/base.py:122: DeprecationWarning: Estimator ColumnExtractor modifies parameters in __init__. This behavior is deprecated as of 0.18 and support for this behavior will be removed in 0.20.\n",
      "  % type(estimator).__name__, DeprecationWarning)\n",
      "/Library/Python/2.7/site-packages/sklearn/base.py:122: DeprecationWarning: Estimator ColumnExtractor modifies parameters in __init__. This behavior is deprecated as of 0.18 and support for this behavior will be removed in 0.20.\n",
      "  % type(estimator).__name__, DeprecationWarning)\n",
      "/Library/Python/2.7/site-packages/sklearn/base.py:122: DeprecationWarning: Estimator ColumnExtractor modifies parameters in __init__. This behavior is deprecated as of 0.18 and support for this behavior will be removed in 0.20.\n",
      "  % type(estimator).__name__, DeprecationWarning)\n",
      "/Library/Python/2.7/site-packages/sklearn/base.py:122: DeprecationWarning: Estimator ColumnExtractor modifies parameters in __init__. This behavior is deprecated as of 0.18 and support for this behavior will be removed in 0.20.\n",
      "  % type(estimator).__name__, DeprecationWarning)\n",
      "/Library/Python/2.7/site-packages/sklearn/base.py:122: DeprecationWarning: Estimator ColumnExtractor modifies parameters in __init__. This behavior is deprecated as of 0.18 and support for this behavior will be removed in 0.20.\n",
      "  % type(estimator).__name__, DeprecationWarning)\n",
      "/Library/Python/2.7/site-packages/sklearn/base.py:122: DeprecationWarning: Estimator ColumnExtractor modifies parameters in __init__. This behavior is deprecated as of 0.18 and support for this behavior will be removed in 0.20.\n",
      "  % type(estimator).__name__, DeprecationWarning)\n",
      "/Library/Python/2.7/site-packages/sklearn/base.py:122: DeprecationWarning: Estimator ColumnExtractor modifies parameters in __init__. This behavior is deprecated as of 0.18 and support for this behavior will be removed in 0.20.\n",
      "  % type(estimator).__name__, DeprecationWarning)\n",
      "/Library/Python/2.7/site-packages/sklearn/base.py:122: DeprecationWarning: Estimator ColumnExtractor modifies parameters in __init__. This behavior is deprecated as of 0.18 and support for this behavior will be removed in 0.20.\n",
      "  % type(estimator).__name__, DeprecationWarning)\n",
      "/Library/Python/2.7/site-packages/sklearn/base.py:122: DeprecationWarning: Estimator ColumnExtractor modifies parameters in __init__. This behavior is deprecated as of 0.18 and support for this behavior will be removed in 0.20.\n",
      "  % type(estimator).__name__, DeprecationWarning)\n",
      "/Library/Python/2.7/site-packages/sklearn/base.py:122: DeprecationWarning: Estimator ColumnExtractor modifies parameters in __init__. This behavior is deprecated as of 0.18 and support for this behavior will be removed in 0.20.\n",
      "  % type(estimator).__name__, DeprecationWarning)\n",
      "/Library/Python/2.7/site-packages/sklearn/base.py:122: DeprecationWarning: Estimator ColumnExtractor modifies parameters in __init__. This behavior is deprecated as of 0.18 and support for this behavior will be removed in 0.20.\n",
      "  % type(estimator).__name__, DeprecationWarning)\n",
      "/Library/Python/2.7/site-packages/sklearn/base.py:122: DeprecationWarning: Estimator ColumnExtractor modifies parameters in __init__. This behavior is deprecated as of 0.18 and support for this behavior will be removed in 0.20.\n",
      "  % type(estimator).__name__, DeprecationWarning)\n",
      "/Library/Python/2.7/site-packages/sklearn/base.py:122: DeprecationWarning: Estimator ColumnExtractor modifies parameters in __init__. This behavior is deprecated as of 0.18 and support for this behavior will be removed in 0.20.\n",
      "  % type(estimator).__name__, DeprecationWarning)\n",
      "/Library/Python/2.7/site-packages/sklearn/base.py:122: DeprecationWarning: Estimator ColumnExtractor modifies parameters in __init__. This behavior is deprecated as of 0.18 and support for this behavior will be removed in 0.20.\n",
      "  % type(estimator).__name__, DeprecationWarning)\n",
      "/Library/Python/2.7/site-packages/sklearn/base.py:122: DeprecationWarning: Estimator ColumnExtractor modifies parameters in __init__. This behavior is deprecated as of 0.18 and support for this behavior will be removed in 0.20.\n",
      "  % type(estimator).__name__, DeprecationWarning)\n",
      "/Library/Python/2.7/site-packages/sklearn/base.py:122: DeprecationWarning: Estimator ColumnExtractor modifies parameters in __init__. This behavior is deprecated as of 0.18 and support for this behavior will be removed in 0.20.\n",
      "  % type(estimator).__name__, DeprecationWarning)\n",
      "/Library/Python/2.7/site-packages/sklearn/base.py:122: DeprecationWarning: Estimator ColumnExtractor modifies parameters in __init__. This behavior is deprecated as of 0.18 and support for this behavior will be removed in 0.20.\n",
      "  % type(estimator).__name__, DeprecationWarning)\n",
      "/Library/Python/2.7/site-packages/sklearn/base.py:122: DeprecationWarning: Estimator ColumnExtractor modifies parameters in __init__. This behavior is deprecated as of 0.18 and support for this behavior will be removed in 0.20.\n",
      "  % type(estimator).__name__, DeprecationWarning)\n",
      "/Library/Python/2.7/site-packages/sklearn/base.py:122: DeprecationWarning: Estimator ColumnExtractor modifies parameters in __init__. This behavior is deprecated as of 0.18 and support for this behavior will be removed in 0.20.\n",
      "  % type(estimator).__name__, DeprecationWarning)\n",
      "/Library/Python/2.7/site-packages/sklearn/base.py:122: DeprecationWarning: Estimator ColumnExtractor modifies parameters in __init__. This behavior is deprecated as of 0.18 and support for this behavior will be removed in 0.20.\n",
      "  % type(estimator).__name__, DeprecationWarning)\n",
      "/Library/Python/2.7/site-packages/sklearn/base.py:122: DeprecationWarning: Estimator ColumnExtractor modifies parameters in __init__. This behavior is deprecated as of 0.18 and support for this behavior will be removed in 0.20.\n",
      "  % type(estimator).__name__, DeprecationWarning)\n",
      "/Library/Python/2.7/site-packages/sklearn/base.py:122: DeprecationWarning: Estimator ColumnExtractor modifies parameters in __init__. This behavior is deprecated as of 0.18 and support for this behavior will be removed in 0.20.\n",
      "  % type(estimator).__name__, DeprecationWarning)\n",
      "/Library/Python/2.7/site-packages/sklearn/base.py:122: DeprecationWarning: Estimator ColumnExtractor modifies parameters in __init__. This behavior is deprecated as of 0.18 and support for this behavior will be removed in 0.20.\n",
      "  % type(estimator).__name__, DeprecationWarning)\n",
      "/Library/Python/2.7/site-packages/sklearn/base.py:122: DeprecationWarning: Estimator ColumnExtractor modifies parameters in __init__. This behavior is deprecated as of 0.18 and support for this behavior will be removed in 0.20.\n",
      "  % type(estimator).__name__, DeprecationWarning)\n",
      "/Library/Python/2.7/site-packages/sklearn/base.py:122: DeprecationWarning: Estimator ColumnExtractor modifies parameters in __init__. This behavior is deprecated as of 0.18 and support for this behavior will be removed in 0.20.\n",
      "  % type(estimator).__name__, DeprecationWarning)\n",
      "/Library/Python/2.7/site-packages/sklearn/base.py:122: DeprecationWarning: Estimator ColumnExtractor modifies parameters in __init__. This behavior is deprecated as of 0.18 and support for this behavior will be removed in 0.20.\n",
      "  % type(estimator).__name__, DeprecationWarning)\n",
      "/Library/Python/2.7/site-packages/sklearn/base.py:122: DeprecationWarning: Estimator ColumnExtractor modifies parameters in __init__. This behavior is deprecated as of 0.18 and support for this behavior will be removed in 0.20.\n",
      "  % type(estimator).__name__, DeprecationWarning)\n",
      "/Library/Python/2.7/site-packages/sklearn/base.py:122: DeprecationWarning: Estimator ColumnExtractor modifies parameters in __init__. This behavior is deprecated as of 0.18 and support for this behavior will be removed in 0.20.\n",
      "  % type(estimator).__name__, DeprecationWarning)\n",
      "/Library/Python/2.7/site-packages/sklearn/base.py:122: DeprecationWarning: Estimator ColumnExtractor modifies parameters in __init__. This behavior is deprecated as of 0.18 and support for this behavior will be removed in 0.20.\n",
      "  % type(estimator).__name__, DeprecationWarning)\n",
      "/Library/Python/2.7/site-packages/sklearn/base.py:122: DeprecationWarning: Estimator ColumnExtractor modifies parameters in __init__. This behavior is deprecated as of 0.18 and support for this behavior will be removed in 0.20.\n",
      "  % type(estimator).__name__, DeprecationWarning)\n",
      "/Library/Python/2.7/site-packages/sklearn/base.py:122: DeprecationWarning: Estimator ColumnExtractor modifies parameters in __init__. This behavior is deprecated as of 0.18 and support for this behavior will be removed in 0.20.\n",
      "  % type(estimator).__name__, DeprecationWarning)\n",
      "/Library/Python/2.7/site-packages/sklearn/base.py:122: DeprecationWarning: Estimator ColumnExtractor modifies parameters in __init__. This behavior is deprecated as of 0.18 and support for this behavior will be removed in 0.20.\n",
      "  % type(estimator).__name__, DeprecationWarning)\n",
      "/Library/Python/2.7/site-packages/sklearn/base.py:122: DeprecationWarning: Estimator ColumnExtractor modifies parameters in __init__. This behavior is deprecated as of 0.18 and support for this behavior will be removed in 0.20.\n",
      "  % type(estimator).__name__, DeprecationWarning)\n",
      "/Library/Python/2.7/site-packages/sklearn/base.py:122: DeprecationWarning: Estimator ColumnExtractor modifies parameters in __init__. This behavior is deprecated as of 0.18 and support for this behavior will be removed in 0.20.\n",
      "  % type(estimator).__name__, DeprecationWarning)\n",
      "/Library/Python/2.7/site-packages/sklearn/base.py:122: DeprecationWarning: Estimator ColumnExtractor modifies parameters in __init__. This behavior is deprecated as of 0.18 and support for this behavior will be removed in 0.20.\n",
      "  % type(estimator).__name__, DeprecationWarning)\n",
      "/Library/Python/2.7/site-packages/sklearn/base.py:122: DeprecationWarning: Estimator ColumnExtractor modifies parameters in __init__. This behavior is deprecated as of 0.18 and support for this behavior will be removed in 0.20.\n",
      "  % type(estimator).__name__, DeprecationWarning)\n",
      "/Library/Python/2.7/site-packages/sklearn/base.py:122: DeprecationWarning: Estimator ColumnExtractor modifies parameters in __init__. This behavior is deprecated as of 0.18 and support for this behavior will be removed in 0.20.\n",
      "  % type(estimator).__name__, DeprecationWarning)\n",
      "/Library/Python/2.7/site-packages/sklearn/base.py:122: DeprecationWarning: Estimator ColumnExtractor modifies parameters in __init__. This behavior is deprecated as of 0.18 and support for this behavior will be removed in 0.20.\n",
      "  % type(estimator).__name__, DeprecationWarning)\n",
      "/Library/Python/2.7/site-packages/sklearn/base.py:122: DeprecationWarning: Estimator ColumnExtractor modifies parameters in __init__. This behavior is deprecated as of 0.18 and support for this behavior will be removed in 0.20.\n",
      "  % type(estimator).__name__, DeprecationWarning)\n",
      "/Library/Python/2.7/site-packages/sklearn/base.py:122: DeprecationWarning: Estimator ColumnExtractor modifies parameters in __init__. This behavior is deprecated as of 0.18 and support for this behavior will be removed in 0.20.\n",
      "  % type(estimator).__name__, DeprecationWarning)\n",
      "/Library/Python/2.7/site-packages/sklearn/base.py:122: DeprecationWarning: Estimator ColumnExtractor modifies parameters in __init__. This behavior is deprecated as of 0.18 and support for this behavior will be removed in 0.20.\n",
      "  % type(estimator).__name__, DeprecationWarning)\n",
      "/Library/Python/2.7/site-packages/sklearn/base.py:122: DeprecationWarning: Estimator ColumnExtractor modifies parameters in __init__. This behavior is deprecated as of 0.18 and support for this behavior will be removed in 0.20.\n",
      "  % type(estimator).__name__, DeprecationWarning)\n",
      "/Library/Python/2.7/site-packages/sklearn/base.py:122: DeprecationWarning: Estimator ColumnExtractor modifies parameters in __init__. This behavior is deprecated as of 0.18 and support for this behavior will be removed in 0.20.\n",
      "  % type(estimator).__name__, DeprecationWarning)\n",
      "/Library/Python/2.7/site-packages/sklearn/base.py:122: DeprecationWarning: Estimator ColumnExtractor modifies parameters in __init__. This behavior is deprecated as of 0.18 and support for this behavior will be removed in 0.20.\n",
      "  % type(estimator).__name__, DeprecationWarning)\n",
      "/Library/Python/2.7/site-packages/sklearn/base.py:122: DeprecationWarning: Estimator ColumnExtractor modifies parameters in __init__. This behavior is deprecated as of 0.18 and support for this behavior will be removed in 0.20.\n",
      "  % type(estimator).__name__, DeprecationWarning)\n",
      "/Library/Python/2.7/site-packages/sklearn/base.py:122: DeprecationWarning: Estimator ColumnExtractor modifies parameters in __init__. This behavior is deprecated as of 0.18 and support for this behavior will be removed in 0.20.\n",
      "  % type(estimator).__name__, DeprecationWarning)\n",
      "/Library/Python/2.7/site-packages/sklearn/base.py:122: DeprecationWarning: Estimator ColumnExtractor modifies parameters in __init__. This behavior is deprecated as of 0.18 and support for this behavior will be removed in 0.20.\n",
      "  % type(estimator).__name__, DeprecationWarning)\n",
      "/Library/Python/2.7/site-packages/sklearn/base.py:122: DeprecationWarning: Estimator ColumnExtractor modifies parameters in __init__. This behavior is deprecated as of 0.18 and support for this behavior will be removed in 0.20.\n",
      "  % type(estimator).__name__, DeprecationWarning)\n",
      "/Library/Python/2.7/site-packages/sklearn/base.py:122: DeprecationWarning: Estimator ColumnExtractor modifies parameters in __init__. This behavior is deprecated as of 0.18 and support for this behavior will be removed in 0.20.\n",
      "  % type(estimator).__name__, DeprecationWarning)\n",
      "/Library/Python/2.7/site-packages/sklearn/base.py:122: DeprecationWarning: Estimator ColumnExtractor modifies parameters in __init__. This behavior is deprecated as of 0.18 and support for this behavior will be removed in 0.20.\n",
      "  % type(estimator).__name__, DeprecationWarning)\n",
      "/Library/Python/2.7/site-packages/sklearn/base.py:122: DeprecationWarning: Estimator ColumnExtractor modifies parameters in __init__. This behavior is deprecated as of 0.18 and support for this behavior will be removed in 0.20.\n",
      "  % type(estimator).__name__, DeprecationWarning)\n",
      "/Library/Python/2.7/site-packages/sklearn/base.py:122: DeprecationWarning: Estimator ColumnExtractor modifies parameters in __init__. This behavior is deprecated as of 0.18 and support for this behavior will be removed in 0.20.\n",
      "  % type(estimator).__name__, DeprecationWarning)\n",
      "/Library/Python/2.7/site-packages/sklearn/base.py:122: DeprecationWarning: Estimator ColumnExtractor modifies parameters in __init__. This behavior is deprecated as of 0.18 and support for this behavior will be removed in 0.20.\n",
      "  % type(estimator).__name__, DeprecationWarning)\n",
      "/Library/Python/2.7/site-packages/sklearn/base.py:122: DeprecationWarning: Estimator ColumnExtractor modifies parameters in __init__. This behavior is deprecated as of 0.18 and support for this behavior will be removed in 0.20.\n",
      "  % type(estimator).__name__, DeprecationWarning)\n",
      "/Library/Python/2.7/site-packages/sklearn/base.py:122: DeprecationWarning: Estimator ColumnExtractor modifies parameters in __init__. This behavior is deprecated as of 0.18 and support for this behavior will be removed in 0.20.\n",
      "  % type(estimator).__name__, DeprecationWarning)\n",
      "/Library/Python/2.7/site-packages/sklearn/base.py:122: DeprecationWarning: Estimator ColumnExtractor modifies parameters in __init__. This behavior is deprecated as of 0.18 and support for this behavior will be removed in 0.20.\n",
      "  % type(estimator).__name__, DeprecationWarning)\n",
      "/Library/Python/2.7/site-packages/sklearn/base.py:122: DeprecationWarning: Estimator ColumnExtractor modifies parameters in __init__. This behavior is deprecated as of 0.18 and support for this behavior will be removed in 0.20.\n",
      "  % type(estimator).__name__, DeprecationWarning)\n",
      "/Library/Python/2.7/site-packages/sklearn/base.py:122: DeprecationWarning: Estimator ColumnExtractor modifies parameters in __init__. This behavior is deprecated as of 0.18 and support for this behavior will be removed in 0.20.\n",
      "  % type(estimator).__name__, DeprecationWarning)\n",
      "/Library/Python/2.7/site-packages/sklearn/base.py:122: DeprecationWarning: Estimator ColumnExtractor modifies parameters in __init__. This behavior is deprecated as of 0.18 and support for this behavior will be removed in 0.20.\n",
      "  % type(estimator).__name__, DeprecationWarning)\n",
      "/Library/Python/2.7/site-packages/sklearn/base.py:122: DeprecationWarning: Estimator ColumnExtractor modifies parameters in __init__. This behavior is deprecated as of 0.18 and support for this behavior will be removed in 0.20.\n",
      "  % type(estimator).__name__, DeprecationWarning)\n",
      "/Library/Python/2.7/site-packages/sklearn/base.py:122: DeprecationWarning: Estimator ColumnExtractor modifies parameters in __init__. This behavior is deprecated as of 0.18 and support for this behavior will be removed in 0.20.\n",
      "  % type(estimator).__name__, DeprecationWarning)\n",
      "/Library/Python/2.7/site-packages/sklearn/base.py:122: DeprecationWarning: Estimator ColumnExtractor modifies parameters in __init__. This behavior is deprecated as of 0.18 and support for this behavior will be removed in 0.20.\n",
      "  % type(estimator).__name__, DeprecationWarning)\n",
      "/Library/Python/2.7/site-packages/sklearn/base.py:122: DeprecationWarning: Estimator ColumnExtractor modifies parameters in __init__. This behavior is deprecated as of 0.18 and support for this behavior will be removed in 0.20.\n",
      "  % type(estimator).__name__, DeprecationWarning)\n",
      "/Library/Python/2.7/site-packages/sklearn/base.py:122: DeprecationWarning: Estimator ColumnExtractor modifies parameters in __init__. This behavior is deprecated as of 0.18 and support for this behavior will be removed in 0.20.\n",
      "  % type(estimator).__name__, DeprecationWarning)\n",
      "/Library/Python/2.7/site-packages/sklearn/base.py:122: DeprecationWarning: Estimator ColumnExtractor modifies parameters in __init__. This behavior is deprecated as of 0.18 and support for this behavior will be removed in 0.20.\n",
      "  % type(estimator).__name__, DeprecationWarning)\n",
      "/Library/Python/2.7/site-packages/sklearn/base.py:122: DeprecationWarning: Estimator ColumnExtractor modifies parameters in __init__. This behavior is deprecated as of 0.18 and support for this behavior will be removed in 0.20.\n",
      "  % type(estimator).__name__, DeprecationWarning)\n",
      "/Library/Python/2.7/site-packages/sklearn/base.py:122: DeprecationWarning: Estimator ColumnExtractor modifies parameters in __init__. This behavior is deprecated as of 0.18 and support for this behavior will be removed in 0.20.\n",
      "  % type(estimator).__name__, DeprecationWarning)\n",
      "/Library/Python/2.7/site-packages/sklearn/base.py:122: DeprecationWarning: Estimator ColumnExtractor modifies parameters in __init__. This behavior is deprecated as of 0.18 and support for this behavior will be removed in 0.20.\n",
      "  % type(estimator).__name__, DeprecationWarning)\n",
      "/Library/Python/2.7/site-packages/sklearn/base.py:122: DeprecationWarning: Estimator ColumnExtractor modifies parameters in __init__. This behavior is deprecated as of 0.18 and support for this behavior will be removed in 0.20.\n",
      "  % type(estimator).__name__, DeprecationWarning)\n",
      "/Library/Python/2.7/site-packages/sklearn/base.py:122: DeprecationWarning: Estimator ColumnExtractor modifies parameters in __init__. This behavior is deprecated as of 0.18 and support for this behavior will be removed in 0.20.\n",
      "  % type(estimator).__name__, DeprecationWarning)\n",
      "/Library/Python/2.7/site-packages/sklearn/base.py:122: DeprecationWarning: Estimator ColumnExtractor modifies parameters in __init__. This behavior is deprecated as of 0.18 and support for this behavior will be removed in 0.20.\n",
      "  % type(estimator).__name__, DeprecationWarning)\n",
      "/Library/Python/2.7/site-packages/sklearn/base.py:122: DeprecationWarning: Estimator ColumnExtractor modifies parameters in __init__. This behavior is deprecated as of 0.18 and support for this behavior will be removed in 0.20.\n",
      "  % type(estimator).__name__, DeprecationWarning)\n",
      "/Library/Python/2.7/site-packages/sklearn/base.py:122: DeprecationWarning: Estimator ColumnExtractor modifies parameters in __init__. This behavior is deprecated as of 0.18 and support for this behavior will be removed in 0.20.\n",
      "  % type(estimator).__name__, DeprecationWarning)\n",
      "/Library/Python/2.7/site-packages/sklearn/base.py:122: DeprecationWarning: Estimator ColumnExtractor modifies parameters in __init__. This behavior is deprecated as of 0.18 and support for this behavior will be removed in 0.20.\n",
      "  % type(estimator).__name__, DeprecationWarning)\n",
      "/Library/Python/2.7/site-packages/sklearn/base.py:122: DeprecationWarning: Estimator ColumnExtractor modifies parameters in __init__. This behavior is deprecated as of 0.18 and support for this behavior will be removed in 0.20.\n",
      "  % type(estimator).__name__, DeprecationWarning)\n",
      "/Library/Python/2.7/site-packages/sklearn/base.py:122: DeprecationWarning: Estimator ColumnExtractor modifies parameters in __init__. This behavior is deprecated as of 0.18 and support for this behavior will be removed in 0.20.\n",
      "  % type(estimator).__name__, DeprecationWarning)\n",
      "/Library/Python/2.7/site-packages/sklearn/base.py:122: DeprecationWarning: Estimator ColumnExtractor modifies parameters in __init__. This behavior is deprecated as of 0.18 and support for this behavior will be removed in 0.20.\n",
      "  % type(estimator).__name__, DeprecationWarning)\n",
      "/Library/Python/2.7/site-packages/sklearn/base.py:122: DeprecationWarning: Estimator ColumnExtractor modifies parameters in __init__. This behavior is deprecated as of 0.18 and support for this behavior will be removed in 0.20.\n",
      "  % type(estimator).__name__, DeprecationWarning)\n",
      "/Library/Python/2.7/site-packages/sklearn/base.py:122: DeprecationWarning: Estimator ColumnExtractor modifies parameters in __init__. This behavior is deprecated as of 0.18 and support for this behavior will be removed in 0.20.\n",
      "  % type(estimator).__name__, DeprecationWarning)\n",
      "/Library/Python/2.7/site-packages/sklearn/base.py:122: DeprecationWarning: Estimator ColumnExtractor modifies parameters in __init__. This behavior is deprecated as of 0.18 and support for this behavior will be removed in 0.20.\n",
      "  % type(estimator).__name__, DeprecationWarning)\n",
      "/Library/Python/2.7/site-packages/sklearn/base.py:122: DeprecationWarning: Estimator ColumnExtractor modifies parameters in __init__. This behavior is deprecated as of 0.18 and support for this behavior will be removed in 0.20.\n",
      "  % type(estimator).__name__, DeprecationWarning)\n",
      "/Library/Python/2.7/site-packages/sklearn/base.py:122: DeprecationWarning: Estimator ColumnExtractor modifies parameters in __init__. This behavior is deprecated as of 0.18 and support for this behavior will be removed in 0.20.\n",
      "  % type(estimator).__name__, DeprecationWarning)\n",
      "/Library/Python/2.7/site-packages/sklearn/base.py:122: DeprecationWarning: Estimator ColumnExtractor modifies parameters in __init__. This behavior is deprecated as of 0.18 and support for this behavior will be removed in 0.20.\n",
      "  % type(estimator).__name__, DeprecationWarning)\n",
      "/Library/Python/2.7/site-packages/sklearn/base.py:122: DeprecationWarning: Estimator ColumnExtractor modifies parameters in __init__. This behavior is deprecated as of 0.18 and support for this behavior will be removed in 0.20.\n",
      "  % type(estimator).__name__, DeprecationWarning)\n",
      "/Library/Python/2.7/site-packages/sklearn/base.py:122: DeprecationWarning: Estimator ColumnExtractor modifies parameters in __init__. This behavior is deprecated as of 0.18 and support for this behavior will be removed in 0.20.\n",
      "  % type(estimator).__name__, DeprecationWarning)\n",
      "/Library/Python/2.7/site-packages/sklearn/base.py:122: DeprecationWarning: Estimator ColumnExtractor modifies parameters in __init__. This behavior is deprecated as of 0.18 and support for this behavior will be removed in 0.20.\n",
      "  % type(estimator).__name__, DeprecationWarning)\n",
      "/Library/Python/2.7/site-packages/sklearn/base.py:122: DeprecationWarning: Estimator ColumnExtractor modifies parameters in __init__. This behavior is deprecated as of 0.18 and support for this behavior will be removed in 0.20.\n",
      "  % type(estimator).__name__, DeprecationWarning)\n",
      "/Library/Python/2.7/site-packages/sklearn/base.py:122: DeprecationWarning: Estimator ColumnExtractor modifies parameters in __init__. This behavior is deprecated as of 0.18 and support for this behavior will be removed in 0.20.\n",
      "  % type(estimator).__name__, DeprecationWarning)\n",
      "/Library/Python/2.7/site-packages/sklearn/base.py:122: DeprecationWarning: Estimator ColumnExtractor modifies parameters in __init__. This behavior is deprecated as of 0.18 and support for this behavior will be removed in 0.20.\n",
      "  % type(estimator).__name__, DeprecationWarning)\n",
      "/Library/Python/2.7/site-packages/sklearn/base.py:122: DeprecationWarning: Estimator ColumnExtractor modifies parameters in __init__. This behavior is deprecated as of 0.18 and support for this behavior will be removed in 0.20.\n",
      "  % type(estimator).__name__, DeprecationWarning)\n",
      "/Library/Python/2.7/site-packages/sklearn/base.py:122: DeprecationWarning: Estimator ColumnExtractor modifies parameters in __init__. This behavior is deprecated as of 0.18 and support for this behavior will be removed in 0.20.\n",
      "  % type(estimator).__name__, DeprecationWarning)\n",
      "/Library/Python/2.7/site-packages/sklearn/base.py:122: DeprecationWarning: Estimator ColumnExtractor modifies parameters in __init__. This behavior is deprecated as of 0.18 and support for this behavior will be removed in 0.20.\n",
      "  % type(estimator).__name__, DeprecationWarning)\n",
      "/Library/Python/2.7/site-packages/sklearn/base.py:122: DeprecationWarning: Estimator ColumnExtractor modifies parameters in __init__. This behavior is deprecated as of 0.18 and support for this behavior will be removed in 0.20.\n",
      "  % type(estimator).__name__, DeprecationWarning)\n",
      "/Library/Python/2.7/site-packages/sklearn/base.py:122: DeprecationWarning: Estimator ColumnExtractor modifies parameters in __init__. This behavior is deprecated as of 0.18 and support for this behavior will be removed in 0.20.\n",
      "  % type(estimator).__name__, DeprecationWarning)\n",
      "/Library/Python/2.7/site-packages/sklearn/base.py:122: DeprecationWarning: Estimator ColumnExtractor modifies parameters in __init__. This behavior is deprecated as of 0.18 and support for this behavior will be removed in 0.20.\n",
      "  % type(estimator).__name__, DeprecationWarning)\n",
      "/Library/Python/2.7/site-packages/sklearn/base.py:122: DeprecationWarning: Estimator ColumnExtractor modifies parameters in __init__. This behavior is deprecated as of 0.18 and support for this behavior will be removed in 0.20.\n",
      "  % type(estimator).__name__, DeprecationWarning)\n",
      "/Library/Python/2.7/site-packages/sklearn/base.py:122: DeprecationWarning: Estimator ColumnExtractor modifies parameters in __init__. This behavior is deprecated as of 0.18 and support for this behavior will be removed in 0.20.\n",
      "  % type(estimator).__name__, DeprecationWarning)\n",
      "/Library/Python/2.7/site-packages/sklearn/base.py:122: DeprecationWarning: Estimator ColumnExtractor modifies parameters in __init__. This behavior is deprecated as of 0.18 and support for this behavior will be removed in 0.20.\n",
      "  % type(estimator).__name__, DeprecationWarning)\n",
      "/Library/Python/2.7/site-packages/sklearn/base.py:122: DeprecationWarning: Estimator ColumnExtractor modifies parameters in __init__. This behavior is deprecated as of 0.18 and support for this behavior will be removed in 0.20.\n",
      "  % type(estimator).__name__, DeprecationWarning)\n",
      "/Library/Python/2.7/site-packages/sklearn/base.py:122: DeprecationWarning: Estimator ColumnExtractor modifies parameters in __init__. This behavior is deprecated as of 0.18 and support for this behavior will be removed in 0.20.\n",
      "  % type(estimator).__name__, DeprecationWarning)\n",
      "/Library/Python/2.7/site-packages/sklearn/base.py:122: DeprecationWarning: Estimator ColumnExtractor modifies parameters in __init__. This behavior is deprecated as of 0.18 and support for this behavior will be removed in 0.20.\n",
      "  % type(estimator).__name__, DeprecationWarning)\n",
      "/Library/Python/2.7/site-packages/sklearn/base.py:122: DeprecationWarning: Estimator ColumnExtractor modifies parameters in __init__. This behavior is deprecated as of 0.18 and support for this behavior will be removed in 0.20.\n",
      "  % type(estimator).__name__, DeprecationWarning)\n",
      "/Library/Python/2.7/site-packages/sklearn/base.py:122: DeprecationWarning: Estimator ColumnExtractor modifies parameters in __init__. This behavior is deprecated as of 0.18 and support for this behavior will be removed in 0.20.\n",
      "  % type(estimator).__name__, DeprecationWarning)\n",
      "/Library/Python/2.7/site-packages/sklearn/base.py:122: DeprecationWarning: Estimator ColumnExtractor modifies parameters in __init__. This behavior is deprecated as of 0.18 and support for this behavior will be removed in 0.20.\n",
      "  % type(estimator).__name__, DeprecationWarning)\n"
     ]
    },
    {
     "data": {
      "text/plain": [
       "GridSearchCV(cv=50, error_score='raise',\n",
       "       estimator=Pipeline(steps=[('featureChoice', <__main__.ColumnExtractor object at 0x117169a90>), ('model', LogisticRegression(C=1.0, class_weight=None, dual=False, fit_intercept=True,\n",
       "          intercept_scaling=1, max_iter=100, multi_class='ovr', n_jobs=1,\n",
       "          penalty='l2', random_state=None, solver='liblinear', tol=0.0001,\n",
       "          verbose=0, warm_start=False))]),\n",
       "       fit_params={}, iid=True, n_jobs=1,\n",
       "       param_grid={'model__C': [0.0001, 0.0003, 0.001, 0.003, 0.01, 0.03, 0.1, 0.3, 1.0, 3.0, 10.0, 30.0]},\n",
       "       pre_dispatch='2*n_jobs', refit=True, return_train_score=True,\n",
       "       scoring=None, verbose=0)"
      ]
     },
     "execution_count": 461,
     "metadata": {},
     "output_type": "execute_result"
    }
   ],
   "source": [
    "grid.fit(trainSet.drop('Survived',axis=1),trainSet['Survived'])"
   ]
  },
  {
   "cell_type": "code",
   "execution_count": 456,
   "metadata": {
    "collapsed": false
   },
   "outputs": [
    {
     "data": {
      "text/plain": [
       "0.74626865671641796"
      ]
     },
     "execution_count": 456,
     "metadata": {},
     "output_type": "execute_result"
    }
   ],
   "source": []
  },
  {
   "cell_type": "code",
   "execution_count": 466,
   "metadata": {
    "collapsed": false
   },
   "outputs": [
    {
     "data": {
      "text/plain": [
       "array([ 0.63081862,  0.63081862,  0.63081862,  0.63081862,  0.71589085,\n",
       "        0.80898876,  0.80738363,  0.80738363,  0.80738363,  0.80898876,\n",
       "        0.80096308,  0.80096308])"
      ]
     },
     "execution_count": 466,
     "metadata": {},
     "output_type": "execute_result"
    }
   ],
   "source": [
    "grid.cv_results_['mean_test_score']"
   ]
  },
  {
   "cell_type": "code",
   "execution_count": 468,
   "metadata": {
    "collapsed": false
   },
   "outputs": [
    {
     "name": "stdout",
     "output_type": "stream",
     "text": [
      "0.808988764045\n"
     ]
    }
   ],
   "source": [
    "print grid.score(trainSet.drop('Survived',1),trainSet['Survived'])"
   ]
  },
  {
   "cell_type": "code",
   "execution_count": 521,
   "metadata": {
    "collapsed": false
   },
   "outputs": [],
   "source": [
    "data['SexClassCat'] = pd.Categorical(data['SexClass'],categories=['F1','F2','F3','M1','M2','M3'],ordered=True)"
   ]
  },
  {
   "cell_type": "code",
   "execution_count": 522,
   "metadata": {
    "collapsed": false
   },
   "outputs": [
    {
     "name": "stdout",
     "output_type": "stream",
     "text": [
      "<class 'pandas.core.frame.DataFrame'>\n",
      "RangeIndex: 891 entries, 0 to 890\n",
      "Data columns (total 18 columns):\n",
      "PassengerId               891 non-null int64\n",
      "Survived                  891 non-null uint8\n",
      "Pclass                    891 non-null int64\n",
      "Name                      891 non-null object\n",
      "Sex                       891 non-null object\n",
      "Age                       714 non-null float64\n",
      "SibSp                     891 non-null int64\n",
      "Parch                     891 non-null int64\n",
      "Ticket                    891 non-null object\n",
      "Fare                      891 non-null float64\n",
      "Cabin                     204 non-null object\n",
      "Embarked                  889 non-null object\n",
      "SexClass                  891 non-null object\n",
      "Agegroup                  891 non-null object\n",
      "FamilyStatusComplete      891 non-null object\n",
      "FamilyStatusSimplified    891 non-null object\n",
      "LogFare                   876 non-null float64\n",
      "SexClassCat               891 non-null category\n",
      "dtypes: category(1), float64(3), int64(4), object(9), uint8(1)\n",
      "memory usage: 113.4+ KB\n",
      "None\n"
     ]
    }
   ],
   "source": []
  },
  {
   "cell_type": "code",
   "execution_count": 523,
   "metadata": {
    "collapsed": false
   },
   "outputs": [
    {
     "data": {
      "text/plain": [
       "0      M3\n",
       "1      F1\n",
       "2      F3\n",
       "3      F1\n",
       "4      M3\n",
       "5      M3\n",
       "6      M1\n",
       "7      M3\n",
       "8      F3\n",
       "9      F2\n",
       "10     F3\n",
       "11     F1\n",
       "12     M3\n",
       "13     M3\n",
       "14     F3\n",
       "15     F2\n",
       "16     M3\n",
       "17     M2\n",
       "18     F3\n",
       "19     F3\n",
       "20     M2\n",
       "21     M2\n",
       "22     F3\n",
       "23     M1\n",
       "24     F3\n",
       "25     F3\n",
       "26     M3\n",
       "27     M1\n",
       "28     F3\n",
       "29     M3\n",
       "       ..\n",
       "861    M2\n",
       "862    F1\n",
       "863    F3\n",
       "864    M2\n",
       "865    F2\n",
       "866    F2\n",
       "867    M1\n",
       "868    M3\n",
       "869    M3\n",
       "870    M3\n",
       "871    F1\n",
       "872    M1\n",
       "873    M3\n",
       "874    F2\n",
       "875    F3\n",
       "876    M3\n",
       "877    M3\n",
       "878    M3\n",
       "879    F1\n",
       "880    F2\n",
       "881    M3\n",
       "882    F3\n",
       "883    M2\n",
       "884    M3\n",
       "885    F3\n",
       "886    M2\n",
       "887    F1\n",
       "888    F3\n",
       "889    M1\n",
       "890    M3\n",
       "Name: SexClassCat, Length: 891, dtype: category\n",
       "Categories (6, object): [F1 < F2 < F3 < M1 < M2 < M3]"
      ]
     },
     "execution_count": 523,
     "metadata": {},
     "output_type": "execute_result"
    }
   ],
   "source": []
  },
  {
   "cell_type": "markdown",
   "metadata": {},
   "source": [
    "# Creating all possible combinations\n",
    "I will create a custom dataset with passengers for every possible combination."
   ]
  },
  {
   "cell_type": "markdown",
   "metadata": {},
   "source": [
    "# FeatureUnion for data transformation"
   ]
  },
  {
   "cell_type": "code",
   "execution_count": 938,
   "metadata": {
    "collapsed": false
   },
   "outputs": [],
   "source": [
    "# def addDummy(dataset,label):\n",
    "#     arr = dataset[label]\n",
    "#     mode = dataset[label].mode()\n",
    "#     dummies = pd.get_dummies(arr).drop([mode[0]],axis=1).rename(columns=lambda x:label+'_'+str(x))\n",
    "#     return dummies\n",
    "from sklearn.pipeline import FeatureUnion,Pipeline,TransformerMixin\n",
    "from sklearn.preprocessing import FunctionTransformer\n",
    "class addDummy(TransformerMixin):\n",
    "    def __init__(self,label):\n",
    "        self.label = label\n",
    "    def fit(self,*args):\n",
    "        return self\n",
    "    def transform(self,X):\n",
    "        mode = X[self.label].mode()\n",
    "        dummies = pd.get_dummies(X[self.label]).drop([mode[0]],axis=1).rename(columns=lambda x:self.label+'_'+str(x))\n",
    "        return dummies\n",
    "    def get_params(self,*args,**kwargs):\n",
    "        return self.label\n",
    "class addFeature(TransformerMixin):\n",
    "    def __init__(self,label):\n",
    "        self.label = label\n",
    "    def fit(self,*args):\n",
    "        return self\n",
    "    def transform(self,X):\n",
    "        return X[[self.label]]\n",
    "    def get_params(self,*args,**kwargs):\n",
    "        return self.label\n",
    "    \n",
    "\n"
   ]
  },
  {
   "cell_type": "code",
   "execution_count": 955,
   "metadata": {
    "collapsed": true
   },
   "outputs": [],
   "source": [
    "# transformer = FeatureUnion([\n",
    "#     ('DummySexClass',addDummy('SexClass')),\n",
    "#     ('DummyAgegroup',addDummy('Agegroup')),\n",
    "#     ('DummyEmbarked',addDummy('Embarked')),\n",
    "#     ('FeatureNickname',addFeature('Nickname')),\n",
    "#     ('FeatureCompanion',addFeature('Companion')),\n",
    "# ])\n",
    "pip = Pipeline([\n",
    "    ('featureChoice',FeatureUnion([\n",
    "        ('DummySexClassAge',addDummy('SexClassAge')),\n",
    "        ('DummyAgegroup',addDummy('Agegroup')),\n",
    "        ('DummyEmbarked',addDummy('Embarked')),\n",
    "        ('FeatureNickname',addFeature('Nickname')),\n",
    "        ('FeatureCompanion',addFeature('Companion')),\n",
    "        ('FeatureName',addFeature('SurnameFrequency')),\n",
    "    ])),\n",
    "    ('model',sklearn.linear_model.LogisticRegression())\n",
    "])"
   ]
  },
  {
   "cell_type": "code",
   "execution_count": 960,
   "metadata": {
    "collapsed": false
   },
   "outputs": [],
   "source": [
    "qq = pip.fit(data.drop('Survived',axis=1),data['Survived'])"
   ]
  },
  {
   "cell_type": "code",
   "execution_count": 961,
   "metadata": {
    "collapsed": false
   },
   "outputs": [
    {
     "name": "stdout",
     "output_type": "stream",
     "text": [
      "(891, 8)\n"
     ]
    }
   ],
   "source": [
    "dm=addDummy('SexClassAge')\n",
    "print dm.transform(data).shape"
   ]
  },
  {
   "cell_type": "code",
   "execution_count": 963,
   "metadata": {
    "collapsed": false
   },
   "outputs": [
    {
     "data": {
      "text/plain": [
       "(891, 16)"
      ]
     },
     "execution_count": 963,
     "metadata": {},
     "output_type": "execute_result"
    }
   ],
   "source": [
    "pip.steps[0][1].transform(data).shape"
   ]
  },
  {
   "cell_type": "code",
   "execution_count": 964,
   "metadata": {
    "collapsed": false
   },
   "outputs": [
    {
     "name": "stdout",
     "output_type": "stream",
     "text": [
      "<class 'pandas.core.frame.DataFrame'>\n",
      "Int64Index: 623 entries, 0 to 890\n",
      "Data columns (total 19 columns):\n",
      "SexClassAge_C1                            623 non-null uint8\n",
      "SexClassAge_C2                            623 non-null uint8\n",
      "SexClassAge_C3                            623 non-null uint8\n",
      "SexClassAge_F1                            623 non-null uint8\n",
      "SexClassAge_F2                            623 non-null uint8\n",
      "SexClassAge_F3                            623 non-null uint8\n",
      "SexClassAge_M1                            623 non-null uint8\n",
      "SexClassAge_M2                            623 non-null uint8\n",
      "Agegroup_child                            623 non-null uint8\n",
      "Agegroup_senior                           623 non-null uint8\n",
      "Agegroup_unknown                          623 non-null uint8\n",
      "FamilyStatus_With parents                 623 non-null uint8\n",
      "FamilyStatus_With parents and siblings    623 non-null uint8\n",
      "FamilyStatus_With siblings                623 non-null uint8\n",
      "Embarked_C                                623 non-null uint8\n",
      "Embarked_Q                                623 non-null uint8\n",
      "Nickname                                  623 non-null uint8\n",
      "Companion                                 623 non-null uint8\n",
      "Survived                                  623 non-null uint8\n",
      "dtypes: uint8(19)\n",
      "memory usage: 36.4 KB\n"
     ]
    }
   ],
   "source": [
    "trainSet.info()"
   ]
  },
  {
   "cell_type": "code",
   "execution_count": null,
   "metadata": {
    "collapsed": true
   },
   "outputs": [],
   "source": []
  }
 ],
 "metadata": {
  "kernelspec": {
   "display_name": "Python 2",
   "language": "python",
   "name": "python2"
  },
  "language_info": {
   "codemirror_mode": {
    "name": "ipython",
    "version": 2
   },
   "file_extension": ".py",
   "mimetype": "text/x-python",
   "name": "python",
   "nbconvert_exporter": "python",
   "pygments_lexer": "ipython2",
   "version": "2.7.10"
  }
 },
 "nbformat": 4,
 "nbformat_minor": 2
}
